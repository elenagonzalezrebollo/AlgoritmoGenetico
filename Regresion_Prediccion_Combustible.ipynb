{
  "nbformat": 4,
  "nbformat_minor": 0,
  "metadata": {
    "kernelspec": {
      "display_name": "Python 3",
      "language": "python",
      "name": "python3"
    },
    "language_info": {
      "codemirror_mode": {
        "name": "ipython",
        "version": 3
      },
      "file_extension": ".py",
      "mimetype": "text/x-python",
      "name": "python",
      "nbconvert_exporter": "python",
      "pygments_lexer": "ipython3",
      "version": "3.5.2"
    },
    "colab": {
      "provenance": [],
      "include_colab_link": true
    },
    "accelerator": "GPU",
    "gpuClass": "standard"
  },
  "cells": [
    {
      "cell_type": "markdown",
      "metadata": {
        "id": "view-in-github",
        "colab_type": "text"
      },
      "source": [
        "<a href=\"https://colab.research.google.com/github/elenagonzalezrebollo/AlgoritmoGenetico/blob/main/Regresion_Prediccion_Combustible.ipynb\" target=\"_parent\"><img src=\"https://colab.research.google.com/assets/colab-badge.svg\" alt=\"Open In Colab\"/></a>"
      ]
    },
    {
      "cell_type": "code",
      "metadata": {
        "id": "iRBADFZigJx2"
      },
      "source": [
        "import pandas as pd\n",
        "import numpy as np\n",
        "import matplotlib.pyplot as plt\n",
        "%matplotlib inline"
      ],
      "execution_count": null,
      "outputs": []
    },
    {
      "cell_type": "markdown",
      "metadata": {
        "id": "nqCdPN_7gJx7"
      },
      "source": [
        "# Prediciendo precios de casas: Un ejemplo de regresion\n",
        "----\n",
        "La **\"regresión\"**, consiste en **predecir** un **valor continuo** de una etiqueta discreta. Por ejemplo, predecir la temperatura de mañana, dados los datos meteorológicos, o predecir el tiempo en que un proyecto de software tardará en completarse, dadas sus especificaciones.\n",
        "\n",
        "**No confundir \"regresión\" con el algoritmo \"regresión logística\"**: confusamente, \"regresión logística\" no es un algoritmo de regresión, es un **algoritmo de clasificación**."
      ]
    },
    {
      "cell_type": "markdown",
      "metadata": {
        "id": "BFyJo1BPgJx-"
      },
      "source": [
        "## El conjunto de datos de Precios de Casas de Boston\n",
        "\n",
        "Vamos a **predecir** el **precio medio** de las **viviendas** en un suburbio determinado de **Boston** a mediados de la década de 1970, dados algunos puntos de datos sobre el suburbio en ese momento, como la **tasa de criminalidad**, la **tasa de impuesto a la propiedad local**, etc.\n",
        "\n",
        "El conjunto de datos que usaremos tiene otra diferencia interesante con nuestros dos ejemplos anteriores: **tiene muy pocos puntos de datos**, solo 506 en total, dividido entre 404 muestras de entrenamiento y 102 muestras de prueba, y **cada \"característica\"** en los datos de entrada (por ejemplo, la tasa de criminalidad) es una característica que tiene una **escala diferente**. Por ejemplo, algunos valores son proporciones, que toman valores entre 0 y 1, otros toman valores entre 1 y 12, otros entre 0 y 100 ... "
      ]
    },
    {
      "cell_type": "code",
      "metadata": {
        "collapsed": true,
        "id": "bYYKrL1wgJyA",
        "colab": {
          "base_uri": "https://localhost:8080/",
          "height": 206
        },
        "outputId": "25965d30-ce2a-4245-c3a2-5fcf31982ae5"
      },
      "source": [
        "from keras.datasets import boston_housing\n",
        "\n",
        "data = pd.read_csv('auto-mpg.csv', encoding='latin-1')\n",
        "data.head()"
      ],
      "execution_count": null,
      "outputs": [
        {
          "output_type": "execute_result",
          "data": {
            "text/plain": [
              "    mpg  cylinders  displacement horsepower  weight  acceleration  model year  \\\n",
              "0  18.0          8         307.0        130    3504          12.0          70   \n",
              "1  15.0          8         350.0        165    3693          11.5          70   \n",
              "2  18.0          8         318.0        150    3436          11.0          70   \n",
              "3  16.0          8         304.0        150    3433          12.0          70   \n",
              "4  17.0          8         302.0        140    3449          10.5          70   \n",
              "\n",
              "   origin                   car name  \n",
              "0       1  chevrolet chevelle malibu  \n",
              "1       1          buick skylark 320  \n",
              "2       1         plymouth satellite  \n",
              "3       1              amc rebel sst  \n",
              "4       1                ford torino  "
            ],
            "text/html": [
              "\n",
              "  <div id=\"df-97a34d6f-d813-405e-b1c3-4e58a0772dcf\">\n",
              "    <div class=\"colab-df-container\">\n",
              "      <div>\n",
              "<style scoped>\n",
              "    .dataframe tbody tr th:only-of-type {\n",
              "        vertical-align: middle;\n",
              "    }\n",
              "\n",
              "    .dataframe tbody tr th {\n",
              "        vertical-align: top;\n",
              "    }\n",
              "\n",
              "    .dataframe thead th {\n",
              "        text-align: right;\n",
              "    }\n",
              "</style>\n",
              "<table border=\"1\" class=\"dataframe\">\n",
              "  <thead>\n",
              "    <tr style=\"text-align: right;\">\n",
              "      <th></th>\n",
              "      <th>mpg</th>\n",
              "      <th>cylinders</th>\n",
              "      <th>displacement</th>\n",
              "      <th>horsepower</th>\n",
              "      <th>weight</th>\n",
              "      <th>acceleration</th>\n",
              "      <th>model year</th>\n",
              "      <th>origin</th>\n",
              "      <th>car name</th>\n",
              "    </tr>\n",
              "  </thead>\n",
              "  <tbody>\n",
              "    <tr>\n",
              "      <th>0</th>\n",
              "      <td>18.0</td>\n",
              "      <td>8</td>\n",
              "      <td>307.0</td>\n",
              "      <td>130</td>\n",
              "      <td>3504</td>\n",
              "      <td>12.0</td>\n",
              "      <td>70</td>\n",
              "      <td>1</td>\n",
              "      <td>chevrolet chevelle malibu</td>\n",
              "    </tr>\n",
              "    <tr>\n",
              "      <th>1</th>\n",
              "      <td>15.0</td>\n",
              "      <td>8</td>\n",
              "      <td>350.0</td>\n",
              "      <td>165</td>\n",
              "      <td>3693</td>\n",
              "      <td>11.5</td>\n",
              "      <td>70</td>\n",
              "      <td>1</td>\n",
              "      <td>buick skylark 320</td>\n",
              "    </tr>\n",
              "    <tr>\n",
              "      <th>2</th>\n",
              "      <td>18.0</td>\n",
              "      <td>8</td>\n",
              "      <td>318.0</td>\n",
              "      <td>150</td>\n",
              "      <td>3436</td>\n",
              "      <td>11.0</td>\n",
              "      <td>70</td>\n",
              "      <td>1</td>\n",
              "      <td>plymouth satellite</td>\n",
              "    </tr>\n",
              "    <tr>\n",
              "      <th>3</th>\n",
              "      <td>16.0</td>\n",
              "      <td>8</td>\n",
              "      <td>304.0</td>\n",
              "      <td>150</td>\n",
              "      <td>3433</td>\n",
              "      <td>12.0</td>\n",
              "      <td>70</td>\n",
              "      <td>1</td>\n",
              "      <td>amc rebel sst</td>\n",
              "    </tr>\n",
              "    <tr>\n",
              "      <th>4</th>\n",
              "      <td>17.0</td>\n",
              "      <td>8</td>\n",
              "      <td>302.0</td>\n",
              "      <td>140</td>\n",
              "      <td>3449</td>\n",
              "      <td>10.5</td>\n",
              "      <td>70</td>\n",
              "      <td>1</td>\n",
              "      <td>ford torino</td>\n",
              "    </tr>\n",
              "  </tbody>\n",
              "</table>\n",
              "</div>\n",
              "      <button class=\"colab-df-convert\" onclick=\"convertToInteractive('df-97a34d6f-d813-405e-b1c3-4e58a0772dcf')\"\n",
              "              title=\"Convert this dataframe to an interactive table.\"\n",
              "              style=\"display:none;\">\n",
              "        \n",
              "  <svg xmlns=\"http://www.w3.org/2000/svg\" height=\"24px\"viewBox=\"0 0 24 24\"\n",
              "       width=\"24px\">\n",
              "    <path d=\"M0 0h24v24H0V0z\" fill=\"none\"/>\n",
              "    <path d=\"M18.56 5.44l.94 2.06.94-2.06 2.06-.94-2.06-.94-.94-2.06-.94 2.06-2.06.94zm-11 1L8.5 8.5l.94-2.06 2.06-.94-2.06-.94L8.5 2.5l-.94 2.06-2.06.94zm10 10l.94 2.06.94-2.06 2.06-.94-2.06-.94-.94-2.06-.94 2.06-2.06.94z\"/><path d=\"M17.41 7.96l-1.37-1.37c-.4-.4-.92-.59-1.43-.59-.52 0-1.04.2-1.43.59L10.3 9.45l-7.72 7.72c-.78.78-.78 2.05 0 2.83L4 21.41c.39.39.9.59 1.41.59.51 0 1.02-.2 1.41-.59l7.78-7.78 2.81-2.81c.8-.78.8-2.07 0-2.86zM5.41 20L4 18.59l7.72-7.72 1.47 1.35L5.41 20z\"/>\n",
              "  </svg>\n",
              "      </button>\n",
              "      \n",
              "  <style>\n",
              "    .colab-df-container {\n",
              "      display:flex;\n",
              "      flex-wrap:wrap;\n",
              "      gap: 12px;\n",
              "    }\n",
              "\n",
              "    .colab-df-convert {\n",
              "      background-color: #E8F0FE;\n",
              "      border: none;\n",
              "      border-radius: 50%;\n",
              "      cursor: pointer;\n",
              "      display: none;\n",
              "      fill: #1967D2;\n",
              "      height: 32px;\n",
              "      padding: 0 0 0 0;\n",
              "      width: 32px;\n",
              "    }\n",
              "\n",
              "    .colab-df-convert:hover {\n",
              "      background-color: #E2EBFA;\n",
              "      box-shadow: 0px 1px 2px rgba(60, 64, 67, 0.3), 0px 1px 3px 1px rgba(60, 64, 67, 0.15);\n",
              "      fill: #174EA6;\n",
              "    }\n",
              "\n",
              "    [theme=dark] .colab-df-convert {\n",
              "      background-color: #3B4455;\n",
              "      fill: #D2E3FC;\n",
              "    }\n",
              "\n",
              "    [theme=dark] .colab-df-convert:hover {\n",
              "      background-color: #434B5C;\n",
              "      box-shadow: 0px 1px 3px 1px rgba(0, 0, 0, 0.15);\n",
              "      filter: drop-shadow(0px 1px 2px rgba(0, 0, 0, 0.3));\n",
              "      fill: #FFFFFF;\n",
              "    }\n",
              "  </style>\n",
              "\n",
              "      <script>\n",
              "        const buttonEl =\n",
              "          document.querySelector('#df-97a34d6f-d813-405e-b1c3-4e58a0772dcf button.colab-df-convert');\n",
              "        buttonEl.style.display =\n",
              "          google.colab.kernel.accessAllowed ? 'block' : 'none';\n",
              "\n",
              "        async function convertToInteractive(key) {\n",
              "          const element = document.querySelector('#df-97a34d6f-d813-405e-b1c3-4e58a0772dcf');\n",
              "          const dataTable =\n",
              "            await google.colab.kernel.invokeFunction('convertToInteractive',\n",
              "                                                     [key], {});\n",
              "          if (!dataTable) return;\n",
              "\n",
              "          const docLinkHtml = 'Like what you see? Visit the ' +\n",
              "            '<a target=\"_blank\" href=https://colab.research.google.com/notebooks/data_table.ipynb>data table notebook</a>'\n",
              "            + ' to learn more about interactive tables.';\n",
              "          element.innerHTML = '';\n",
              "          dataTable['output_type'] = 'display_data';\n",
              "          await google.colab.output.renderOutput(dataTable, element);\n",
              "          const docLink = document.createElement('div');\n",
              "          docLink.innerHTML = docLinkHtml;\n",
              "          element.appendChild(docLink);\n",
              "        }\n",
              "      </script>\n",
              "    </div>\n",
              "  </div>\n",
              "  "
            ]
          },
          "metadata": {},
          "execution_count": 212
        }
      ]
    },
    {
      "cell_type": "code",
      "metadata": {
        "colab": {
          "base_uri": "https://localhost:8080/"
        },
        "id": "1sUM-bABgJyA",
        "outputId": "2b4d5c18-21a5-4379-f739-be46d78c79a5"
      },
      "source": [
        "data.shape"
      ],
      "execution_count": null,
      "outputs": [
        {
          "output_type": "execute_result",
          "data": {
            "text/plain": [
              "(398, 9)"
            ]
          },
          "metadata": {},
          "execution_count": 213
        }
      ]
    },
    {
      "cell_type": "code",
      "source": [
        "data=data.drop(['car name','horsepower'], axis=1)"
      ],
      "metadata": {
        "id": "cqX3JUyScjBg"
      },
      "execution_count": null,
      "outputs": []
    },
    {
      "cell_type": "code",
      "source": [
        "train_targets=data.mpg[:298]\n",
        "test_targets=data.mpg[299:]\n",
        "data=data.drop(['mpg'], axis=1)\n",
        "train_data=data[:298]\n",
        "test_data=data[299:]"
      ],
      "metadata": {
        "id": "dhq0EBnXcr1H"
      },
      "execution_count": null,
      "outputs": []
    },
    {
      "cell_type": "code",
      "source": [
        "train_data.shape"
      ],
      "metadata": {
        "id": "zFk2o7X9csJD",
        "outputId": "c0708ffe-3995-4d9f-cb57-feb901644f9e",
        "colab": {
          "base_uri": "https://localhost:8080/"
        }
      },
      "execution_count": null,
      "outputs": [
        {
          "output_type": "execute_result",
          "data": {
            "text/plain": [
              "(298, 7)"
            ]
          },
          "metadata": {},
          "execution_count": 216
        }
      ]
    },
    {
      "cell_type": "code",
      "source": [
        "train_targets.shape"
      ],
      "metadata": {
        "id": "TGHdJ1v7dPig",
        "outputId": "57929cb3-6338-4b38-c2de-d107c129b077",
        "colab": {
          "base_uri": "https://localhost:8080/"
        }
      },
      "execution_count": null,
      "outputs": [
        {
          "output_type": "execute_result",
          "data": {
            "text/plain": [
              "(298,)"
            ]
          },
          "metadata": {},
          "execution_count": 217
        }
      ]
    },
    {
      "cell_type": "code",
      "metadata": {
        "colab": {
          "base_uri": "https://localhost:8080/"
        },
        "id": "Q26TD3PMgJyC",
        "outputId": "9b81b4f0-39f2-4136-badc-540dee1f4aba"
      },
      "source": [
        "test_data.shape"
      ],
      "execution_count": null,
      "outputs": [
        {
          "output_type": "execute_result",
          "data": {
            "text/plain": [
              "(99, 7)"
            ]
          },
          "metadata": {},
          "execution_count": 218
        }
      ]
    },
    {
      "cell_type": "code",
      "source": [
        "test_targets.shape"
      ],
      "metadata": {
        "id": "mjnmsFSxdQWg",
        "outputId": "ca5f198c-89e1-4ff0-9a34-dceb754fed92",
        "colab": {
          "base_uri": "https://localhost:8080/"
        }
      },
      "execution_count": null,
      "outputs": [
        {
          "output_type": "execute_result",
          "data": {
            "text/plain": [
              "(99,)"
            ]
          },
          "metadata": {},
          "execution_count": 219
        }
      ]
    },
    {
      "cell_type": "code",
      "metadata": {
        "colab": {
          "base_uri": "https://localhost:8080/",
          "height": 81
        },
        "id": "COLhetqKoFS_",
        "outputId": "f3ffe286-714f-45b2-8d8e-78c2c7fd7130"
      },
      "source": [
        "# Las 13 características de la primera casa en el set de entrenamiento\n",
        "train_data[:1]"
      ],
      "execution_count": null,
      "outputs": [
        {
          "output_type": "execute_result",
          "data": {
            "text/plain": [
              "   cylinders  displacement horsepower  weight  acceleration  model year  \\\n",
              "0          8         307.0        130    3504          12.0          70   \n",
              "\n",
              "   origin  \n",
              "0       1  "
            ],
            "text/html": [
              "\n",
              "  <div id=\"df-2d74a3d2-73d9-4514-b358-d9ba4e1ad32e\">\n",
              "    <div class=\"colab-df-container\">\n",
              "      <div>\n",
              "<style scoped>\n",
              "    .dataframe tbody tr th:only-of-type {\n",
              "        vertical-align: middle;\n",
              "    }\n",
              "\n",
              "    .dataframe tbody tr th {\n",
              "        vertical-align: top;\n",
              "    }\n",
              "\n",
              "    .dataframe thead th {\n",
              "        text-align: right;\n",
              "    }\n",
              "</style>\n",
              "<table border=\"1\" class=\"dataframe\">\n",
              "  <thead>\n",
              "    <tr style=\"text-align: right;\">\n",
              "      <th></th>\n",
              "      <th>cylinders</th>\n",
              "      <th>displacement</th>\n",
              "      <th>horsepower</th>\n",
              "      <th>weight</th>\n",
              "      <th>acceleration</th>\n",
              "      <th>model year</th>\n",
              "      <th>origin</th>\n",
              "    </tr>\n",
              "  </thead>\n",
              "  <tbody>\n",
              "    <tr>\n",
              "      <th>0</th>\n",
              "      <td>8</td>\n",
              "      <td>307.0</td>\n",
              "      <td>130</td>\n",
              "      <td>3504</td>\n",
              "      <td>12.0</td>\n",
              "      <td>70</td>\n",
              "      <td>1</td>\n",
              "    </tr>\n",
              "  </tbody>\n",
              "</table>\n",
              "</div>\n",
              "      <button class=\"colab-df-convert\" onclick=\"convertToInteractive('df-2d74a3d2-73d9-4514-b358-d9ba4e1ad32e')\"\n",
              "              title=\"Convert this dataframe to an interactive table.\"\n",
              "              style=\"display:none;\">\n",
              "        \n",
              "  <svg xmlns=\"http://www.w3.org/2000/svg\" height=\"24px\"viewBox=\"0 0 24 24\"\n",
              "       width=\"24px\">\n",
              "    <path d=\"M0 0h24v24H0V0z\" fill=\"none\"/>\n",
              "    <path d=\"M18.56 5.44l.94 2.06.94-2.06 2.06-.94-2.06-.94-.94-2.06-.94 2.06-2.06.94zm-11 1L8.5 8.5l.94-2.06 2.06-.94-2.06-.94L8.5 2.5l-.94 2.06-2.06.94zm10 10l.94 2.06.94-2.06 2.06-.94-2.06-.94-.94-2.06-.94 2.06-2.06.94z\"/><path d=\"M17.41 7.96l-1.37-1.37c-.4-.4-.92-.59-1.43-.59-.52 0-1.04.2-1.43.59L10.3 9.45l-7.72 7.72c-.78.78-.78 2.05 0 2.83L4 21.41c.39.39.9.59 1.41.59.51 0 1.02-.2 1.41-.59l7.78-7.78 2.81-2.81c.8-.78.8-2.07 0-2.86zM5.41 20L4 18.59l7.72-7.72 1.47 1.35L5.41 20z\"/>\n",
              "  </svg>\n",
              "      </button>\n",
              "      \n",
              "  <style>\n",
              "    .colab-df-container {\n",
              "      display:flex;\n",
              "      flex-wrap:wrap;\n",
              "      gap: 12px;\n",
              "    }\n",
              "\n",
              "    .colab-df-convert {\n",
              "      background-color: #E8F0FE;\n",
              "      border: none;\n",
              "      border-radius: 50%;\n",
              "      cursor: pointer;\n",
              "      display: none;\n",
              "      fill: #1967D2;\n",
              "      height: 32px;\n",
              "      padding: 0 0 0 0;\n",
              "      width: 32px;\n",
              "    }\n",
              "\n",
              "    .colab-df-convert:hover {\n",
              "      background-color: #E2EBFA;\n",
              "      box-shadow: 0px 1px 2px rgba(60, 64, 67, 0.3), 0px 1px 3px 1px rgba(60, 64, 67, 0.15);\n",
              "      fill: #174EA6;\n",
              "    }\n",
              "\n",
              "    [theme=dark] .colab-df-convert {\n",
              "      background-color: #3B4455;\n",
              "      fill: #D2E3FC;\n",
              "    }\n",
              "\n",
              "    [theme=dark] .colab-df-convert:hover {\n",
              "      background-color: #434B5C;\n",
              "      box-shadow: 0px 1px 3px 1px rgba(0, 0, 0, 0.15);\n",
              "      filter: drop-shadow(0px 1px 2px rgba(0, 0, 0, 0.3));\n",
              "      fill: #FFFFFF;\n",
              "    }\n",
              "  </style>\n",
              "\n",
              "      <script>\n",
              "        const buttonEl =\n",
              "          document.querySelector('#df-2d74a3d2-73d9-4514-b358-d9ba4e1ad32e button.colab-df-convert');\n",
              "        buttonEl.style.display =\n",
              "          google.colab.kernel.accessAllowed ? 'block' : 'none';\n",
              "\n",
              "        async function convertToInteractive(key) {\n",
              "          const element = document.querySelector('#df-2d74a3d2-73d9-4514-b358-d9ba4e1ad32e');\n",
              "          const dataTable =\n",
              "            await google.colab.kernel.invokeFunction('convertToInteractive',\n",
              "                                                     [key], {});\n",
              "          if (!dataTable) return;\n",
              "\n",
              "          const docLinkHtml = 'Like what you see? Visit the ' +\n",
              "            '<a target=\"_blank\" href=https://colab.research.google.com/notebooks/data_table.ipynb>data table notebook</a>'\n",
              "            + ' to learn more about interactive tables.';\n",
              "          element.innerHTML = '';\n",
              "          dataTable['output_type'] = 'display_data';\n",
              "          await google.colab.output.renderOutput(dataTable, element);\n",
              "          const docLink = document.createElement('div');\n",
              "          docLink.innerHTML = docLinkHtml;\n",
              "          element.appendChild(docLink);\n",
              "        }\n",
              "      </script>\n",
              "    </div>\n",
              "  </div>\n",
              "  "
            ]
          },
          "metadata": {},
          "execution_count": 220
        }
      ]
    },
    {
      "cell_type": "markdown",
      "source": [
        "![image.png](data:image/png;base64,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)"
      ],
      "metadata": {
        "id": "caKdDqWCAxab"
      }
    },
    {
      "cell_type": "markdown",
      "metadata": {
        "id": "eAOFEhZ5gJyC"
      },
      "source": [
        "Tenemos 404 muestras de entrenamiento y 102 muestras de prueba. Los datos comprenden 13 características:\n",
        "\n",
        "1. **Tasa de delincuencia** per cápita.\n",
        "2. **Proporción de terreno residencial** dividido en zonas para lotes de más de 25k pies cuadrados.\n",
        "3. **Proporción de acres comerciales no minoristas** por municipio.\n",
        "4. **Variable ficticia de Charles River** (= 1 si el tramo limita con el río; 0 en caso contrario).\n",
        "5. Concentración de **óxidos nítricos** (partes por 10 millones).\n",
        "6. **Número medio de habitaciones por vivienda**.\n",
        "7. **Proporción de casas/pisos ocupados por sus propietarios** construidas antes de 1940.\n",
        "8. **Distancias ponderadas a cinco centros de empleo** de Boston.\n",
        "9. **Índice de accesibilidad a carreteras** radiales.\n",
        "10. **Tasa de impuesto a la propiedad** de valor total por 10K dólares.\n",
        "11. P**roporción alumnos por profesor** por municipio.\n",
        "12. **1000*(Bk-0,63)^2** donde **Bk** es la **proporción** de **personas de color** por municipio.\n",
        "13. **% bajo estatus** de la población.\n",
        "\n",
        "Los objetivos (**etiquetas**) son los **valores medios de las viviendas** ocupadas por sus propietarios, en miles de dólares:"
      ]
    },
    {
      "cell_type": "code",
      "metadata": {
        "colab": {
          "base_uri": "https://localhost:8080/"
        },
        "id": "eARjgYSKgJyE",
        "outputId": "83f23cf9-038f-4078-9f88-c25b9defc43e"
      },
      "source": [
        "# Los 102 precios medios de los datos de test en miles de $\n",
        "test_targets"
      ],
      "execution_count": null,
      "outputs": [
        {
          "output_type": "execute_result",
          "data": {
            "text/plain": [
              "299    27.2\n",
              "300    23.9\n",
              "301    34.2\n",
              "302    34.5\n",
              "303    31.8\n",
              "       ... \n",
              "393    27.0\n",
              "394    44.0\n",
              "395    32.0\n",
              "396    28.0\n",
              "397    31.0\n",
              "Name: mpg, Length: 99, dtype: float64"
            ]
          },
          "metadata": {},
          "execution_count": 221
        }
      ]
    },
    {
      "cell_type": "markdown",
      "metadata": {
        "id": "buI_GVRHgJyF"
      },
      "source": [
        "Los precios suelen oscilar entre 10K dólares y 50K dólares. Recordar que esto fue a mediados de la década de 1970, y estos precios no se han ajustado por la inflación."
      ]
    },
    {
      "cell_type": "markdown",
      "metadata": {
        "id": "4aM4y9j8gJyG"
      },
      "source": [
        "## Preparando los datos\n",
        "\n",
        "* **Problemático alimentar a una red neuronal con valores que toman rangos tremendamente diferentes** (la **red podría adaptarse automáticamente a datos tan heterogéneos, pero dificultaría el aprendizaje**)\n",
        "* Cuando pase esto debemos hacer una **normalización en relación a las características**: para cada característica en los datos de entrada (una columna en la matriz de datos de entrada), **restamos la media de la característica** y la **dividiremos por la desviación estándar**, de modo que **la característica se centrará alrededor de 0** y tendrá una **desviación estándar unitaria**. Esto se hace fácilmente en Numpy:"
      ]
    },
    {
      "cell_type": "code",
      "metadata": {
        "id": "4xZWwPRKgJyG",
        "colab": {
          "base_uri": "https://localhost:8080/"
        },
        "outputId": "00f86197-b674-4c67-e6d1-d184cd20ae4d"
      },
      "source": [
        "# Normalizamos basándonos en la característica\n",
        "##############################################\n",
        "# Calculamos la media del primer eje de los datos de entrenamiento\n",
        "mean = train_data.mean(axis=0)\n",
        "print(\"##### Media de las 13 características de los datos de entrenamiento ##### \")\n",
        "print(mean)\n",
        "# A los datos de entrenamiento le restamos la media\n",
        "train_data -= mean\n",
        "\n",
        "# Calculamos la desviación estandar del primer eje de los datos de entrenamiento\n",
        "std = train_data.std(axis=0)\n",
        "print(\"##### Desviación estandar de las 13 características de los datos de entrenamiento ##### \")\n",
        "print(std)\n",
        "# A los datos de entrenamiento los dividimos por la desviación estándar\n",
        "train_data /= std\n",
        "print(\"##### Datos de entrenamiento normalizados para la primera casa ##### \")\n",
        "print(train_data[1:])\n",
        "\n",
        "# ¡¡IMPORTANTE!!: USAMOS LA MEDIA Y LA DESVIACIÓN ESTANDAR DE LOS DATOS DE \n",
        "# ENTRENAMIENTO PARA NORMALIZAR EL SET DE DATOS DE LOS DATOS DE TEST \n",
        "test_data -= mean\n",
        "test_data /= std\n",
        "print(\"##### Datos de test normalizados (de la primera casa) con la media y la desviación estándar de los datos de entrenamiento ##### \")\n",
        "print(test_data[1:])"
      ],
      "execution_count": null,
      "outputs": [
        {
          "output_type": "stream",
          "name": "stdout",
          "text": [
            "##### Media de las 13 características de los datos de entrenamiento ##### \n",
            "cylinders          5.808725\n",
            "displacement     214.498322\n",
            "weight          3130.234899\n",
            "acceleration      15.223154\n",
            "model year        74.402685\n",
            "origin             1.473154\n",
            "dtype: float64\n",
            "##### Desviación estandar de las 13 características de los datos de entrenamiento ##### \n",
            "cylinders         1.750514\n",
            "displacement    109.088159\n",
            "horsepower             NaN\n",
            "weight          886.309770\n",
            "acceleration      2.691119\n",
            "model year        2.760763\n",
            "origin            0.739199\n",
            "dtype: float64\n",
            "##### Datos de entrenamiento normalizados para la primera casa ##### \n",
            "     cylinders  displacement horsepower    weight  acceleration  model year  \\\n",
            "1     1.251789      1.242130        NaN  0.634953     -1.383497   -1.594735   \n",
            "2     1.251789      0.948789        NaN  0.344987     -1.569293   -1.594735   \n",
            "3     1.251789      0.820453        NaN  0.341602     -1.197700   -1.594735   \n",
            "4     1.251789      0.802119        NaN  0.359654     -1.755089   -1.594735   \n",
            "5     1.251789      1.966315        NaN  1.366074     -1.940886   -1.594735   \n",
            "..         ...           ...        ...       ...           ...         ...   \n",
            "293  -1.033253     -1.150430        NaN -1.359835     -0.454515    1.665234   \n",
            "294  -1.033253     -1.177931        NaN -1.303421     -0.008604    1.665234   \n",
            "295  -1.033253     -1.067928        NaN -1.371118     -0.305878    1.665234   \n",
            "296  -1.033253     -0.857090        NaN -0.519271     -0.082923    1.665234   \n",
            "297  -0.461993     -0.288742        NaN  0.451044      1.812200    1.665234   \n",
            "\n",
            "       origin  \n",
            "1   -0.640091  \n",
            "2   -0.640091  \n",
            "3   -0.640091  \n",
            "4   -0.640091  \n",
            "5   -0.640091  \n",
            "..        ...  \n",
            "293  0.712725  \n",
            "294  2.065541  \n",
            "295 -0.640091  \n",
            "296 -0.640091  \n",
            "297  0.712725  \n",
            "\n",
            "[297 rows x 7 columns]\n",
            "##### Datos de test normalizados (de la primera casa) con la media y la desviación estándar de los datos de entrenamiento ##### \n",
            "     cylinders  displacement horsepower    weight  acceleration  model year  \\\n",
            "300   1.251789      0.417109        NaN  0.326934      2.592544    1.665234   \n",
            "301  -1.033253     -1.003760        NaN -1.049560     -0.751789    1.665234   \n",
            "302  -1.033253     -1.003760        NaN -1.105973     -0.120082    1.665234   \n",
            "303  -1.033253     -1.187098        NaN -1.252649      1.477766    1.665234   \n",
            "304  -1.033253     -1.132096        NaN -1.128539     -0.194400    1.665234   \n",
            "..         ...           ...        ...       ...           ...         ...   \n",
            "393  -1.033253     -0.682919        NaN -0.383878      0.140033    2.751890   \n",
            "394  -1.033253     -1.077095        NaN -1.128539      3.484367    2.751890   \n",
            "395  -1.033253     -0.728753        NaN -0.942374     -1.346337    2.751890   \n",
            "396  -1.033253     -0.866256        NaN -0.570043      1.254811    2.751890   \n",
            "397  -1.033253     -0.875423        NaN -0.462857      1.552085    2.751890   \n",
            "\n",
            "       origin  \n",
            "300 -0.640091  \n",
            "301 -0.640091  \n",
            "302 -0.640091  \n",
            "303  2.065541  \n",
            "304  0.712725  \n",
            "..        ...  \n",
            "393 -0.640091  \n",
            "394  0.712725  \n",
            "395 -0.640091  \n",
            "396 -0.640091  \n",
            "397 -0.640091  \n",
            "\n",
            "[98 rows x 7 columns]\n"
          ]
        },
        {
          "output_type": "stream",
          "name": "stderr",
          "text": [
            "<ipython-input-222-1f50c9d80af0>:4: FutureWarning: Dropping of nuisance columns in DataFrame reductions (with 'numeric_only=None') is deprecated; in a future version this will raise TypeError.  Select only valid columns before calling the reduction.\n",
            "  mean = train_data.mean(axis=0)\n"
          ]
        }
      ]
    },
    {
      "cell_type": "code",
      "metadata": {
        "colab": {
          "base_uri": "https://localhost:8080/"
        },
        "id": "ikt0j62UybmE",
        "outputId": "54a0c6d7-dc71-43d6-c9cd-0f8f20961095"
      },
      "source": [
        "train_data.shape[1:]"
      ],
      "execution_count": null,
      "outputs": [
        {
          "output_type": "execute_result",
          "data": {
            "text/plain": [
              "(7,)"
            ]
          },
          "metadata": {},
          "execution_count": 223
        }
      ]
    },
    {
      "cell_type": "markdown",
      "metadata": {
        "id": "A1N_hCVugJyG"
      },
      "source": [
        "* Tener en cuenta que las **cantidades** que utilizamos **para normalizar los datos de prueba** se han calculado **utilizando los datos de entrenamiento**. \n",
        "* **Nunca debemos usar** en nuestro flujo de trabajo cualquier **cantidad calculada en los datos de prueba**, **incluso para** algo tan simple como **la normalización de datos**."
      ]
    },
    {
      "cell_type": "markdown",
      "metadata": {
        "id": "BANLBsksgJyH"
      },
      "source": [
        "## Construyendo la red\n",
        "\n",
        "Debido a que hay tan **pocas muestras disponibles**, usaremos una **red muy pequeña** con **dos capas ocultas**, cada una con 64 unidades. En general, **cuantos menos datos de entrenamiento tengamos, peor será el sobreajuste y el uso una red pequeña es una forma de reducir el sobreajuste**."
      ]
    },
    {
      "cell_type": "code",
      "metadata": {
        "collapsed": true,
        "id": "zPJqhzhhgJyH"
      },
      "source": [
        "import tensorflow as tf\n",
        "from keras import models\n",
        "from keras import layers\n",
        "\n",
        "def build_model():\n",
        "    # Porque necesitaremos instanciar el mismo modelo \n",
        "    # múltiples veces, usamos una función para construirlo\n",
        "    model = models.Sequential()\n",
        "    model.add(layers.Dense(64, activation='relu',\n",
        "                           input_shape=(train_data.shape[1],)))\n",
        "    model.add(layers.Dense(64, activation='relu'))\n",
        "    model.add(layers.Dense(1))\n",
        "    # MSE: Mean Squared Error\n",
        "    # MAE: Mean Absolute Error\n",
        "    model.compile(optimizer='rmsprop', loss='mse', \n",
        "                  metrics=[tf.keras.metrics.MeanAbsoluteError()]) # metrics = ['mae']\n",
        "    return model"
      ],
      "execution_count": null,
      "outputs": []
    },
    {
      "cell_type": "markdown",
      "metadata": {
        "id": "anOKKXcxgJyH"
      },
      "source": [
        "* Nuestra red **termina** con **una sola unidad** y **sin activación** (es decir, **será una capa lineal**).\n",
        "* **Configuración típica para la regresión escalar** (es decir, **regresión en la que intentamos predecir un único valor continuo**).\n",
        "  - La aplicación de una **función de activación** **limitaría el rango que puede tomar la salida**; por ejemplo si aplicamos una función de activación \"sigmoide\" a nuestra última capa, la red solo aprendería a predecir valores entre 0 y 1. \n",
        "  - Aquí, porque la última capa es puramente lineal, **la red es libre de aprender a predecir valores en cualquier rango**.\n",
        "* Compilamos la red con la función de pérdida `mse` (**error cuadrático medio**, el cuadrado de la diferencia entre predicciones y los objetivos, una **función de pérdida ampliamente utilizada para problemas de regresión**)\n",
        "* Estamos **monitorizando una nueva métrica durante el entrenamiento**: `mae` **error absoluto medio** (valor absoluto de la diferencia entre las predicciones y los objetivos). Por ejemplo, **un MAE de 0.5 en este problema significaría que nuestras predicciones están equivocadas por 500 dólares en promedio**."
      ]
    },
    {
      "cell_type": "markdown",
      "source": [
        "## Ejercício: Con estos datos, computar el problema con las primeras 3/4 partes de los datos de entrenamiento para entrenar y el último 1/4 de los datos para validación"
      ],
      "metadata": {
        "id": "yu9f82gl1RrB"
      }
    },
    {
      "cell_type": "code",
      "source": [
        "# 1. Hacer aquí las particiones de los datos de entrenamiento\n",
        "partial_train_data = train_data[:223]   #.values.tolist()\n",
        "partial_eval_train_data = train_data[224:]\n",
        "partial_train_targets = train_targets[:223]\n",
        "partial_eval_train_targets = train_targets[224:]"
      ],
      "metadata": {
        "id": "qWOjG1eK1y2F"
      },
      "execution_count": null,
      "outputs": []
    },
    {
      "cell_type": "code",
      "source": [
        "partial_train_data = tf.convert_to_tensor(partial_train_data,dtype = tf.int64 )"
      ],
      "metadata": {
        "id": "3J_51CGznIGv",
        "outputId": "5759edd9-10e3-479d-dd5b-bd14201bfd56",
        "colab": {
          "base_uri": "https://localhost:8080/",
          "height": 325
        }
      },
      "execution_count": null,
      "outputs": [
        {
          "output_type": "error",
          "ename": "ValueError",
          "evalue": "ignored",
          "traceback": [
            "\u001b[0;31m---------------------------------------------------------------------------\u001b[0m",
            "\u001b[0;31mValueError\u001b[0m                                Traceback (most recent call last)",
            "\u001b[0;32m<ipython-input-210-60c337ac4103>\u001b[0m in \u001b[0;36m<module>\u001b[0;34m\u001b[0m\n\u001b[0;32m----> 1\u001b[0;31m \u001b[0mpartial_train_data\u001b[0m \u001b[0;34m=\u001b[0m \u001b[0mtf\u001b[0m\u001b[0;34m.\u001b[0m\u001b[0mconvert_to_tensor\u001b[0m\u001b[0;34m(\u001b[0m\u001b[0mpartial_train_data\u001b[0m\u001b[0;34m,\u001b[0m\u001b[0mdtype\u001b[0m \u001b[0;34m=\u001b[0m \u001b[0mtf\u001b[0m\u001b[0;34m.\u001b[0m\u001b[0mint64\u001b[0m \u001b[0;34m)\u001b[0m\u001b[0;34m\u001b[0m\u001b[0;34m\u001b[0m\u001b[0m\n\u001b[0m",
            "\u001b[0;32m/usr/local/lib/python3.8/dist-packages/tensorflow/python/util/traceback_utils.py\u001b[0m in \u001b[0;36merror_handler\u001b[0;34m(*args, **kwargs)\u001b[0m\n\u001b[1;32m    151\u001b[0m     \u001b[0;32mexcept\u001b[0m \u001b[0mException\u001b[0m \u001b[0;32mas\u001b[0m \u001b[0me\u001b[0m\u001b[0;34m:\u001b[0m\u001b[0;34m\u001b[0m\u001b[0;34m\u001b[0m\u001b[0m\n\u001b[1;32m    152\u001b[0m       \u001b[0mfiltered_tb\u001b[0m \u001b[0;34m=\u001b[0m \u001b[0m_process_traceback_frames\u001b[0m\u001b[0;34m(\u001b[0m\u001b[0me\u001b[0m\u001b[0;34m.\u001b[0m\u001b[0m__traceback__\u001b[0m\u001b[0;34m)\u001b[0m\u001b[0;34m\u001b[0m\u001b[0;34m\u001b[0m\u001b[0m\n\u001b[0;32m--> 153\u001b[0;31m       \u001b[0;32mraise\u001b[0m \u001b[0me\u001b[0m\u001b[0;34m.\u001b[0m\u001b[0mwith_traceback\u001b[0m\u001b[0;34m(\u001b[0m\u001b[0mfiltered_tb\u001b[0m\u001b[0;34m)\u001b[0m \u001b[0;32mfrom\u001b[0m \u001b[0;32mNone\u001b[0m\u001b[0;34m\u001b[0m\u001b[0;34m\u001b[0m\u001b[0m\n\u001b[0m\u001b[1;32m    154\u001b[0m     \u001b[0;32mfinally\u001b[0m\u001b[0;34m:\u001b[0m\u001b[0;34m\u001b[0m\u001b[0;34m\u001b[0m\u001b[0m\n\u001b[1;32m    155\u001b[0m       \u001b[0;32mdel\u001b[0m \u001b[0mfiltered_tb\u001b[0m\u001b[0;34m\u001b[0m\u001b[0;34m\u001b[0m\u001b[0m\n",
            "\u001b[0;32m/usr/local/lib/python3.8/dist-packages/tensorflow/python/framework/constant_op.py\u001b[0m in \u001b[0;36mconvert_to_eager_tensor\u001b[0;34m(value, ctx, dtype)\u001b[0m\n\u001b[1;32m    100\u001b[0m       \u001b[0mdtype\u001b[0m \u001b[0;34m=\u001b[0m \u001b[0mdtypes\u001b[0m\u001b[0;34m.\u001b[0m\u001b[0mas_dtype\u001b[0m\u001b[0;34m(\u001b[0m\u001b[0mdtype\u001b[0m\u001b[0;34m)\u001b[0m\u001b[0;34m.\u001b[0m\u001b[0mas_datatype_enum\u001b[0m\u001b[0;34m\u001b[0m\u001b[0;34m\u001b[0m\u001b[0m\n\u001b[1;32m    101\u001b[0m   \u001b[0mctx\u001b[0m\u001b[0;34m.\u001b[0m\u001b[0mensure_initialized\u001b[0m\u001b[0;34m(\u001b[0m\u001b[0;34m)\u001b[0m\u001b[0;34m\u001b[0m\u001b[0;34m\u001b[0m\u001b[0m\n\u001b[0;32m--> 102\u001b[0;31m   \u001b[0;32mreturn\u001b[0m \u001b[0mops\u001b[0m\u001b[0;34m.\u001b[0m\u001b[0mEagerTensor\u001b[0m\u001b[0;34m(\u001b[0m\u001b[0mvalue\u001b[0m\u001b[0;34m,\u001b[0m \u001b[0mctx\u001b[0m\u001b[0;34m.\u001b[0m\u001b[0mdevice_name\u001b[0m\u001b[0;34m,\u001b[0m \u001b[0mdtype\u001b[0m\u001b[0;34m)\u001b[0m\u001b[0;34m\u001b[0m\u001b[0;34m\u001b[0m\u001b[0m\n\u001b[0m\u001b[1;32m    103\u001b[0m \u001b[0;34m\u001b[0m\u001b[0m\n\u001b[1;32m    104\u001b[0m \u001b[0;34m\u001b[0m\u001b[0m\n",
            "\u001b[0;31mValueError\u001b[0m: cannot convert float NaN to integer"
          ]
        }
      ]
    },
    {
      "cell_type": "code",
      "source": [
        "partial_train_data.shape"
      ],
      "metadata": {
        "id": "-mmmDKFKfiof",
        "outputId": "1010ab94-0a70-4551-fbf0-5e6d2163c9ee",
        "colab": {
          "base_uri": "https://localhost:8080/"
        }
      },
      "execution_count": null,
      "outputs": [
        {
          "output_type": "execute_result",
          "data": {
            "text/plain": [
              "(223, 7)"
            ]
          },
          "metadata": {},
          "execution_count": 208
        }
      ]
    },
    {
      "cell_type": "code",
      "source": [
        "partial_eval_train_data.shape"
      ],
      "metadata": {
        "id": "ZzssCszZfi6P"
      },
      "execution_count": null,
      "outputs": []
    },
    {
      "cell_type": "code",
      "source": [
        "partial_train_targets.shape"
      ],
      "metadata": {
        "id": "8xiZVeXtkE7u"
      },
      "execution_count": null,
      "outputs": []
    },
    {
      "cell_type": "code",
      "source": [
        "partial_eval_train_targets.shape"
      ],
      "metadata": {
        "id": "R_eBbKLBkFgA"
      },
      "execution_count": null,
      "outputs": []
    },
    {
      "cell_type": "code",
      "source": [
        "type(partial_train_data)"
      ],
      "metadata": {
        "id": "9HOkEDP4jHuY",
        "outputId": "4542ba0c-b51d-4d36-bee4-2de8485a4e6e",
        "colab": {
          "base_uri": "https://localhost:8080/"
        }
      },
      "execution_count": null,
      "outputs": [
        {
          "output_type": "execute_result",
          "data": {
            "text/plain": [
              "list"
            ]
          },
          "metadata": {},
          "execution_count": 195
        }
      ]
    },
    {
      "cell_type": "code",
      "source": [],
      "metadata": {
        "id": "hlweapjJlstw"
      },
      "execution_count": null,
      "outputs": []
    },
    {
      "cell_type": "code",
      "source": [
        "# 2. Entrenar el modelo con 100 épocas y un batch_size=1\n",
        "mymodel = build_model()"
      ],
      "metadata": {
        "id": "mGNuQ3Cv2Hyz"
      },
      "execution_count": null,
      "outputs": []
    },
    {
      "cell_type": "code",
      "source": [
        "history = mymodel.fit(partial_train_data, partial_train_targets,\n",
        "            validation_data=(partial_eval_train_data, partial_eval_train_targets),\n",
        "                        epochs=100, batch_size=1)"
      ],
      "metadata": {
        "id": "GHVROQgCe7pK",
        "outputId": "83a31acd-4fc0-403b-a14a-36ce7f72f593",
        "colab": {
          "base_uri": "https://localhost:8080/",
          "height": 528
        }
      },
      "execution_count": null,
      "outputs": [
        {
          "output_type": "stream",
          "name": "stdout",
          "text": [
            "Epoch 1/100\n",
            "223/223 [==============================] - 2s 5ms/step - loss: nan - mean_absolute_error: nan - val_loss: nan - val_mean_absolute_error: nan\n",
            "Epoch 2/100\n",
            "223/223 [==============================] - 1s 3ms/step - loss: nan - mean_absolute_error: nan - val_loss: nan - val_mean_absolute_error: nan\n",
            "Epoch 3/100\n",
            "223/223 [==============================] - 1s 3ms/step - loss: nan - mean_absolute_error: nan - val_loss: nan - val_mean_absolute_error: nan\n",
            "Epoch 4/100\n",
            "223/223 [==============================] - 1s 3ms/step - loss: nan - mean_absolute_error: nan - val_loss: nan - val_mean_absolute_error: nan\n"
          ]
        },
        {
          "output_type": "error",
          "ename": "KeyboardInterrupt",
          "evalue": "ignored",
          "traceback": [
            "\u001b[0;31m---------------------------------------------------------------------------\u001b[0m",
            "\u001b[0;31mKeyboardInterrupt\u001b[0m                         Traceback (most recent call last)",
            "\u001b[0;32m<ipython-input-204-ec5e02d7162c>\u001b[0m in \u001b[0;36m<module>\u001b[0;34m\u001b[0m\n\u001b[0;32m----> 1\u001b[0;31m history = mymodel.fit(partial_train_data, partial_train_targets,\n\u001b[0m\u001b[1;32m      2\u001b[0m             \u001b[0mvalidation_data\u001b[0m\u001b[0;34m=\u001b[0m\u001b[0;34m(\u001b[0m\u001b[0mpartial_eval_train_data\u001b[0m\u001b[0;34m,\u001b[0m \u001b[0mpartial_eval_train_targets\u001b[0m\u001b[0;34m)\u001b[0m\u001b[0;34m,\u001b[0m\u001b[0;34m\u001b[0m\u001b[0;34m\u001b[0m\u001b[0m\n\u001b[1;32m      3\u001b[0m                         epochs=100, batch_size=1)\n",
            "\u001b[0;32m/usr/local/lib/python3.8/dist-packages/keras/utils/traceback_utils.py\u001b[0m in \u001b[0;36merror_handler\u001b[0;34m(*args, **kwargs)\u001b[0m\n\u001b[1;32m     62\u001b[0m     \u001b[0mfiltered_tb\u001b[0m \u001b[0;34m=\u001b[0m \u001b[0;32mNone\u001b[0m\u001b[0;34m\u001b[0m\u001b[0;34m\u001b[0m\u001b[0m\n\u001b[1;32m     63\u001b[0m     \u001b[0;32mtry\u001b[0m\u001b[0;34m:\u001b[0m\u001b[0;34m\u001b[0m\u001b[0;34m\u001b[0m\u001b[0m\n\u001b[0;32m---> 64\u001b[0;31m       \u001b[0;32mreturn\u001b[0m \u001b[0mfn\u001b[0m\u001b[0;34m(\u001b[0m\u001b[0;34m*\u001b[0m\u001b[0margs\u001b[0m\u001b[0;34m,\u001b[0m \u001b[0;34m**\u001b[0m\u001b[0mkwargs\u001b[0m\u001b[0;34m)\u001b[0m\u001b[0;34m\u001b[0m\u001b[0;34m\u001b[0m\u001b[0m\n\u001b[0m\u001b[1;32m     65\u001b[0m     \u001b[0;32mexcept\u001b[0m \u001b[0mException\u001b[0m \u001b[0;32mas\u001b[0m \u001b[0me\u001b[0m\u001b[0;34m:\u001b[0m  \u001b[0;31m# pylint: disable=broad-except\u001b[0m\u001b[0;34m\u001b[0m\u001b[0;34m\u001b[0m\u001b[0m\n\u001b[1;32m     66\u001b[0m       \u001b[0mfiltered_tb\u001b[0m \u001b[0;34m=\u001b[0m \u001b[0m_process_traceback_frames\u001b[0m\u001b[0;34m(\u001b[0m\u001b[0me\u001b[0m\u001b[0;34m.\u001b[0m\u001b[0m__traceback__\u001b[0m\u001b[0;34m)\u001b[0m\u001b[0;34m\u001b[0m\u001b[0;34m\u001b[0m\u001b[0m\n",
            "\u001b[0;32m/usr/local/lib/python3.8/dist-packages/keras/engine/training.py\u001b[0m in \u001b[0;36mfit\u001b[0;34m(self, x, y, batch_size, epochs, verbose, callbacks, validation_split, validation_data, shuffle, class_weight, sample_weight, initial_epoch, steps_per_epoch, validation_steps, validation_batch_size, validation_freq, max_queue_size, workers, use_multiprocessing)\u001b[0m\n\u001b[1;32m   1395\u001b[0m       \u001b[0mlogs\u001b[0m \u001b[0;34m=\u001b[0m \u001b[0;32mNone\u001b[0m\u001b[0;34m\u001b[0m\u001b[0;34m\u001b[0m\u001b[0m\n\u001b[1;32m   1396\u001b[0m       \u001b[0;32mfor\u001b[0m \u001b[0mepoch\u001b[0m\u001b[0;34m,\u001b[0m \u001b[0miterator\u001b[0m \u001b[0;32min\u001b[0m \u001b[0mdata_handler\u001b[0m\u001b[0;34m.\u001b[0m\u001b[0menumerate_epochs\u001b[0m\u001b[0;34m(\u001b[0m\u001b[0;34m)\u001b[0m\u001b[0;34m:\u001b[0m\u001b[0;34m\u001b[0m\u001b[0;34m\u001b[0m\u001b[0m\n\u001b[0;32m-> 1397\u001b[0;31m         \u001b[0mself\u001b[0m\u001b[0;34m.\u001b[0m\u001b[0mreset_metrics\u001b[0m\u001b[0;34m(\u001b[0m\u001b[0;34m)\u001b[0m\u001b[0;34m\u001b[0m\u001b[0;34m\u001b[0m\u001b[0m\n\u001b[0m\u001b[1;32m   1398\u001b[0m         \u001b[0mcallbacks\u001b[0m\u001b[0;34m.\u001b[0m\u001b[0mon_epoch_begin\u001b[0m\u001b[0;34m(\u001b[0m\u001b[0mepoch\u001b[0m\u001b[0;34m)\u001b[0m\u001b[0;34m\u001b[0m\u001b[0;34m\u001b[0m\u001b[0m\n\u001b[1;32m   1399\u001b[0m         \u001b[0;32mwith\u001b[0m \u001b[0mdata_handler\u001b[0m\u001b[0;34m.\u001b[0m\u001b[0mcatch_stop_iteration\u001b[0m\u001b[0;34m(\u001b[0m\u001b[0;34m)\u001b[0m\u001b[0;34m:\u001b[0m\u001b[0;34m\u001b[0m\u001b[0;34m\u001b[0m\u001b[0m\n",
            "\u001b[0;31mKeyboardInterrupt\u001b[0m: "
          ]
        }
      ]
    },
    {
      "cell_type": "code",
      "source": [
        "mae_history = history.history['val_mean_absolute_error']"
      ],
      "metadata": {
        "id": "KhUNCveZfVTm"
      },
      "execution_count": null,
      "outputs": []
    },
    {
      "cell_type": "code",
      "source": [
        "mse_history = history.history['val_loss']"
      ],
      "metadata": {
        "id": "jUlS-oSnfyNc"
      },
      "execution_count": null,
      "outputs": []
    },
    {
      "cell_type": "code",
      "source": [
        "# 3. Confrontar en una gráfica de épocas en el eje de abcisas contra pérdida (MSE) en\n",
        "# el eje de ordenadas\n",
        "import matplotlib.pyplot as plt\n",
        "\n",
        "plt.plot(range(1, len(mse_history) + 1), mse_history)\n",
        "plt.xlabel('Epochs')\n",
        "plt.ylabel('Validación MSE')\n",
        "plt.show()"
      ],
      "metadata": {
        "id": "OifyWZUE2NZT"
      },
      "execution_count": null,
      "outputs": []
    },
    {
      "cell_type": "code",
      "source": [
        "import matplotlib.pyplot as plt\n",
        "\n",
        "loss = history.history['loss']\n",
        "val_loss = history.history['val_loss']\n",
        "\n",
        "epochs = range(1, len(loss) + 1)\n",
        "\n",
        "plt.plot(epochs, loss, 'bo', label='Pérdida del entreno')\n",
        "plt.plot(epochs, val_loss, 'b', label='Pérdida de la validación')\n",
        "plt.title('Perdidas del entreno y la validación')\n",
        "plt.xlabel('Épocas')\n",
        "plt.ylabel('Pérdida')\n",
        "plt.legend()\n",
        "\n",
        "plt.show()"
      ],
      "metadata": {
        "id": "9HGPkiiihYxM"
      },
      "execution_count": null,
      "outputs": []
    },
    {
      "cell_type": "code",
      "source": [
        "# 4. Confrontar en una gráfica de épocas en el eje de abcisas contra la métrica de \n",
        "# error absoluto medio (MAE) \n",
        "import matplotlib.pyplot as plt\n",
        "\n",
        "plt.plot(range(1, len(mae_history) + 1), mae_history)\n",
        "plt.xlabel('Epochs')\n",
        "plt.ylabel('Validación MAE')\n",
        "plt.show()"
      ],
      "metadata": {
        "id": "NxQwRwJe2osY"
      },
      "execution_count": null,
      "outputs": []
    },
    {
      "cell_type": "code",
      "source": [
        "import matplotlib.pyplot as plt\n",
        "\n",
        "loss = history.history['mean_absolute_error']\n",
        "val_loss = history.history['val_mean_absolute_error']\n",
        "\n",
        "epochs = range(1, len(loss) + 1)\n",
        "\n",
        "plt.plot(epochs, loss, 'bo', label='Pérdida del entreno')\n",
        "plt.plot(epochs, val_loss, 'b', label='Pérdida de la validación')\n",
        "plt.title('Perdidas del entreno y la validación')\n",
        "plt.xlabel('Épocas')\n",
        "plt.ylabel('Pérdida')\n",
        "plt.legend()\n",
        "\n",
        "plt.show()"
      ],
      "metadata": {
        "id": "1sTNToDNiEaZ"
      },
      "execution_count": null,
      "outputs": []
    },
    {
      "cell_type": "code",
      "source": [
        "# 5. Entrenar de nuevo el modelo el número de épocas adecuado para evitar overfitting\n",
        "mymodel2 = build_model()\n",
        "history2 = mymodel2.fit(partial_train_data, partial_train_targets,\n",
        "            validation_data=(partial_eval_train_data, partial_eval_train_targets),\n",
        "                        epochs=20, batch_size=1)"
      ],
      "metadata": {
        "id": "6cvRubZi3CbQ"
      },
      "execution_count": null,
      "outputs": []
    },
    {
      "cell_type": "code",
      "source": [
        "mae_history2 = history2.history['val_mean_absolute_error']\n",
        "mse_history2 = history2.history['val_loss']\n",
        "\n",
        "import matplotlib.pyplot as plt\n",
        "\n",
        "plt.plot(range(1, len(mse_history2) + 1), mse_history2)\n",
        "plt.xlabel('Epochs')\n",
        "plt.ylabel('Validación MSE')\n",
        "plt.show()\n",
        "\n",
        "import matplotlib.pyplot as plt\n",
        "\n",
        "plt.plot(range(1, len(mae_history2) + 1), mae_history2)\n",
        "plt.xlabel('Epochs')\n",
        "plt.ylabel('Validación MAE')\n",
        "plt.show()"
      ],
      "metadata": {
        "id": "lS7JwpLpgkUH"
      },
      "execution_count": null,
      "outputs": []
    },
    {
      "cell_type": "markdown",
      "metadata": {
        "id": "VowcLAwegJyI"
      },
      "source": [
        "## Validando nuestro enfoque usando la **validación K-fold o K-iteraciones**\n",
        "\n",
        "* Para evaluar nuestra red mientras seguimos ajustando sus parámetros en pleno entrenamiento(número de épocas o iteraciones), **podríamos dividir** los datos en un conjunto de **entrenamiento** y un conjunto de **validación**.\n",
        "* Como tenemos tan **pocos datos**, conjunto de validación sería muy pequeño\n",
        "  - Consecuencia: nuestras **puntuaciones de validación** pueden **cambiar mucho dependiendo de los puntos de datos que elijamos** usar para la validación y cuales elijamos para el  entrenamiento (**las puntuaciones de validación podrían tener alta varianza con respecto a la división de validación**). Esto **impide una evaluación fiable del modelo**.\n",
        "* En estos casos utilizamos la **validación cruzada de K-fold (k-iteraciones)**:\n",
        "  - Consiste en **dividir los datos disponibles en K particiones** (típicamente **K = 4** o **5**)\n",
        "  - Luego utilizando **instancias de K modelos idénticos** y entrenando cada uno en K-1 particiones mientras se evalúa la partición restante. \n",
        "* La puntuación de la validación para el modelo utilizado sería entonces el **promedio de las puntuaciones de las K validaciones obtenidas**."
      ]
    },
    {
      "cell_type": "markdown",
      "metadata": {
        "id": "tS_FBrFu-Ea5"
      },
      "source": [
        "![k_fold.JPG](data:image/jpeg;base64,/9j/4AAQSkZJRgABAQEAYABgAAD/4RD0RXhpZgAATU0AKgAAAAgABAE7AAIAAAAOAAAISodpAAQAAAABAAAIWJydAAEAAAAcAAAQ0OocAAcAAAgMAAAAPgAAAAAc6gAAAAgAAAAAAAAAAAAAAAAAAAAAAAAAAAAAAAAAAAAAAAAAAAAAAAAAAAAAAAAAAAAAAAAAAAAAAAAAAAAAAAAAAAAAAAAAAAAAAAAAAAAAAAAAAAAAAAAAAAAAAAAAAAAAAAAAAAAAAAAAAAAAAAAAAAAAAAAAAAAAAAAAAAAAAAAAAAAAAAAAAAAAAAAAAAAAAAAAAAAAAAAAAAAAAAAAAAAAAAAAAAAAAAAAAAAAAAAAAAAAAAAAAAAAAAAAAAAAAAAAAAAAAAAAAAAAAAAAAAAAAAAAAAAAAAAAAAAAAAAAAAAAAAAAAAAAAAAAAAAAAAAAAAAAAAAAAAAAAAAAAAAAAAAAAAAAAAAAAAAAAAAAAAAAAAAAAAAAAAAAAAAAAAAAAAAAAAAAAAAAAAAAAAAAAAAAAAAAAAAAAAAAAAAAAAAAAAAAAAAAAAAAAAAAAAAAAAAAAAAAAAAAAAAAAAAAAAAAAAAAAAAAAAAAAAAAAAAAAAAAAAAAAAAAAAAAAAAAAAAAAAAAAAAAAAAAAAAAAAAAAAAAAAAAAAAAAAAAAAAAAAAAAAAAAAAAAAAAAAAAAAAAAAAAAAAAAAAAAAAAAAAAAAAAAAAAAAAAAAAAAAAAAAAAAAAAAAAAAAAAAAAAAAAAAAAAAAAAAAAAAAAAAAAAAAAAAAAAAAAAAAAAAAAAAAAAAAAAAAAAAAAAAAAAAAAAAAAAAAAAAAAAAAAAAAAAAAAAAAAAAAAAAAAAAAAAAAAAAAAAAAAAAAAAAAAAAAAAAAAAAAAAAAAAAAAAAAAAAAAAAAAAAAAAAAAAAAAAAAAAAAAAAAAAAAAAAAAAAAAAAAAAAAAAAAAAAAAAAAAAAAAAAAAAAAAAAAAAAAAAAAAAAAAAAAAAAAAAAAAAAAAAAAAAAAAAAAAAAAAAAAAAAAAAAAAAAAAAAAAAAAAAAAAAAAAAAAAAAAAAAAAAAAAAAAAAAAAAAAAAAAAAAAAAAAAAAAAAAAAAAAAAAAAAAAAAAAAAAAAAAAAAAAAAAAAAAAAAAAAAAAAAAAAAAAAAAAAAAAAAAAAAAAAAAAAAAAAAAAAAAAAAAAAAAAAAAAAAAAAAAAAAAAAAAAAAAAAAAAAAAAAAAAAAAAAAAAAAAAAAAAAAAAAAAAAAAAAAAAAAAAAAAAAAAAAAAAAAAAAAAAAAAAAAAAAAAAAAAAAAAAAAAAAAAAAAAAAAAAAAAAAAAAAAAAAAAAAAAAAAAAAAAAAAAAAAAAAAAAAAAAAAAAAAAAAAAAAAAAAAAAAAAAAAAAAAAAAAAAAAAAAAAAAAAAAAAAAAAAAAAAAAAAAAAAAAAAAAAAAAAAAAAAAAAAAAAAAAAAAAAAAAAAAAAAAAAAAAAAAAAAAAAAAAAAAAAAAAAAAAAAAAAAAAAAAAAAAAAAAAAAAAAAAAAAAAAAAAAAAAAAAAAAAAAAAAAAAAAAAAAAAAAAAAAAAAAAAAAAAAAAAAAAAAAAAAAAAAAAAAAAAAAAAAAAAAAAAAAAAAAAAAAAAAAAAAAAAAAAAAAAAAAAAAAAAAAAAAAAAAAAAAAAAAAAAAAAAAAAAAAAAAAAAAAAAAAAAAAAAAAAAAAAAAAAAAAAAAAAAAAAAAAAAAAAAAAAAAAAAAAAAAAAAAAAAAAAAAAAAAAAAAAAAAAAAAAAAAAAAAAAAAAAAAAAAAAAAAAAAAAAAAAAAAAAAAAAAAAAAAAAAAAAAAAAAAAAAAAAAAAAAAAAAAAAAAAAAAAAAAAAAAAAAAAAAAAAAAAAAAAAAAAAAAAAAAAAAAAAAAAAAAAAAAAAAAAAAAAAAAAAAAAAAAAAAAAAAAAAAAAAAAAAAAAAAAAAAAAAAAAAAAAAAAAAAAAAAAAAAAAAAAAAAAAAAAAAAAAAAAAAAAAAAAAAAAAAAAAAAAAAAAAAAAAAAAAAAAAAAAAAAAAAAAAAAAAAAAAAAAAAAAAAAAAAAAAAAAAAAAAAAAAAAAAAAAAAAAAAAAAAAAAAAAAAAAAAAAAAAAAAAAAAAAAAAAAAAAAAAAAAAAAAAAAAAAAAAAAAAAAAAAAAAAAAAAAAAAAAAAAAAAAAAAAAAAAAAAAAAAAAAAAAAAAAAAAAAAAAAAAAAAAAAAAAAAAAAAAAAAAAAAAAAAAAAAAAAAAAAAAAAAAAAAAAAAAAAAAAAAAAAAAAAAAAAAAAAAAAAAAAAAAAAAAAAAAAAAAAAAAAAAAAAAAAAAAAAAAAAAAAAAAAAAAAAAAAAAAAAAAAAAAAAAAAAAAAAAAAAAAAAAAAAAAAAAAAAAAAAAAAAAAAAAAAAAAAAAAAAAAAAAAAAAAAAAAAAAAAAAAAAAAAAAAAAAAAAAAAAAAAAAAAAAAAAAAAAAAAAAAAAAAAAAAAAAAAAAAAAAAAAAAAAAAAAAAAAAAAAAAAAAAAAAAAAAAAAAAAAAAAAAAAAAAAAAAAAAAAAAAAAAAAAAAAAAAAAAAAAAAAAAAAAAAAAAAAAAAAAAAAAAAAAAAAAAAAAAAAAAAAAAAAAAAAAAAAAAAAAAAAAAAAAAAAAAAAAAAAAAAAAAAAAAAAAAAAAAAAAAAAAAAAAAAAAAAAAAAAAAAAAAAAAAAAAAAAAAAAAAAAAAAAAAAAAAAAAAAAAAAAAAAAAAAAAAAAAAAAAAAAAAAAAAAAAAAAAAAAAAAAAAAAAAAAAAAAAAAAAAAAAAAAAAAAAAAAAAAAAAAAAAAAAAAAAAAAAAAAAAAENhcmxvcyBSYWJhem8AAAWQAwACAAAAFAAAEKaQBAACAAAAFAAAELqSkQACAAAAAzQyAACSkgACAAAAAzQyAADqHAAHAAAIDAAACJoAAAAAHOoAAAAIAAAAAAAAAAAAAAAAAAAAAAAAAAAAAAAAAAAAAAAAAAAAAAAAAAAAAAAAAAAAAAAAAAAAAAAAAAAAAAAAAAAAAAAAAAAAAAAAAAAAAAAAAAAAAAAAAAAAAAAAAAAAAAAAAAAAAAAAAAAAAAAAAAAAAAAAAAAAAAAAAAAAAAAAAAAAAAAAAAAAAAAAAAAAAAAAAAAAAAAAAAAAAAAAAAAAAAAAAAAAAAAAAAAAAAAAAAAAAAAAAAAAAAAAAAAAAAAAAAAAAAAAAAAAAAAAAAAAAAAAAAAAAAAAAAAAAAAAAAAAAAAAAAAAAAAAAAAAAAAAAAAAAAAAAAAAAAAAAAAAAAAAAAAAAAAAAAAAAAAAAAAAAAAAAAAAAAAAAAAAAAAAAAAAAAAAAAAAAAAAAAAAAAAAAAAAAAAAAAAAAAAAAAAAAAAAAAAAAAAAAAAAAAAAAAAAAAAAAAAAAAAAAAAAAAAAAAAAAAAAAAAAAAAAAAAAAAAAAAAAAAAAAAAAAAAAAAAAAAAAAAAAAAAAAAAAAAAAAAAAAAAAAAAAAAAAAAAAAAAAAAAAAAAAAAAAAAAAAAAAAAAAAAAAAAAAAAAAAAAAAAAAAAAAAAAAAAAAAAAAAAAAAAAAAAAAAAAAAAAAAAAAAAAAAAAAAAAAAAAAAAAAAAAAAAAAAAAAAAAAAAAAAAAAAAAAAAAAAAAAAAAAAAAAAAAAAAAAAAAAAAAAAAAAAAAAAAAAAAAAAAAAAAAAAAAAAAAAAAAAAAAAAAAAAAAAAAAAAAAAAAAAAAAAAAAAAAAAAAAAAAAAAAAAAAAAAAAAAAAAAAAAAAAAAAAAAAAAAAAAAAAAAAAAAAAAAAAAAAAAAAAAAAAAAAAAAAAAAAAAAAAAAAAAAAAAAAAAAAAAAAAAAAAAAAAAAAAAAAAAAAAAAAAAAAAAAAAAAAAAAAAAAAAAAAAAAAAAAAAAAAAAAAAAAAAAAAAAAAAAAAAAAAAAAAAAAAAAAAAAAAAAAAAAAAAAAAAAAAAAAAAAAAAAAAAAAAAAAAAAAAAAAAAAAAAAAAAAAAAAAAAAAAAAAAAAAAAAAAAAAAAAAAAAAAAAAAAAAAAAAAAAAAAAAAAAAAAAAAAAAAAAAAAAAAAAAAAAAAAAAAAAAAAAAAAAAAAAAAAAAAAAAAAAAAAAAAAAAAAAAAAAAAAAAAAAAAAAAAAAAAAAAAAAAAAAAAAAAAAAAAAAAAAAAAAAAAAAAAAAAAAAAAAAAAAAAAAAAAAAAAAAAAAAAAAAAAAAAAAAAAAAAAAAAAAAAAAAAAAAAAAAAAAAAAAAAAAAAAAAAAAAAAAAAAAAAAAAAAAAAAAAAAAAAAAAAAAAAAAAAAAAAAAAAAAAAAAAAAAAAAAAAAAAAAAAAAAAAAAAAAAAAAAAAAAAAAAAAAAAAAAAAAAAAAAAAAAAAAAAAAAAAAAAAAAAAAAAAAAAAAAAAAAAAAAAAAAAAAAAAAAAAAAAAAAAAAAAAAAAAAAAAAAAAAAAAAAAAAAAAAAAAAAAAAAAAAAAAAAAAAAAAAAAAAAAAAAAAAAAAAAAAAAAAAAAAAAAAAAAAAAAAAAAAAAAAAAAAAAAAAAAAAAAAAAAAAAAAAAAAAAAAAAAAAAAAAAAAAAAAAAAAAAAAAAAAAAAAAAAAAAAAAAAAAAAAAAAAAAAAAAAAAAAAAAAAAAAAAAAAAAAAAAAAAAAAAAAAAAAAAAAAAAAAAAAAAAAAAAAAAAAAAAAAAAAAAAAAAAAAAAAAAAAAAAAAAAAAAAAAAAAAAAAAAAAAAAAAAAAAAAAAAAAAAAAAAAAAAAAAAAAAAAAAAAAAAAAAAAAAAAAAAAAAAAAAAAAAAAAAAAAAAAAAAAAAAAAAAAAAAAAAAAAAAAAAAAAAAAAAAAAAAAAAAAAAAAAAAAAAAAAAAAAAAAAAAAAAAAAAAAAAAAAAAAAAAAAAAAAAAAAAAAAAAAAAAAAAAAAAAAAAAAAAAAAAAAAAAAAAAAAAAAAAAAAAAAAAAAAAAAAAAAAAAAAAAAAAAAAAAAAAAAAAAAAAAAAAAAAAAAAAAAAAAAAAAAAAAAAAAAAAAAAAAAAAAAAAAAAAAAAAAAAAAAAAAAAAAAAAAAAAAAAAAAAAAAAAAAAAAAAAAAAAAAAAAAAAAAAAAAAAAAAAAAAAAAAAAAAAAAAAAAAAAAAAAAAAAAAAAAAAAAAAAAAAAAAAAAAAAAAAAAAAAAAAAAAAAAAAAAAAAAAAAAAAAAAAAAAAAAAAAAAAAAAAAAAAAAAAAAAAAAAAAAAAAAAAAAAAAAAAAAAAAAAAAAAAAAAAAAAAAAAAAAAAAAAAAAAAAAAAAAAAAAAAAAAAAAAAAAAAAAAAAAAAAAAAAAAAAAAAAAAAAAAAAAAAAAAAAAAAAAAAAAAAAAAAAAAAAAAAAAAAAAAAAAAAAAAAAAAAAAAAAAAAAAAAAAAAAAAAAAAAAAAAAAAAAAAAAAAAAAAAAAAAAAAAAAAAAAAAAAAAAAAAAAAAAAAAAAAAAAAAAAAAAAAAAAAAAAAAAAAAAAAAAAAAAAAAAAAAAAAAAAAAAAAAAAAAAAAAAAAAAAAAAAAAAAAAAAAAAAAAAAAAAAAAAAAAAAAAAAAAAAAAAAAAAAAAAAAAAAAAAAAAAAAAAAAAAAAAAAAAAAAAAAAAAAAAAAAAAAAAAAAAAAAAAAAAAAAAAAAAAAAAAAAAAAAAAAAAAAAAAAAAAAAAAAyMDIxOjEwOjE4IDEyOjM0OjM4ADIwMjE6MTA6MTggMTI6MzQ6MzgAAABDAGEAcgBsAG8AcwAgAFIAYQBiAGEAegBvAAAA/+ELIGh0dHA6Ly9ucy5hZG9iZS5jb20veGFwLzEuMC8APD94cGFja2V0IGJlZ2luPSfvu78nIGlkPSdXNU0wTXBDZWhpSHpyZVN6TlRjemtjOWQnPz4NCjx4OnhtcG1ldGEgeG1sbnM6eD0iYWRvYmU6bnM6bWV0YS8iPjxyZGY6UkRGIHhtbG5zOnJkZj0iaHR0cDovL3d3dy53My5vcmcvMTk5OS8wMi8yMi1yZGYtc3ludGF4LW5zIyI+PHJkZjpEZXNjcmlwdGlvbiByZGY6YWJvdXQ9InV1aWQ6ZmFmNWJkZDUtYmEzZC0xMWRhLWFkMzEtZDMzZDc1MTgyZjFiIiB4bWxuczpkYz0iaHR0cDovL3B1cmwub3JnL2RjL2VsZW1lbnRzLzEuMS8iLz48cmRmOkRlc2NyaXB0aW9uIHJkZjphYm91dD0idXVpZDpmYWY1YmRkNS1iYTNkLTExZGEtYWQzMS1kMzNkNzUxODJmMWIiIHhtbG5zOnhtcD0iaHR0cDovL25zLmFkb2JlLmNvbS94YXAvMS4wLyI+PHhtcDpDcmVhdGVEYXRlPjIwMjEtMTAtMThUMTI6MzQ6MzguNDE4PC94bXA6Q3JlYXRlRGF0ZT48L3JkZjpEZXNjcmlwdGlvbj48cmRmOkRlc2NyaXB0aW9uIHJkZjphYm91dD0idXVpZDpmYWY1YmRkNS1iYTNkLTExZGEtYWQzMS1kMzNkNzUxODJmMWIiIHhtbG5zOmRjPSJodHRwOi8vcHVybC5vcmcvZGMvZWxlbWVudHMvMS4xLyI+PGRjOmNyZWF0b3I+PHJkZjpTZXEgeG1sbnM6cmRmPSJodHRwOi8vd3d3LnczLm9yZy8xOTk5LzAyLzIyLXJkZi1zeW50YXgtbnMjIj48cmRmOmxpPkNhcmxvcyBSYWJhem88L3JkZjpsaT48L3JkZjpTZXE+DQoJCQk8L2RjOmNyZWF0b3I+PC9yZGY6RGVzY3JpcHRpb24+PC9yZGY6UkRGPjwveDp4bXBtZXRhPg0KICAgICAgICAgICAgICAgICAgICAgICAgICAgICAgICAgICAgICAgICAgICAgICAgICAgICAgICAgICAgICAgICAgICAgICAgICAgICAgICAgICAgICAgICAgICAgICAgICAgIAogICAgICAgICAgICAgICAgICAgICAgICAgICAgICAgICAgICAgICAgICAgICAgICAgICAgICAgICAgICAgICAgICAgICAgICAgICAgICAgICAgICAgICAgICAgICAgICAgICAgCiAgICAgICAgICAgICAgICAgICAgICAgICAgICAgICAgICAgICAgICAgICAgICAgICAgICAgICAgICAgICAgICAgICAgICAgICAgICAgICAgICAgICAgICAgICAgICAgICAgICAKICAgICAgICAgICAgICAgICAgICAgICAgICAgICAgICAgICAgICAgICAgICAgICAgICAgICAgICAgICAgICAgICAgICAgICAgICAgICAgICAgICAgICAgICAgICAgICAgICAgIAogICAgICAgICAgICAgICAgICAgICAgICAgICAgICAgICAgICAgICAgICAgICAgICAgICAgICAgICAgICAgICAgICAgICAgICAgICAgICAgICAgICAgICAgICAgICAgICAgICAgCiAgICAgICAgICAgICAgICAgICAgICAgICAgICAgICAgICAgICAgICAgICAgICAgICAgICAgICAgICAgICAgICAgICAgICAgICAgICAgICAgICAgICAgICAgICAgICAgICAgICAKICAgICAgICAgICAgICAgICAgICAgICAgICAgICAgICAgICAgICAgICAgICAgICAgICAgICAgICAgICAgICAgICAgICAgICAgICAgICAgICAgICAgICAgICAgICAgICAgICAgIAogICAgICAgICAgICAgICAgICAgICAgICAgICAgICAgICAgICAgICAgICAgICAgICAgICAgICAgICAgICAgICAgICAgICAgICAgICAgICAgICAgICAgICAgICAgICAgICAgICAgCiAgICAgICAgICAgICAgICAgICAgICAgICAgICAgICAgICAgICAgICAgICAgICAgICAgICAgICAgICAgICAgICAgICAgICAgICAgICAgICAgICAgICAgICAgICAgICAgICAgICAKICAgICAgICAgICAgICAgICAgICAgICAgICAgICAgICAgICAgICAgICAgICAgICAgICAgICAgICAgICAgICAgICAgICAgICAgICAgICAgICAgICAgICAgICAgICAgICAgICAgIAogICAgICAgICAgICAgICAgICAgICAgICAgICAgICAgICAgICAgICAgICAgICAgICAgICAgICAgICAgICAgICAgICAgICAgICAgICAgICAgICAgICAgICAgICAgICAgICAgICAgCiAgICAgICAgICAgICAgICAgICAgICAgICAgICAgICAgICAgICAgICAgICAgICAgICAgICAgICAgICAgICAgICAgICAgICAgICAgICAgICAgICAgICAgICAgICAgICAgICAgICAKICAgICAgICAgICAgICAgICAgICAgICAgICAgICAgICAgICAgICAgICAgICAgICAgICAgICAgICAgICAgICAgICAgICAgICAgICAgICAgICAgICAgICAgICAgICAgICAgICAgIAogICAgICAgICAgICAgICAgICAgICAgICAgICAgICAgICAgICAgICAgICAgICAgICAgICAgICAgICAgICAgICAgICAgICAgICAgICAgICAgICAgICAgICAgICAgICAgICAgICAgCiAgICAgICAgICAgICAgICAgICAgICAgICAgICAgICAgICAgICAgICAgICAgICAgICAgICAgICAgICAgICAgICAgICAgICAgICAgICAgICAgICAgICAgICAgICAgICAgICAgICAKICAgICAgICAgICAgICAgICAgICAgICAgICAgICAgICAgICAgICAgICAgICAgICAgICAgICAgICAgICAgICAgICAgICAgICAgICAgICAgICAgICAgICAgICAgICAgICAgICAgIAogICAgICAgICAgICAgICAgICAgICAgICAgICAgICAgICAgICAgICAgICAgICAgICAgICAgICAgICAgICAgICAgICAgICAgICAgICAgICAgICAgICAgICAgICAgICAgICAgICAgCiAgICAgICAgICAgICAgICAgICAgICAgICAgICAgICAgICAgICAgICAgICAgICAgICAgICAgICAgICAgICAgICAgICAgICAgICAgICAgICAgICAgICAgICAgICAgICAgICAgICAKICAgICAgICAgICAgICAgICAgICAgICAgICAgICAgICAgICAgICAgICAgICAgICAgICAgICAgICAgICAgICAgICAgICAgICAgICAgICAgICAgICAgICAgICAgICAgICAgICAgIAogICAgICAgICAgICAgICAgICAgICAgICAgICAgICAgICAgICAgICAgICAgICAgICAgICAgICAgICAgICAgICAgICAgICAgICAgICAgICAgICAgICAgICAgICAgICAgICAgICAgCiAgICAgICAgICAgICAgICAgICAgICAgICAgICA8P3hwYWNrZXQgZW5kPSd3Jz8+/9sAQwAHBQUGBQQHBgUGCAcHCAoRCwoJCQoVDxAMERgVGhkYFRgXGx4nIRsdJR0XGCIuIiUoKSssKxogLzMvKjInKisq/9sAQwEHCAgKCQoUCwsUKhwYHCoqKioqKioqKioqKioqKioqKioqKioqKioqKioqKioqKioqKioqKioqKioqKioqKioq/8AAEQgA3gH3AwEiAAIRAQMRAf/EAB8AAAEFAQEBAQEBAAAAAAAAAAABAgMEBQYHCAkKC//EALUQAAIBAwMCBAMFBQQEAAABfQECAwAEEQUSITFBBhNRYQcicRQygZGhCCNCscEVUtHwJDNicoIJChYXGBkaJSYnKCkqNDU2Nzg5OkNERUZHSElKU1RVVldYWVpjZGVmZ2hpanN0dXZ3eHl6g4SFhoeIiYqSk5SVlpeYmZqio6Slpqeoqaqys7S1tre4ubrCw8TFxsfIycrS09TV1tfY2drh4uPk5ebn6Onq8fLz9PX29/j5+v/EAB8BAAMBAQEBAQEBAQEAAAAAAAABAgMEBQYHCAkKC//EALURAAIBAgQEAwQHBQQEAAECdwABAgMRBAUhMQYSQVEHYXETIjKBCBRCkaGxwQkjM1LwFWJy0QoWJDThJfEXGBkaJicoKSo1Njc4OTpDREVGR0hJSlNUVVZXWFlaY2RlZmdoaWpzdHV2d3h5eoKDhIWGh4iJipKTlJWWl5iZmqKjpKWmp6ipqrKztLW2t7i5usLDxMXGx8jJytLT1NXW19jZ2uLj5OXm5+jp6vLz9PX29/j5+v/aAAwDAQACEQMRAD8A+kaKKKACiiigAooooAKKKKACiiigAooooAKKKKACiikagBaK4+/8TavDrOrRWOn29xaaVGjylpisj5TdhRtI/M1fPjTRkEAeaUNOiFMQOwy67lG4DGSD0pAdDRXLWvjvSZNHstQuzNbLdRebsMDtsXOMsQvAz3OK1dU8Qado3kfbpmU3G7ylSNnZtoyThQTgA9aYGpRXNS+N9GKzLbXDPKm5QGidUZwu7ZuIxnHbNVNM8cQXl7YWkkJ82+2YEaswiLRCTDHbjv8AlQB2FFYN/wCKtO0jUTbajPtLMqRJHG7uzFWbGFU9kJ49DVH/AIWDozamIN8n2drRLpLjy3w25yoXGM7sjGOueMZoA6yis+x1i11OxluNPLTeUSjRlCjhh/CVbBB+vrWZoPiG41HU7qwvrWO3nt40kYRy+Zs3Z+Rjj7wx2yKAOjorAHjPQzI6fa2UqXGWhcBypwwU4wxHoM02TxtocdsJmnm5mMIT7NIX3hdxGzbu6c9KAOhoriX+IdpHptrfmCXyrjgQ+XJ5g/eBM429Oa0ovGWlx2qSXlx87tJtWGJ3IVHKliAuQAepPGe9AHSUVz6eNdBe+NoL794HePcYnCFlXcw3kbSQoJ69Ku6Pr+n67E0mmyvIqgNlomTgjII3AZB9aANOigUUAFFFFABRRRQAUUUUAFFFFABRRRQAUUUUAFFFFABRRRQAUUUUAFFFFABRRRQAUUUUAFFFFABRRRQAUUUUAFFFFABRRRQAUUUUAFFFFABRRRkUAFFJkeooyPUUALRSZHqKMj1FAC0hGaMj1FGR6igDlNQ8I6hc6vqVxZ62tra6mqJcQi1DPhV2/K5bjI9jiqk3w7Emt294moKILWSF4YXg3tEIwBtVi2FBxzgZyevau2yPUUZHqKAOBu/hpLeafa2cusB4be2+zhZLbcBhiwdRvwGwQCSD04xW14n8KnxBZWsC3MULW5JDyQeYQSMblIYFWHYg/XNdJkeo/OjK+ooA880vwJqEtrcWWq6i32JL154UaMNJI23asjPnkdSRjOe9a2m+Bm0y8tbiDUctBJGzBofvqsIiK9eCcA57e9db8vt+dGR6/rQBzl94RF74otNZN2UNtMJfK8vO7EUkeM5/6aZ/CsqT4dHzIZIdVMbxRqATBuyySmVD97oCcEdx3FdwWHrWDr9/JcWsulaPMrahcKUypz5Knq5x0wOnvigCTSNCk0+C+NzeGe7v5DJNPGnljO0KNq5OMADuar6V4ZnstYbVNR1H7bcC3+zIVhEQKZzl8E7myOvHfAGa0NK1aO9iEUrLHeRgCaBjhkbvx6ehrSO09x+dAHny+A9Q1bTY49R1RrX7NPPLZpDFhoWdmGSwb5gVY8cfePNaWkeAxpl5DcG9jYxXDTlIbby1JaPYR94/XJya68bfUfnRkeooA4yTwFNJbxL/AGsBJbq6wP8AZ+FzKsi5G7nG3B6Z9qVPAlxbAPYauIbho5oZZHt94ZJJDIQBuGCCTg8/SuyyPUUZHqPzoA5CLwDFALURXzhba/kvFzGCTuiaPbye27OfbpVnwl4QbwxJcsb1ZVnVVWCCHyYY9ufmWPcQpOecYHA4rpsj1H50ZHqPzoAWikyPUUZHqKAFopMj1FGR6igBaKTI9RRkeooAWijOaKACiiigAooooAKKKKACiiigAooooAKKKKACiiigAooooAKKKKACiiigAooooAKKKKACiiigAooooAKKKKACiijNAAelc7Z6bHr8T3msp9oikc+TavzGiA4BK9CT159a6Dd2oUYoAyB4Q8Pf9APT/wDwGX/Cj/hEPDv/AEBNP/8AAZf8K2c0ZoAxv+EQ8O/9ATT/APwGX/Cj/hEPDv8A0BNP/wDAZf8ACtnNGaAMb/hEPDv/AEBNP/8AAZf8KP8AhEPDv/QE0/8A8Bl/wrZzRmgDG/4RDw7/ANATT/8AwGX/AAo/4RDw7/0BNP8A/AZf8K2c0ZoAxv8AhEPDv/QE0/8A8Bl/wo/4RDw7/wBATT//AAGX/CtjdQDmgDH/AOEQ8O/9ATT/APwGX/Cj/hEPDv8A0BNP/wDAZf8ACtmigDG/4RDw9/0BNP8A/Adf8K0LTT7WwhEVlbRQRjokahQPwFWaKAKd5pVjqKhdQsoLlR0EsYb+dUv+EQ8O/wDQE0//AMBl/wAK2aKAMb/hEPDv/QE0/wD8Bl/wo/4RDw7/ANATT/8AwGX/AArZooAxv+EQ8O/9ATT/APwGX/Cj/hEPDv8A0BNP/wDAZf8ACtgnFG6gDH/4RDw7/wBATT//AAGX/Cj/AIRDw7/0BNP/APAZf8K2c0UAY3/CIeHf+gJp/wD4DL/hR/wiHh3/AKAmn/8AgMv+FbNFAGN/wiHh3/oCaf8A+Ay/4Uf8Ih4d/wCgJp//AIDL/hWzRQBjf8Ih4d/6Amn/APgMv+FB8IeHv+gJp/8A4DL/AIVs0UAYItH0PUrUWO77BcOYpICxIhOMqy+g4xjpyMYxW6OlIwzSr0oAWiiigAooooAKKKKACiiigAooooAKKKKACiiigAooooAKKKKACiiigAooooAKKKKACikNJuU/xD86AHUU3I6UoI9aAFopNwNLQBW1C8TT9Pmu5fuRIWIHU+1UrCxvJXS81S5k88ncIIm2xxj+7x976nv6U3xX83hi7A5JCjH/AAMVrjpQBheLZZYdFiMErxNJe2sTNG207WnRWGR6gkVW/s1M83V7/wCBT/41P4y/5Atv/wBhGz/9KI6l70wKf9mp/wA/V7/4FP8A40f2an/P1e/+BT/41bzRmgCp/Zqf8/V7/wCBT/40f2an/P1e/wDgU/8AjVvNGaAKn9mp/wA/V7/4FP8A40f2an/P1e/+BT/41cooAp/2an/P1e/+BT/40f2an/P1e/8AgU/+NXKKAItLVoNQvYBNNJGLWOQCWQvhi0gJGf8AdH5VX8M6aNR8K6XeXV5etPcWkckjC5cZYqCT1q3Z/wDIYvv+vGH/ANDmp3gv/kRtE/68Yf8A0AUgJ/7Ag/5+r7/wKf8Axo/sCD/n6vv/AAKf/GtSkLKOpH50AZn9gQf8/V9/4FP/AI0f2BB/z9X3/gU/+NaW5T0NLuGcZoAzP7Ag/wCfq+/8Cn/xo/sCD/n6vv8AwKf/ABrT3D1pcj1oAy/7Ag/5+r7/AMCn/wAaP7Ag/wCfq+/8Cn/xrUooAw5rBdP1PTGguboiW5aN1knZwy+TI3Q+6g/hQ1mNQ168jmuLhEhii2LFMyAZ356fQVb1T/kIaP8A9fjf+iJaZaf8jFqX/XKH/wBnoAP7Ag/5+r7/AMCn/wAaP7Ag/wCfq+/8Cn/xrUpCQOpxQBmf2BB/z9X3/gU/+NH9gQf8/V9/4FP/AI1p71PRhQWA6kUAZn9gQf8AP1ff+BT/AONH9gQf8/V9/wCBT/41p7h60ZHrQBmf2BB/z9X3/gU/+NH9gQf8/V9/4FP/AI1qZFFAGRNoUCwSMLq+yFJH+lP/AI0vhW4lu/CGk3Ny5kmms4ndz1ZioJNaVx/x7S/7h/lWT4M/5EbRP+vGH/0AUAbVFFFABRRkUnagBaKwddvLrTNS0u5WYiykn+zXEW0YJfhHz1GGGP8AgVcsPH1zYM1xdKlzDcSGZIjJteKHfsXaoU7s435Yj72AeKAPR6K830/xtqA129tHD3kvmSR20LFY0/17IuSFyMKOvPTpmnR+Pr/T9Jml1GCGS5+2XS+W823akTcKu1SWPocAepFAPQ9Gorzifx7dQXt1d3SeXpcJgkTyyDIUaBpSCCPbsa038a30DJb3GkqL6bymgiW5yrJI20Ett4IPUYPsTQB2lUtQ1OLTdjTxzsjZy8ULOqe7YHA96reH9Wk1e0kkuIBbzwTPBLGr71DKcHBwMj8BWo4yOmaAGW9zFdW6zW8iyxuMqyHINS1iaWv2bxBqdlEMQKkNwqjorPvDAfimfqTW3QAUUUUAFFFFABRRRQAUUUUAFFFFAFPVmZNJumQkMIXII7HFef6ILvQ/DA1s2ri4kto1SWe9eZGLlfmZT0HOeK9KkjWRSrgMpGCD0NQtZ27WptmgjMBXYYio27fTHpS6gea33i/VLTxBK07RXD6bb3GfswZYpjiJgSMnGNxzya6TwzdX9x4l1WPULy3uWjgg2m1BEYzuPQk4P4+lb8Oi6ZbKq29hbRBQVUJEoAB6gYHfAp9jpdhpqsNPs4LUN94QxhM/lTBmH4dF5H4o16G9vpLra0LJuGFjBUnao7Cullfy4WYKX2jO1ep9qasESTPKkarJJje4HLY6ZPepeopActHfP4h1JLS5gksIreQSvb3HEk5U5XGOCoODwT0FdQvSsbxMiw6WL9RiezkSSNh1+8Aw+hBI/Gtlfu0wMDxl/wAgW3/7CNn/AOlEdS96i8Zf8gW3/wCwjZ/+lEdS96YGN4oS5XRzeWDutxZSLcKqniRVPzKfXK7vxxXKXfi69W6utR0qSOSOVX+zxSozBoourj5lVQWY8k5wBgGvQyAykMMgjBB71Tk0fTZYoY5dPtXjgGIkaFSIx/sjHH4UAcBH4tvItUnvQgk82JZUjZ2Kxk26N0z0ycmr3/CQapYXepiS7tLi6e5t4ohFEzJzEzEKm7g8d2A757V2i6ZYJ9yyt1+XbxEo4xjHT04+lQjQtJFuYBpdmISwcx+Qu0sOhxjrQM4SbxXq1zbw30rQrG+nq72yhgDILpY8ghvT3PpzV2XxtqkOnQ3nl2MovbaWaGFFbdblMcSc85zg4xg12R0nTisYNha4jBCDyV+UE5OOOOeaF0nTkkmdLC2Dz/61hCuZP97jn8aBFDQtSv7q+1Cy1T7O01oYyJLdWVWDruxgk8jp1rbpiQxRyPJHGiu+N7KoBbHTPrT6AG2f/IYvv+vGH/0OaneC/wDkRtE/68Yf/QBTbP8A5DF9/wBeMP8A6HNTvBf/ACI2if8AXjD/AOgCkBt1x/jrS4rqKwnaW4jkN7BATDO6Ao8oDDCn0NdhUUsEU4UTRrIFYMAwzgg5B+oNAHCJr2oaTFrsMDWsdho8sVrbeckksju4jILHd8338Y+nI61lz+O9X+yQ3MltbC7guLuHBDBTsRCpKq5H8XPJ6dq9Jl0yxminjltIZEuSGmVowRKRjlvXoOvpUSaHpUcQiTTbVY1JIUQqACRg8Y9APyoA4bWPF2r6ZLcR3kdpNdWDu6vErojj7K8oyu71GOSR34OKtL4n15Lz+z7mTTIp3aJkuDE4iRXjZtpBbk5XGcj6V2kul2FwztPZwSNJw5aMEtxt5/AkfSqGteHLXV7YRYWEhgxYRqwfAIAYEEEDPHpQAvhPVZ9b8L2WoXfledMhLeTnYSGI4z24rZqjo2l2+i6Rb6dZg+TbrtXd1q9QBnap/wAf+j/9fjf+iJaZaf8AIxal/wBcof8A2en6p/x/6P8A9fjf+iJaZaf8jFqX/XKH/wBnoA1Kqalp8Op2L2tyXEb4z5blDwc9RzVukIzQB5l4WN/Y6XYDSpw91qN/cQyS30kkoVI2kIwNwwcLiodT8dalJb3+1Leaz8qXynVGjyyOF679x787QPc16ZHYWsIQRW0SCNmZNqAbS2ckehOT+ZqqPD+kBpGGmWgaTPmHyVy+eueOaAOIuPF+sjRxcXqWTW95FdCFIldHQxEgEtu5yB2wR61dTxZrEd7PLLHaPZR3N3bpFHGwlPkozA7t2OduMYrsG0uweJI2s4DGm7apjGBu+9j696JNNtGjZFhSMsXbeigMrMMFgexOetAGD4a1y/1K+kgv5rGZTaxXCm1Ugpvz8rZY9MdeK6qsHQPC9roM1xNC5klnVVZtirwuccKBzyST3reoAjuP+PaX/cP8qx/B7bfAuikAkiwh4Hf5BWxcf8e0v+4f5VkeDR/xQ+if9eEP/oAoAkOsX+SB4dvz7+bBz/5EpDrGoY/5F2//AO/sH/xytigjNAHl958TvEFp40uNIi8F311BGV2tERuGQDyQSvf+9Xoun3U93YxzXVlJZSMOYJWVmX8VJH61a2gUEcUAVNT0+11fTpbG+j8yCZdrrkj9R0NZl14P0a7/ANZblUMaRsiOyq4X7uQDzis7x62oi1tf7Mlu1+Yl0tlk+fjgF4wWX8iD3rDtrzXZHnlkXWo9VJxBAYybcJ5WRuOAmc9T13cdKQHWP4O0UzTSi02yTcs6uQwO/fkHPB3HPFMHgrRfIEQgkUZk3ETMDJ5hy4Y55ya5Mf21cTNb6dPrQ0+QW/mTXAdZllMh8wKWGQu3GccDtU3h3/hI4/GCxXs94YVnmSRZUkaNogD5Z3EbAfunIJJ5z7MDo5vDfhyG5RLiKNWMcaCJ5Dhgq+Wvyk88HbnvUtp4c0WG62Rr5k8TRuN8pd0CnKDk5AB7Vxms6DrWp/EJ5obW4NulxDskN/JGuxFLnACEAZI79Rjvx1mkaUmn+MtRlhgkWO4gjZpXyfMfc2fmPUgY+gxQDN6zsILHzfsybPOkaV+erHqatUgpaAMez/5HHVf+vS1/9CmrYrHs/wDkcdV/69LX/wBCmrYoAKKKKACiiigAooooAKKKKACiiigAooooAKKKKACiiigDL8SW8t14du4oF3SFNyr64IOP0q7Z3UV5aR3Fu4eORdykdxUxGRVCPRbWC+N1bB4Hdi0ixuQjk9yvTPvQBn+Mv+QLb/8AYRs//SiOpauarpUWr2X2ad3jUSJKrR4DKyMGU8+6iqf/AAjsv/QZvvyj/wDiKACij/hHZf8AoM335R//ABFH/COy/wDQZvvyj/8AiKYBRR/wjsv/AEGb78o//iKP+Edl/wCgzfflH/8AEUAFFH/COy/9Bm+/KP8A+Io/4R2X/oM335R//EUAFFH/AAjsv/QZvvyj/wDiKP8AhHZf+gzfflH/APEUANs/+Qxff9eMP/oc1O8F/wDIjaJ/14w/+gCrFjowspJpHup7mSZFjLzbeFBYgDAH941Vs/DUlhZw2lrrF/HBAgjjQGPCqBgDlaQG7RWR/Yt1/wBBzUP/ACH/APEUf2Ldf9BzUP8AyH/8RQBr0Vkf2Ldf9BzUP/If/wARR/Yt1/0HNQ/8h/8AxFAGvRWR/Yt1/wBBzUP/ACH/APEUf2Ldf9BzUP8AyH/8RQBr0Vkf2Ldf9BzUP/If/wARR/Yt1/0HNQ/8h/8AxFAEuqf8f+j/APX43/oiWm2Z/wCKi1L/AK5Q/wDs9JFojrdwT3GpXdz5Dl0SUpt3FSueFHZjS3WjNPevdQX9zaPIqq4hK4bGcdQfU0AalFZH9i3X/Qc1D/yH/wDEUf2Ldf8AQc1D/wAh/wDxFAGvRWR/Yt1/0HNQ/wDIf/xFH9i3X/Qc1D/yH/8AEUAa9FZH9i3X/Qc1D/yH/wDEUf2Ldf8AQc1D/wAh/wDxFAGvRWR/Yt1/0HNQ/wDIf/xFH9i3X/Qc1D/yH/8AEUAadx/x7S/7h/lWT4M/5EbRP+vGH/0AU59DuXUqdb1AgjBH7v8A+Jq/p1jFpmm29jbAiG3jWKME5IUDAoAs0UUUAFFFFABiiiigAwPSjFFFABgelFFFABRRRQBj2f8AyOOq/wDXpa/+hTVsVj2f/I46r/16Wv8A6FNWxQAUUUUAFFFFABRRRQAUUUUAFFFFABRRRQAUUUUAFFFFABRQTjrWeNZtZNQNpbmSeRTtdokLJGfRmHAPt1oA0KKpajqMOl2guLreUMiRgIu4lnYKoA9yRUH9uL/0D9Q/8B//AK9AGpRWX/bi/wDQP1D/AMB//r0f24v/AED9Q/8AAf8A+vQBqUVl/wBuL/0D9Q/8B/8A69H9uL/0D9Q/8B//AK9AGpRWX/bi/wDQP1D/AMB//r0f24v/AED9Q/8AAf8A+vQBqUVl/wBuL/0D9Q/8B/8A69H9uL/0D9Q/8B//AK9AGpRWfaarFdyTRiKeJ4UDss0ZU7TnB/8AHTVG28WWd1bRXEFrfSQzIHjcW5wykZBoA3qKxv8AhJbf/nyv/wDwHNH/AAktv/z5X/8A4DmgDZorG/4SW3/58r//AMBzR/wktv8A8+V//wCA5oA2aKxv+Elt/wDnyv8A/wABzR/wktv/AM+V/wD+A5oA2aKxv+Elt/8Anyv/APwHNH/CS2//AD5X/wD4DmgDZorJg8QW9xdQ24t7uJ5mKIZYSqkhS2M/RT+VSXOsRW949sILmaRFVm8mLcFBzjP5GgDSorLGuL/0D9Q/8B//AK9H9uL/ANA/UP8AwH/+vQBqUVl/24v/AED9Q/8AAf8A+vR/bi/9A/UP/Af/AOvQBqUVl/24v/QP1D/wH/8Ar0f24v8A0D9Q/wDAf/69AGpRWX/bi/8AQP1D/wAB/wD69H9uL/0D9Q/8B/8A69AGpRWU2uqFJ+wagAOv+j//AF6u2F5DqGn295bMWhuI1kjYjGVIyKALFFFFABRRRQAUUUUAFFFFABRRRQAUUUUAY9n/AMjjqv8A16Wv/oU1bFY9n/yOOq/9elr/AOhTVsUAFFFFABRRRQAUUUUAFFFFABRRRQAUZqK5nW2tpJn+7GpY49BWLo3ij+2MSHTLuztjF5q3FwUCMOMdGJ6HPIpAb+aM1lHX7H+0bazSVZHuI5JEdCCoCEZyf+BCn22t2d3e3NvbyCQ20ayO6kFcNnoR/ummBpUVh6X4otdUvFt44biBpYzLA0ybROgIBZfzHXB5FbnagDM8R3Elp4du5oDtkCYU+hJAz+tWrKyhsbSO3t1CRxjAFZ3iZ1l0n7CpzPeSJHGo6n5gSfoACfwrZU5FAGH4t/5BNr/2ErL/ANKI63awvFv/ACCbX/sJWf8A6UR1u0AFJmlNcjeeKNZtvFQ0lNFheNkaZZzd4/dKygtjb1+bpQB12aM1zo8c+HzYJeC/3QOWCusEhztALHAXOBkZPSmy+OdEtHdb29jjwSU2KzlkAUluF4A3j8OaAOkzRXOy+NNJtpp1u7qNVSURxmMNIZMoH6KD2OeM8c1LP4y0K2a3Et+mLhUeNlRmUhzhCSBgZPTOM0AbtFIDkUtAGUf+Rgv/APrxh/8AQpawvCn/ACJujf8AXjD/AOgCt0/8jBf/APXjD/6FLWH4U/5E3Rv+vGH/ANAFMDWoqK5n+zWks5RpPLQtsQZLYGcD3ql/blmYLCZH3Jf48rBHA2lix9AAOaANKis2fXbOGeGJH89pldl8lgw+QZIznrzT5tXtILm3t3lUzTvsCBgSpwTyPTAoAv0Vn3WuadZxo813Fh50gG1wfnY4A496kg1K3ljVpHWAs7IqSOAWIJHHPtQBcoqEXdubjyBcRGb/AJ5hxu/KpqAIXP8AxMtJ/wCvw/8Aoiartn/yMWpf9cof/Z6oyf8AIS0n/r8P/oiWr1n/AMjFqX/XKH/2ekBqUUVV1G7ksbJ54rSa7ZcYhgxubntkgfrQBaorntD8XW+t2r3JtJ7GBWKLJdlFDsCVIGGPQg1o3OsWtvDMySLPJCMtFG4LdcdzQBoZoqjJqtqkMrxypM8abzFG4LY+malS/tnnMK3ERlGSU3jcMdeKALNFV4L23uiwt545dpw2xwcVYoAjuP8Aj2l/3D/KsjwZ/wAiNon/AF4w/wDoArXuP+PaX/cP8qyfBn/IjaJ/14w/+gCgDaoopCcUALRUYnQuUDruHVc8ipKAIHvbeO7jtXmVZ5VLJGTywGMkD2yPzohvra4lmjgmSR4H2SqpyUbAOD74INYni6CWG1ttWs4pJrjTpxKUiUs7xnh1AHUkHp7VwuoLr2nRoLSK9jvHVblyiSMJHdyzAbF25UYU7z0AwPUA9Rg1Wxubp7e3uY5JowS8asCVwdpz+IxUsF3Bcq5t5FkCOY2KnOGBwR9RXlVumu2ur34ePUYNOaaSSYwRNuwblslcDJJGOnOOlQs2rWuhvHp6apH5t1eywvJHMGfLfJlVXdk9RuIHrQNnrL6haxTLDJOiyMwUIW5JIyB+QJqbeK8ldPEUd1c3FhHfLqV1FayAvEwRm+ysDnI2g7wMjg9K0If7WuriKHT5tXWyd7dZ5JkdZFkLfvMbhnG3qRxQI9LDA9KWsLwqt3FaXUF40zCG6kSFp87jGD8vJ6j3rdoAx7P/AJHHVP8Ar0tf/Qpq2KxUb7L4zuPM4F7aRCInuY2fcPykX9a2qAEJxWN/wmPh7+0m0/8Atiz+1q5QweaNwYdRj1rYbpXCeHNH1SC31W6e8uIYze3jR2bQKAwLttYEjdz1HNIDuIbmK4gjmgdZI5FDo6nIYEZBFJPdwWsYe4kWNCwXcxwMk4A/OvOdOj8RfZrS9nk1L7QlzYxtCwIBjaKPzSVI/vFsk9CD0wayDLr9/qiK8GoPbPhpI5YpW2SLcR43EqFzt3H5RjHrimB7DvGKN4rh/G82qQX1k2nPdeWEOYYEk+dsjADIDhv98bazL251vzL0Y1hdS+0uVSBMxLa9iDjYW254B3bqAPS94o3ivN4E1i/1BYLOfVU0lrtPKllDpIR5LFwxYBgu/b175xUHh6XxB9qn/tqe+8pbWT7WscMxcSbxt2EjBOM48vIx+FAHqNFNj/1a4z079aKAINRhe5064gixvkjZRn1IxXJJ4HW18Hmys41F68Mayh5WZJCpBK89AcY6d67aikB5nN4E1e+vby5CW+npdQzIsCSbhEWWMDoBnOw5x6966Hw5o97p+oaleyada2IuIo1jt4JAwLKDySABzkfhXVYpRTA5Lw3Ya2mr3F94isYBcyrtWeO68xY0zwiJtGB6nOSevbHVyKXiZQxQkYDL1HvTqKAOWSyl0HWEvL24k1CG5cRefccvb5PygY42k4HAHJGc11C9Kx/Fhx4YuyOo2EH0+cVsL92gDD8W/wDIJtf+wlZ/+lEdbtYXi3/kE2v/AGErP/0ojrdoAKxbzQ2ufES6n520LZSWvl7eu9lO7Ptt6VtUUAcNqPgO6vNE03TYtSRYrO0a3dXjYrISAA+0MORjocjmn2PgKS0vjcNfK+bKW12iLHLrEN3Xt5XT39q7aigDjdN8Dtp1+twb1ZNrZ2+Xj/lgsXr/ALOawL/wzrOnpbaNpgaaJo7OOSUwZV/KcFiG3fJgDoQfavUaMUAMUYFPpMUtAGUf+Rgv/wDrxh/9ClrD8Kf8ibo3/XjD/wCgCtw/8jBf/wDXjD/6FLWH4U/5E3Rv+vGH/wBAFAGr0riJfB1/HBqiQ/Z5kWCSHTYpvmUJI+9wwIx14HXgV3FFMDzmw8EavFdXs0giRbgSFVaUMwLRKgztUDqvYVeTwtqUWpApaWb7bqW5F47/ADEPGVCFcZ4JA64xXcUUAebxeCtXJgmltrbfFJbuY/NXaTHJltu1AFGM4zk9qfJ4J1QWd/AtvaTvfpNGk0knNnuldgyjHPDA8Y5Ar0WigDjIPB9xBrdrfhYPMj1aS7kmz87RGFkAzjrkjiuzoooAgk/5CWk/9fh/9ES1es/+Ri1L/rlD/wCz1Rk/5CWk/wDX4f8A0RLV6z/5GLUv+uUP/s9IDUpGpaKAOK07whOlppMGpQ28yWd9c3Eit8wIcyFMccn5xWBdeA9dvEuw8NrG0iTRgo6qjBnDAhQuRwOdxPNeqUUAeczeAb0aRbQ2sdrHchLxbiQHG/zSSmTjntn0qxJ4NnhFxdbYY5mur2dpo1zJ5csbKuMDJIyOPau9xQRQBwXgMNJqdxKunRWqR2VvCZIlYCVl3cnKrz7ds8131NC46U6gCO4/49pf9w/yrG8Hgt4F0UZIzYQ8j/cFbNx/x7S/7h/lWT4M/wCRG0T/AK8Yf/QBQBKdFkyT/a+pf9/E/wDiaT+xZP8AoMal/wB/E/8Aia1qKAPMb/4R3F/4yuNbPinVLZZduFtn2ScDHLDj9K9C0+zNhZR25ubi58sY824fc7fU45q5QelAGdqms2WkLGb6UoZCQiqhZjjrgDJ4qqPFWjNd/ZhfJ5n97B25278bumdvOM5xUPinw7Pr0MAtp44XhYkF0OeRjIZSGU/Q896y4PBF9Fbz2D6uJLC5YyTboAZnYptI356E/N0z2pAaw8YaL9lkuGvNqRlQwaNgx3HCkLjJBPQjrU1l4k0u/vFtbW53StnaCjKGIHIBIwSO46isUeCry61FdQ1TUIpLmNYIl8mDYpjjcvyMn5iSfpRpngV9O8Rpem9ElrFcS3EUbKxYNJnI5YqMbjyACfzyw6E2q+OrTS/EC6V9mllctEjuEbCl2wB909gT+FW9P8RXNzrSWF7pjWgnieWBjKGYqrBTvUD5c5BHJqnc+B47vxLJqs93OQ8yyiNJnUDam1RwcdST+NTeH/DuraZq1xe6nqNtfNcZ3SC3ZZMZ+VQS5AUDsAPWgDpwKWkFLQBgeIF/tG5h0q3RftDjzvPOf9HA4DAgghs9OR39K0tMtJ7G0WG4vJr1x1lmC7j+QAqlaDPjLVD6Wdr/AOhTVtUANfpWK/ivR0uZIXvNrRhyWKHadn38NjBx3x0raYZFcVb+A7s+IEvtQ1MXUKPcfu3RiXSUEbeWwuAccDmkBvXXibSrOVopboGVQpMcal2wwyDgewzUc3i3RoJPLe8BYxrL8iMw2t93kDv29a5wfDeWGzt/I1Mvd27SASyBgHjYBVB2sDlVRBnPOD61e/4QieDS57ey1DypJIoYw6xlfudRwcgH26UwNU+LNHFmtwbk7Wdo9vltvDKMkFcZGByeKd/wlOkeZAq3at9oRHRlUlcP90k9BntmuQm8Kar4eiE1hI13dTTzMTHb+YEWRFG0hnB6qPmz9RU1p8PLpo7GWa8WNvs1tHdRMrH5ogPugMF56cg460Aegrg07aKRF2rinUAFFFFABRRRQAUUUUAFFFFAFXUrNNQ02e1l4WVCpPp71S07ULtGWz1O0kScceeg3RSe4Pb6HFa9JtHpQBh+LA7aPAUjZ/Lv7WRgiliFWdCxwPQAmrX/AAkFh/em/wDAd/8ACtLA9KNo9BQBm/8ACQWPrN/4Dv8A4Uf8JBY+s3/gO/8AhWltHoKNo9BQBm/8JBY+s3/gO/8AhR/wkFj6zf8AgO/+FaW0ego2j0FAGb/wkFj6zf8AgO/+FH/CQWPrN/4Dv/hWltHoKNo9BQBm/wDCQWPrN/4Dv/hR/wAJBY+s3/gO/wDhWltHoKNo9BQBi2tyt7q99PArmI2kUYZkK5YNISOR7j86wfDt4lp4Y0y2uYriOaG0ijkQ275VgoBHSu42gdBRtUdhQBzH9qW/92f/AMB3/wAKP7Ut/wC7P/4Dv/hXT7R6CjaPQflQBzH9qW/92f8A8B3/AMKP7Ut/7s//AIDv/hXT7R6D8qNo9B+VAHMf2pb/AN2f/wAB3/wo/tS3/uz/APgO/wDhXT7R6D8qNo9B+VAHMf2pb/3Z/wDwHf8Awo/tS3/uz/8AgO/+FdPtHoPyo2j0H5UAcxFdpd6ppqwJMTHcs7loWUKvkyjJJHqQPxq4b2PT9fvXulkVZYotjLEzBsb88ge4rb2j0o2j0oAzf+EgsfWb/wAB3/wo/wCEgsfWb/wHf/CtLaPQUbR6CgDN/wCEgsfWb/wHf/Cj/hILH1m/8B3/AMK0to9BRtHoKAM3/hILH1m/8B3/AMKP+EgsfWb/AMB3/wAK0to9BRtHoKAM3/hILH1m/wDAd/8ACj/hILH1m/8AAd/8K0to9BRtHoKAMqfXrJoHVTMSykD/AEd/T6UnhOCW28HaRBcRtHLHZxI6MOVIUZBrW2j0FKBjpQAUUUUAFFFFABRRRQAUUUUAGKKKKACiiigDHs/+Rx1X/r0tf/Qpq2Kx7P8A5HHVf+vS1/8AQpq2KACiiigAooooAQrmlxiiigAooooAKKKKACiiigAooooAKKKKACkyKiu7iO1tZJ522xxqWY+gFZth/al46XV1KtpA3zLarHuYjtuY9/YDj1oA2M0Vi+J7i6tNJjaxuGtpZby2g8xUViqvMqNgMCM4J6il/sbUv+hkv/8Avxb/APxugDZorG/sbUv+hkv/APvxb/8Axuj+xtS/6GS//wC/Fv8A/G6ANmisb+xtS/6GS/8A+/Fv/wDG6P7G1L/oZL//AL8W/wD8boA2aKxv7G1L/oZL/wD78W//AMbo/sbUv+hkv/8Avxb/APxugDZorG/sbUv+hkv/APvxb/8Axuj+xtS/6GS//wC/Fv8A/G6ANjcKUHNYtit5a6le2tzqMt6qW0cyNLHGpUkyA/cUcfKKz/D1rq2q+G9Pv5/EV4sl1bRyuqQW+AWUE4/d9OaAOqorG/sbUv8AoZL/AP78W/8A8bo/sbUv+hkv/wDvxb//ABugDZorG/sbUv8AoZL/AP78W/8A8bo/sbUv+hkv/wDvxb//ABugDZorG/sbUv8AoZL/AP78W/8A8bo/sbUv+hkv/wDvxb//ABugDZorG/sbUv8AoZL/AP78W/8A8bo/sbUv+hkv/wDvxb//ABugDZpMisJrbUbDUtO8zWrm7inuGikilhhAI8qRuqoD1Ud6hv21CfXLmG21S4s4oYoyEhjiOSxbJJdCewoA6SiuX+zap/0MN9/35t//AI3R9m1T/oYb7/vzb/8AxugDqKK5f7Nqn/Qw33/fm3/+N0fZtU/6GG+/782//wAboA6iiuX+zap/0MN9/wB+bf8A+N0fZtU/6GG+/wC/Nv8A/G6AOoorl/s2qf8AQw33/fm3/wDjdH2bVP8AoYb7/vzb/wDxugDqCcUA56Vyr2+qhCR4hvuBn/U2/wD8brX8NXk2o+FtMvbpg09xaxyyMBjLFQTxQBp0UUUAFFFFABRRRQAUUZ5ooAKKKKACiiigDHs/+Rx1X/r0tf8A0Katisez/wCRx1X/AK9LX/0KatigAooooAKKKKACiiigAooooAKKKKAA0maq6pI8Ol3MsTbXSJ2DehxXn3hvUdS07R21rUJdfume3QJFqE8HkSO7LgrsG4c+vY+tID0vNKK85vvHN5ZeIGS8j2rYW85uIIXysrARFCCRx9/Fbuh6lqd1r+qQan5cIhgiZESTci53ZbOAf/1UwOoJpa4vQL3UoPF0thqF/LdwXFt58MkmwpKwPzGLb91AGUYbnkY712MjiOJnbgKMnAoAyfFv/IrXn0X/ANCFbAArmH1OLxPdCxsCxtIZVe7kcFCdpyEAPPUDJxjGR3rp16UAYfi3/kE2v/YSs/8A0ojrdrC8W/8AIJtf+wlZ/wDpRHW7QAUZorhvESeII/GmmWth4hltbXUTMTELeNvLEaBsAkZOfegDuM0Vxh8bzRacLqTSSiNK8cRlukXzAmQW9RkjgYPXtUNp47lu77y7HT5rt7kxmKJpUjEYMIkOT/nmgDuqK4RPHrSX9sLOxnuWv0i8i3Z0QRsyysct9Izn9Km/4WAZLB7m00ieY29sbm7jMyqYQGZcZ/iOUbp2H4UAdrRUVvIJYVkGRvUNg9qloAyz/wAjBf8A/XjD/wChS1B4L/5EbRP+vGH/ANAFTn/kYL//AK8Yf/Qpag8F/wDIjaJ/14w/+gCgDboorjvHNneSLZXFlrmpaduuobZo7R0CsHkCljuUnODx29qAOxzSZriLfxHeaZDq1sQ11DozR25urucebPI4Q5OFA6P25OMAVQn+IUn2eC8FvJ5kM1zC0SOUSUoikEhl3fxe2PekB6NmiuB1PxpdafJIL22aO4sZHZ44JgUlX7M8oByue3tyM+1W4vF+pSXX2BtPgW+dozH+/wD3YVkZ8k4zkbcYpgdpRWV4b1Vtc8P2uoyQiF51JaMNu2kEjr36Vq0AZ2qf8f8Ao/8A1+N/6IlqhJ/yMV//ANcoP/Z6v6p/x/6P/wBfjf8AoiWqEn/IxX//AFyg/wDZ6AJKWiuU1fXLrRNS1KC4dmjuYEOmk8kzsfLKD2DFD+JpgdXRXm2o+N7630O+sgcXken3LR3UbEkSQr94nbtJJ54Jx3rci8R3bQJbWkfnXciTyl55MAKhAOCB1ywxQOx1tFcNpnjW4dLC3mjSV5BHE77yWLsgbcSBtHJ6Eg98VU0fxnfiNWv0Nxdz29qEjEgWLfLK6A/dyOnPXOBgUCPRKK4u88b3lq15ENNjabT4ZZ7n9/8AKRHg4X5eSQR16d67CGQTW8cqjAkQOAe2RmmA6T/VP/umn+DP+RG0T/rxh/8AQBTJP9U3+6aXwcwXwLopPQWEJ6f7ApMDcorLPiGxBIxd8f8ATnL/APE0h8RWHpd/+Acv/wATSA1aD0rzbUPjRo2meLJtDutO1ImPGJ4bdmzkZ5TG4fka7/T9Qg1OxS6tfM8uTp5kbRt+TAGgClqerT6dq2nRukf2O7doXkOdyyEZTHbBwR+VZFv43QG4mvYWS0ExEM0cZIWMNs3Ofdg3Ttg1t67pK61pMlmZmt5CQ8U6AbonU5VhnjINc1qPw4tb5Y0S7ZIUhSIBow7JtOcqT93J6+vqKSAfZePBJqd5BerGBC7pHFCrNJIRMY19ucVNY+OYpdOmury1nUpc3EYSKIkrHE2CzZ6HHb8qiHw/hi1Ka/t9QmjuXYvG+0ERsZTJ07j5iMelQ3Pw5W7szDcaiZmeSd5WlhDDMpySq9Aw6A80xlhvHsH9pTRlVgs4Hizcyg7XR4jJkY6cDvV7/hNtOWItKlzHISmyFoTvcOcKQO4JrNm+HlpOhhuLyR7aSKKOSLaAW2RGLOe2VP51ag8HZvIrq/1GS5uIDCI22BQEjO4KQO5PU/oKBG9pWqwavame33qFdo3SRdrIwOCCKvVn6Vpa6Z9q2Oz/AGi4ec57Fu1aFAGPZ/8AI46r/wBelr/6FNWxWPZ/8jjqv/Xpa/8AoU1bFABRRRQAUUUUAFFFFABRRRQAUUUUARzwpPC0UgyjqVYeoNVZNIspdJGmSQhrTyxH5Z/ujpz1/Gr1GKAMOLwjosWT9k8xmV1dpXaRnDgBtxYktkKo59KsaZ4e07STMbKJg04AlaSRnLgDAyWJ7VqYoxSAydN8N6XpNw09hb+W5XYuWLCNc52oCcKvsMCtXGRS4opgYfiGFLSFNXhwlxauuWA+/GWAZT68HI9wK216VleKI3l8M3ixLubYGx64IJ/lWnDKk0KyRMGRhlWHcUAYvi3/AJBNr/2ErP8A9KI63awvFv8AyCbX/sJWf/pRHW7QAVSutJtbvUbS+mUmez3+SQem8Yb68CrtFAGDceEdNnjt0/fxG2L+W8UpVhvOWGfejT/B+laZdRXFrHJ5kWNpeQt0TZ/6DW9RigDAtvBmkWlza3EMUiyWmPKJkJxhXUfpI1YeueAXu3EOlTra20sRimPmOr7S5Y5wcOPmOAen0JFd3RgUARQxiKJUU5CqAKlFGKKAMs/8jBf/APXjD/6FLUHgv/kRtE/68Yf/AEAVOf8AkYL/AP68Yf8A0KWoPBf/ACI2if8AXjD/AOgCgDbqtd2FvfIiXSeYsciyqMkYZTlT+BFWaKAMqfw7ptxFexyQcX0iyzkMQWdQoVgQeCNq9PSqo8GaGIfKNnvXe8hLyMSzOAGJJOSTgc1v4oxQBkXnhjSdQlmlu7RZHn/1h3EbvkMfr/dJH41R17wjFqsA+wyx2lxvQtK8ZfIQEKOGUj7x5BH410uKMUAZnh7Ro/D/AIftNLhculsmwMRjPOc4/GtOiigDO1T/AI/9H/6/G/8AREtUJP8AkYr/AP65Qf8As9X9U/4/9H/6/G/9ES1Qk/5GK/8A+uUH/s9AEtVbvTLO+ubWe8gWWW0cyQM38DEYJH4VaopgYZ8HaGxkL2e8SJIhVpWKqsn31UZwoPoKsXHh3TLmFYpLfCqzMCkjI3zfeGQc4PcdK1KKAMWDwlo1tOssNpsKOrqokbaGAwG25xuwAM9cUL4S0VIpo1sl2TBQwLHjaxZdvPy4YkjGMdq2qKAMmPwzpEdvJCLQFZYnikLMxZ1c5bcSckk9zzWoiLHGqIMKoCgegFOooAbJ/qn/AN007waM+B9E/wCvCH/0AU2T/Vt9DT/Bn/Ij6J/14w/+gCgDaxSYz3paKQFZdPtEunuUtoVnk+/IEG5vqe9T7cU6igDlvGOs3+kx2o06WKIyli5YKz4Az8qsVB9+awbfxvqE8M9+t5ZmOOTyo9PMJEkv7nfuBzkE9cYxt7969AurK2vIwl3bxTqDkLKgYD86YNOsxceeLSATY2+Z5Y3Y9M0AcDL4r1tLj7Bb6hZ3cksdtIl7HBlIzK5UoVDc8DI5qbQfFms3niSKzvGgeGS4nt2TYqMPLB+YfMWJO3JGON3tz28WmWMClYLOCNS28hIgBu9frTk0+0S6a5S2hWdhgyiMBj+PWgDzTXr7Wbn4gGC1urkQQzwRqkdqCuBmR+d49F7dK1tBmjj8bp9iupLi1u7WRtxuGkZ3V1yzofuY5UYruBawiYyiJBITkvtGc4x1+lNhsLS3meaC2hjlk++6RgFvqe9AE4paKp6hqMenqu9JZHbO1IoyzN+VAFKzP/FY6p/16Wv/AKFNWzWTo9tc+bc6hfRiK4uyv7rIJjRR8qkjjPJJxkZJwSK1qACiiigAooooAKKKKACiiigAooooAKKKKACiiigAooooAR13KQRkHrWZa6MbCZfsd3NHbA5+zHDIPYZGQPxrUooAztY0r+17FbczNAUminWRACQ0bhx191FR/wBnan/0GJP+/Kf4Vq0UAZX9nan/ANBiT/vyn+FH9nan/wBBiT/vyn+FatFAGV/Z2p/9BiT/AL8p/hR/Z2p/9BiT/vyn+FatFAGV/Z2p/wDQYk/78p/hR/Z2p/8AQYk/78p/hWrRQBlf2dqf/QYk/wC/Kf4Uf2dqf/QYk/78p/hWrRQBmWmlywXFxPc3b3Ek0axZZQu1VLEdP981T03w/e6XptvY22ry+TbRLFHuiQnaowO1b9FAGV/Z2p/9BiT/AL8p/hR/Z2p/9BiT/vyn+FatFAGV/Z2p/wDQYk/78p/hR/Z2p/8AQYk/78p/hWrRQBlf2dqf/QYk/wC/Kf4Uf2dqf/QYk/78p/hWrRQBlf2dqf8A0GJP+/Kf4Uf2dqf/AEGJP+/Kf4Vq0UAZK6TdteWs91qMk620hkWPy1UElGTnA9GNMvNEln1CS7t76S3MqKrqEVh8ucHkf7VbNFAGF/YN7/0F5P8Av0n+FH9g3v8A0F5P+/Kf4Vu0UAYX9g3v/QXk/wC/Kf4Uf2De/wDQXk/78p/hW7RTAwv7Bvf+gvJ/35T/AAo/sG9/6C8n/flP8K3aKAML+wb3/oLyf9+U/wAKP7Bvf+gvJ/35T/Ct2igDBbQL0qR/a8vI/wCeSf4Vp6Tp6aVo9pp8TM6WsKxKzdSFGAT+VW6KQBRRRQAUUUUAFFFFABRRRQAUUUUAFGKKKACiiigAooooAKKKKACiiigAooooAKKKKAP/2Q==)"
      ]
    },
    {
      "cell_type": "markdown",
      "metadata": {
        "id": "LloA2_DpgJyI"
      },
      "source": [
        "En términos de código, esto es sencillo:"
      ]
    },
    {
      "cell_type": "code",
      "metadata": {
        "id": "29z-NUJbgJyI"
      },
      "source": [
        "import numpy as np\n",
        "\n",
        "# k= 4 particiones\n",
        "k = 4\n",
        "num_val_samples = len(train_data) // k # 404//4=101\n",
        "print(\"num_val_samples\", num_val_samples)\n",
        "num_epochs = 100\n",
        "all_scores = []\n",
        "for i in range(k):\n",
        "    print('processing fold #', i)\n",
        "    # Preparamos la validación de los datos: datos de la partición #k\n",
        "    print(\"Uso para validar el siguiente rango de datos de entrenamiento -> [\",(i * num_val_samples),\":\",((i + 1) * num_val_samples),\"]\")\n",
        "    val_data = train_data[i * num_val_samples: (i + 1) * num_val_samples]\n",
        "    val_targets = train_targets[i * num_val_samples: (i + 1) * num_val_samples]\n",
        "\n",
        "    # Preparamos los datos de entrenamiento: Datos de las demás particiones\n",
        "    print(\"Uso para entrenar el siguiente rango de datos de entrenamiento -> [0:\",(i * num_val_samples),\"]U[\",(i + 1) * num_val_samples,\":\",len(train_data),\"]\")\n",
        "    partial_train_data = np.concatenate(\n",
        "        [train_data[:i * num_val_samples],\n",
        "         train_data[(i + 1) * num_val_samples:]],\n",
        "        axis=0)\n",
        "    partial_train_targets = np.concatenate(\n",
        "        [train_targets[:i * num_val_samples],\n",
        "         train_targets[(i + 1) * num_val_samples:]],\n",
        "        axis=0)\n",
        "\n",
        "    # Construcción del modelo Keras (ya compilado)\n",
        "    model = build_model()\n",
        "    # Entrenando el modelo (en modo silencioso, verbose=0)\n",
        "    model.fit(partial_train_data, partial_train_targets,\n",
        "              epochs=num_epochs, batch_size=1, verbose=0)\n",
        "    # Evalua el modelo sobre los datos de validación\n",
        "    val_mse, val_mae = model.evaluate(val_data, val_targets, verbose=0)\n",
        "    all_scores.append(val_mae)"
      ],
      "execution_count": null,
      "outputs": []
    },
    {
      "cell_type": "code",
      "metadata": {
        "id": "uhNx8gaNgJyJ"
      },
      "source": [
        "all_scores"
      ],
      "execution_count": null,
      "outputs": []
    },
    {
      "cell_type": "code",
      "metadata": {
        "id": "dwr0Axa0gJyJ"
      },
      "source": [
        "np.mean(all_scores)"
      ],
      "execution_count": null,
      "outputs": []
    },
    {
      "cell_type": "markdown",
      "metadata": {
        "id": "X-OkyvMRgJyK"
      },
      "source": [
        "* Se puede ver que diferentes ejecuciones muestran puntuajes de validación bastante diferentes, de 1.9 a 2.9 \n",
        "* El **promedio** (2.49) **es una métrica mucho más confiable que cualquier puntuación individual**; **esa es la clave de la validación cruzada de K-iteraciones**.\n",
        "* En este caso, **nos desviamos una media de 2.500 dólares, significativo** considerando que los precios oscilan entre 10K dólares (25%) y 50K dólares (5%).\n",
        "\n",
        "Vamos a entrenar la red un poco más de tiempo: **500 repeticiones**. Para mantener un registro de cómo de bien funciona el modelo en cada repetición, **modificaremos nuestro ciclo de entrenamiento para guardar el registro de puntuación de validación por repetición**:"
      ]
    },
    {
      "cell_type": "code",
      "metadata": {
        "collapsed": true,
        "id": "KH2zQ6jngJyK"
      },
      "source": [
        "from keras import backend as K\n",
        "\n",
        "# Some memory clean-up\n",
        "K.clear_session()"
      ],
      "execution_count": null,
      "outputs": []
    },
    {
      "cell_type": "code",
      "metadata": {
        "id": "Um-Dn-2kgJyK"
      },
      "source": [
        "num_epochs = 500\n",
        "all_mae_histories = []\n",
        "for i in range(k):\n",
        "    print('processing fold #', i)\n",
        "    # Preparamos la validación de los datos: datos de la partición # k\n",
        "    print(\"Uso para validar el siguiente rango de datos de entrenamiento -> [\",(i * num_val_samples),\":\",((i + 1) * num_val_samples),\"]\")\n",
        "    val_data = train_data[i * num_val_samples: (i + 1) * num_val_samples]\n",
        "    val_targets = train_targets[i * num_val_samples: (i + 1) * num_val_samples]\n",
        "\n",
        "    # Preparamos los datos de entrenamiento: Datos de todas la demás particiones\n",
        "    print(\"Uso para entrenar el siguiente rango de datos de entrenamiento -> [0:\",(i * num_val_samples),\"]U[\",(i + 1) * num_val_samples,\":\",len(train_data),\"]\")\n",
        "    partial_train_data = np.concatenate(\n",
        "        [train_data[:i * num_val_samples],\n",
        "         train_data[(i + 1) * num_val_samples:]],\n",
        "        axis=0)\n",
        "    partial_train_targets = np.concatenate(\n",
        "        [train_targets[:i * num_val_samples],\n",
        "         train_targets[(i + 1) * num_val_samples:]],\n",
        "        axis=0)\n",
        "\n",
        "    # Construcción del modelo Keras (ya compilado)\n",
        "    model = build_model()\n",
        "    # Entrenando el modelo (en modo silencioso, verbose=0)\n",
        "    history = model.fit(partial_train_data, partial_train_targets,\n",
        "                        validation_data=(val_data, val_targets),\n",
        "                        epochs=num_epochs, batch_size=1, verbose=0)\n",
        "    mae_history = history.history['val_mean_absolute_error']\n",
        "    all_mae_histories.append(mae_history)"
      ],
      "execution_count": null,
      "outputs": []
    },
    {
      "cell_type": "markdown",
      "metadata": {
        "id": "saOH1pyOgJyL"
      },
      "source": [
        "A continuación, podemos **calcular el promedio de las puntuaciones MAE por repetición para todas los iteraciones**:"
      ]
    },
    {
      "cell_type": "code",
      "metadata": {
        "collapsed": true,
        "id": "LWBos85RgJyL"
      },
      "source": [
        "average_mae_history = [\n",
        "    np.mean([x[i] for x in all_mae_histories]) for i in range(num_epochs)]"
      ],
      "execution_count": null,
      "outputs": []
    },
    {
      "cell_type": "markdown",
      "metadata": {
        "id": "B8g7f2NJgJyL"
      },
      "source": [
        "Lo pintamos:"
      ]
    },
    {
      "cell_type": "code",
      "metadata": {
        "id": "-JpKmZdlgJyL"
      },
      "source": [
        "import matplotlib.pyplot as plt\n",
        "\n",
        "plt.plot(range(1, len(average_mae_history) + 1), average_mae_history)\n",
        "plt.xlabel('Epochs')\n",
        "plt.ylabel('Validación MAE')\n",
        "plt.show()"
      ],
      "execution_count": null,
      "outputs": []
    },
    {
      "cell_type": "markdown",
      "metadata": {
        "id": "AeJhXy8WgJyL"
      },
      "source": [
        "Puede ser un poco difícil ver el gráfico debido a **problemas de escala** y la **varianza relativamente alta**. Vamos a:\n",
        "\n",
        "* **Omitir los primeros 10 puntos de datos**, que están en una **escala diferente del resto de la curva**.\n",
        "* Reemplazar cada punto con una **media móvil exponencial** de los puntos anteriores para obtener una curva suave.(Una promedio móvil exponencial (**EMA**) es un cálculo del **valor medio durante un período de tiempo específico** que **da más peso a los datos de valores más recientes**, lo que hace que **reaccione más rápidamente a los cambios de valores**. Se utilizan en bolsa en los gráficos para ayudar a determinar la **tendencia**, la **dirección** y la **fuerza** de los precios de un valor) (EMA(actual) = ((Precio(actual) – EMA (anterior)) x Multiplicador) + EMA(anterior))"
      ]
    },
    {
      "cell_type": "code",
      "metadata": {
        "id": "BvmzqmLBgJyM"
      },
      "source": [
        "def smooth_curve(points, factor=0.9):\n",
        "  smoothed_points = []\n",
        "  for point in points:\n",
        "    if smoothed_points:\n",
        "      previous = smoothed_points[-1]\n",
        "      smoothed_points.append(previous * factor + point * (1 - factor))\n",
        "    else:\n",
        "      smoothed_points.append(point)\n",
        "  return smoothed_points\n",
        "\n",
        "smooth_mae_history = smooth_curve(average_mae_history[10:])\n",
        "\n",
        "plt.plot(range(1, len(smooth_mae_history) + 1), smooth_mae_history)\n",
        "plt.xlabel('Repeticiones')\n",
        "plt.ylabel('MAE de validación')\n",
        "plt.show()"
      ],
      "execution_count": null,
      "outputs": []
    },
    {
      "cell_type": "markdown",
      "metadata": {
        "id": "JO3cHN6WgJyM"
      },
      "source": [
        "Según este gráfico, parece que el **MAE de validación deja de mejorar significativamente después de 80 repeticiones**. Pasado ese punto, comenzamos a sobreajustar.\n",
        "\n",
        "Una vez que hayamos terminado de ajustar otros parámetros de nuestro modelo (además del número de repeticiones, también podríamos ajustar el tamaño de las capas ocultas), podemos **entrenar un modelo de \"producción\" final** en todos los datos de entrenamiento, **con los mejores parámetros**, y luego observar su rendimiento en los datos de prueba:"
      ]
    },
    {
      "cell_type": "code",
      "metadata": {
        "id": "29h1Z5oFgJyM"
      },
      "source": [
        "# Obtenemos un modelo compilado nuevo\n",
        "model = build_model()\n",
        "# Lo entrenamos en todos los datos.\n",
        "model.fit(train_data, train_targets,\n",
        "          epochs=80, batch_size=16, verbose=0)\n",
        "test_mse_score, test_mae_score = model.evaluate(test_data, test_targets)"
      ],
      "execution_count": null,
      "outputs": []
    },
    {
      "cell_type": "code",
      "metadata": {
        "id": "a-aLVqpygJyM"
      },
      "source": [
        "test_mae_score"
      ],
      "execution_count": null,
      "outputs": []
    },
    {
      "cell_type": "markdown",
      "metadata": {
        "id": "8IWOv4gVgJyN"
      },
      "source": [
        "Todavía estamos desviados en alrededor de 2.772 dólares"
      ]
    },
    {
      "cell_type": "markdown",
      "metadata": {
        "id": "1agBewu2gJyO"
      },
      "source": [
        "## Resumiendo\n",
        "\n",
        "Esto es lo que se debería sacar de este ejemplo:\n",
        "\n",
        "* La **regresión se realiza utilizando funciones de pérdida diferentes a las usadas en la clasificación**; El **error cuadrático medio (MSE)** es una **función de pérdida de uso común para regresión**.\n",
        "* De manera similar, **las métricas de evaluación que se utilizarán para la regresión difieren de las utilizadas para la clasificación**; naturalmente, **el concepto de \"precisión\" o exactitud no aplica para regresión**. **Una métrica de regresión común es el error absoluto medio (MAE)**.\n",
        "* Cuando las características en los datos de entrada tienen **valores en diferentes rangos**, **cada característica debe escalarse de forma independiente** como paso de preprocesamiento.\n",
        "* Cuando hay **pocos datos disponibles**, usar la **validación de K-iteraciones** es una excelente manera de evaluar un modelo de manera fiable.\n",
        "* Cuando hay **pocos datos de entrenamiento** disponibles, es preferible **usar una red pequeña con muy pocas capas ocultas** (**generalmente solo una o dos**), para **evitar un sobreajuste** exagerado."
      ]
    },
    {
      "cell_type": "markdown",
      "metadata": {
        "id": "lFqZVJTO7_GY"
      },
      "source": [
        "---"
      ]
    }
  ]
}