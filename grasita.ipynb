{
  "nbformat": 4,
  "nbformat_minor": 0,
  "metadata": {
    "colab": {
      "provenance": [],
      "include_colab_link": true
    },
    "kernelspec": {
      "name": "python3",
      "display_name": "Python 3"
    },
    "language_info": {
      "name": "python"
    }
  },
  "cells": [
    {
      "cell_type": "markdown",
      "metadata": {
        "id": "view-in-github",
        "colab_type": "text"
      },
      "source": [
        "<a href=\"https://colab.research.google.com/github/elenagonzalezrebollo/AlgoritmoGenetico/blob/main/grasita.ipynb\" target=\"_parent\"><img src=\"https://colab.research.google.com/assets/colab-badge.svg\" alt=\"Open In Colab\"/></a>"
      ]
    },
    {
      "cell_type": "markdown",
      "source": [
        "# AA_PRACTICA3_GRUPO_4\n",
        "\n",
        "Daniel Alonso\n",
        "\n",
        "Javier Arteaga\n",
        "\n",
        "Marina Garrido\n",
        "\n",
        "Elena González"
      ],
      "metadata": {
        "id": "NAt_CleDyO_d"
      }
    },
    {
      "cell_type": "markdown",
      "source": [
        "### Importar librerías"
      ],
      "metadata": {
        "id": "ghXqavarzEn_"
      }
    },
    {
      "cell_type": "code",
      "source": [
        "import pandas as pd\n",
        "import numpy as np\n",
        "import matplotlib.pyplot as plt\n",
        "import tensorflow as tf\n",
        "from keras import models\n",
        "from keras import layers\n",
        "%matplotlib inline\n"
      ],
      "metadata": {
        "id": "lcAKpTlrZKu2"
      },
      "execution_count": 75,
      "outputs": []
    },
    {
      "cell_type": "markdown",
      "source": [
        "Vamos a **predecir** el **porcentaje de grasa corporal** de un **individuo** con ayuda de la siguiente base de datos.\n",
        "https://www.kaggle.com/datasets/fedesoriano/body-fat-prediction-dataset\n",
        "\n",
        "Las variables de la base de datos son:\n",
        "- Density determined from underwater weighing\n",
        "- Percent body fat from Siri's (1956) equation\n",
        "- Age (years)\n",
        "- Weight (lbs)\n",
        "- Height (inches)\n",
        "- Neck circumference (cm)\n",
        "- Chest circumference (cm)\n",
        "- Abdomen 2 circumference (cm)\n",
        "- Hip circumference (cm)\n",
        "- Thigh circumference (cm)\n",
        "- Knee circumference (cm)\n",
        "- Ankle circumference (cm)\n",
        "- Biceps (extended) circumference (cm)\n",
        "- Forearm circumference (cm)\n",
        "- Wrist circumference (cm)"
      ],
      "metadata": {
        "id": "8BDFkWIYqOfy"
      }
    },
    {
      "cell_type": "markdown",
      "source": [
        "## Cargar los datos"
      ],
      "metadata": {
        "id": "6jVVtg9N0ZgL"
      }
    },
    {
      "cell_type": "code",
      "source": [
        "data = pd.read_csv('bodyfat.csv', encoding='latin-1')\n",
        "data.head()\n"
      ],
      "metadata": {
        "colab": {
          "base_uri": "https://localhost:8080/",
          "height": 206
        },
        "id": "x05nKWYMZNNX",
        "outputId": "5c268da9-852d-4ded-9455-c1d9feb678e4"
      },
      "execution_count": 76,
      "outputs": [
        {
          "output_type": "execute_result",
          "data": {
            "text/plain": [
              "   Density  BodyFat  Age  Weight  Height  Neck  Chest  Abdomen    Hip  Thigh  \\\n",
              "0   1.0708     12.3   23  154.25   67.75  36.2   93.1     85.2   94.5   59.0   \n",
              "1   1.0853      6.1   22  173.25   72.25  38.5   93.6     83.0   98.7   58.7   \n",
              "2   1.0414     25.3   22  154.00   66.25  34.0   95.8     87.9   99.2   59.6   \n",
              "3   1.0751     10.4   26  184.75   72.25  37.4  101.8     86.4  101.2   60.1   \n",
              "4   1.0340     28.7   24  184.25   71.25  34.4   97.3    100.0  101.9   63.2   \n",
              "\n",
              "   Knee  Ankle  Biceps  Forearm  Wrist  \n",
              "0  37.3   21.9    32.0     27.4   17.1  \n",
              "1  37.3   23.4    30.5     28.9   18.2  \n",
              "2  38.9   24.0    28.8     25.2   16.6  \n",
              "3  37.3   22.8    32.4     29.4   18.2  \n",
              "4  42.2   24.0    32.2     27.7   17.7  "
            ],
            "text/html": [
              "\n",
              "  <div id=\"df-09374416-0a42-4be5-8516-763b4695d7ca\">\n",
              "    <div class=\"colab-df-container\">\n",
              "      <div>\n",
              "<style scoped>\n",
              "    .dataframe tbody tr th:only-of-type {\n",
              "        vertical-align: middle;\n",
              "    }\n",
              "\n",
              "    .dataframe tbody tr th {\n",
              "        vertical-align: top;\n",
              "    }\n",
              "\n",
              "    .dataframe thead th {\n",
              "        text-align: right;\n",
              "    }\n",
              "</style>\n",
              "<table border=\"1\" class=\"dataframe\">\n",
              "  <thead>\n",
              "    <tr style=\"text-align: right;\">\n",
              "      <th></th>\n",
              "      <th>Density</th>\n",
              "      <th>BodyFat</th>\n",
              "      <th>Age</th>\n",
              "      <th>Weight</th>\n",
              "      <th>Height</th>\n",
              "      <th>Neck</th>\n",
              "      <th>Chest</th>\n",
              "      <th>Abdomen</th>\n",
              "      <th>Hip</th>\n",
              "      <th>Thigh</th>\n",
              "      <th>Knee</th>\n",
              "      <th>Ankle</th>\n",
              "      <th>Biceps</th>\n",
              "      <th>Forearm</th>\n",
              "      <th>Wrist</th>\n",
              "    </tr>\n",
              "  </thead>\n",
              "  <tbody>\n",
              "    <tr>\n",
              "      <th>0</th>\n",
              "      <td>1.0708</td>\n",
              "      <td>12.3</td>\n",
              "      <td>23</td>\n",
              "      <td>154.25</td>\n",
              "      <td>67.75</td>\n",
              "      <td>36.2</td>\n",
              "      <td>93.1</td>\n",
              "      <td>85.2</td>\n",
              "      <td>94.5</td>\n",
              "      <td>59.0</td>\n",
              "      <td>37.3</td>\n",
              "      <td>21.9</td>\n",
              "      <td>32.0</td>\n",
              "      <td>27.4</td>\n",
              "      <td>17.1</td>\n",
              "    </tr>\n",
              "    <tr>\n",
              "      <th>1</th>\n",
              "      <td>1.0853</td>\n",
              "      <td>6.1</td>\n",
              "      <td>22</td>\n",
              "      <td>173.25</td>\n",
              "      <td>72.25</td>\n",
              "      <td>38.5</td>\n",
              "      <td>93.6</td>\n",
              "      <td>83.0</td>\n",
              "      <td>98.7</td>\n",
              "      <td>58.7</td>\n",
              "      <td>37.3</td>\n",
              "      <td>23.4</td>\n",
              "      <td>30.5</td>\n",
              "      <td>28.9</td>\n",
              "      <td>18.2</td>\n",
              "    </tr>\n",
              "    <tr>\n",
              "      <th>2</th>\n",
              "      <td>1.0414</td>\n",
              "      <td>25.3</td>\n",
              "      <td>22</td>\n",
              "      <td>154.00</td>\n",
              "      <td>66.25</td>\n",
              "      <td>34.0</td>\n",
              "      <td>95.8</td>\n",
              "      <td>87.9</td>\n",
              "      <td>99.2</td>\n",
              "      <td>59.6</td>\n",
              "      <td>38.9</td>\n",
              "      <td>24.0</td>\n",
              "      <td>28.8</td>\n",
              "      <td>25.2</td>\n",
              "      <td>16.6</td>\n",
              "    </tr>\n",
              "    <tr>\n",
              "      <th>3</th>\n",
              "      <td>1.0751</td>\n",
              "      <td>10.4</td>\n",
              "      <td>26</td>\n",
              "      <td>184.75</td>\n",
              "      <td>72.25</td>\n",
              "      <td>37.4</td>\n",
              "      <td>101.8</td>\n",
              "      <td>86.4</td>\n",
              "      <td>101.2</td>\n",
              "      <td>60.1</td>\n",
              "      <td>37.3</td>\n",
              "      <td>22.8</td>\n",
              "      <td>32.4</td>\n",
              "      <td>29.4</td>\n",
              "      <td>18.2</td>\n",
              "    </tr>\n",
              "    <tr>\n",
              "      <th>4</th>\n",
              "      <td>1.0340</td>\n",
              "      <td>28.7</td>\n",
              "      <td>24</td>\n",
              "      <td>184.25</td>\n",
              "      <td>71.25</td>\n",
              "      <td>34.4</td>\n",
              "      <td>97.3</td>\n",
              "      <td>100.0</td>\n",
              "      <td>101.9</td>\n",
              "      <td>63.2</td>\n",
              "      <td>42.2</td>\n",
              "      <td>24.0</td>\n",
              "      <td>32.2</td>\n",
              "      <td>27.7</td>\n",
              "      <td>17.7</td>\n",
              "    </tr>\n",
              "  </tbody>\n",
              "</table>\n",
              "</div>\n",
              "      <button class=\"colab-df-convert\" onclick=\"convertToInteractive('df-09374416-0a42-4be5-8516-763b4695d7ca')\"\n",
              "              title=\"Convert this dataframe to an interactive table.\"\n",
              "              style=\"display:none;\">\n",
              "        \n",
              "  <svg xmlns=\"http://www.w3.org/2000/svg\" height=\"24px\"viewBox=\"0 0 24 24\"\n",
              "       width=\"24px\">\n",
              "    <path d=\"M0 0h24v24H0V0z\" fill=\"none\"/>\n",
              "    <path d=\"M18.56 5.44l.94 2.06.94-2.06 2.06-.94-2.06-.94-.94-2.06-.94 2.06-2.06.94zm-11 1L8.5 8.5l.94-2.06 2.06-.94-2.06-.94L8.5 2.5l-.94 2.06-2.06.94zm10 10l.94 2.06.94-2.06 2.06-.94-2.06-.94-.94-2.06-.94 2.06-2.06.94z\"/><path d=\"M17.41 7.96l-1.37-1.37c-.4-.4-.92-.59-1.43-.59-.52 0-1.04.2-1.43.59L10.3 9.45l-7.72 7.72c-.78.78-.78 2.05 0 2.83L4 21.41c.39.39.9.59 1.41.59.51 0 1.02-.2 1.41-.59l7.78-7.78 2.81-2.81c.8-.78.8-2.07 0-2.86zM5.41 20L4 18.59l7.72-7.72 1.47 1.35L5.41 20z\"/>\n",
              "  </svg>\n",
              "      </button>\n",
              "      \n",
              "  <style>\n",
              "    .colab-df-container {\n",
              "      display:flex;\n",
              "      flex-wrap:wrap;\n",
              "      gap: 12px;\n",
              "    }\n",
              "\n",
              "    .colab-df-convert {\n",
              "      background-color: #E8F0FE;\n",
              "      border: none;\n",
              "      border-radius: 50%;\n",
              "      cursor: pointer;\n",
              "      display: none;\n",
              "      fill: #1967D2;\n",
              "      height: 32px;\n",
              "      padding: 0 0 0 0;\n",
              "      width: 32px;\n",
              "    }\n",
              "\n",
              "    .colab-df-convert:hover {\n",
              "      background-color: #E2EBFA;\n",
              "      box-shadow: 0px 1px 2px rgba(60, 64, 67, 0.3), 0px 1px 3px 1px rgba(60, 64, 67, 0.15);\n",
              "      fill: #174EA6;\n",
              "    }\n",
              "\n",
              "    [theme=dark] .colab-df-convert {\n",
              "      background-color: #3B4455;\n",
              "      fill: #D2E3FC;\n",
              "    }\n",
              "\n",
              "    [theme=dark] .colab-df-convert:hover {\n",
              "      background-color: #434B5C;\n",
              "      box-shadow: 0px 1px 3px 1px rgba(0, 0, 0, 0.15);\n",
              "      filter: drop-shadow(0px 1px 2px rgba(0, 0, 0, 0.3));\n",
              "      fill: #FFFFFF;\n",
              "    }\n",
              "  </style>\n",
              "\n",
              "      <script>\n",
              "        const buttonEl =\n",
              "          document.querySelector('#df-09374416-0a42-4be5-8516-763b4695d7ca button.colab-df-convert');\n",
              "        buttonEl.style.display =\n",
              "          google.colab.kernel.accessAllowed ? 'block' : 'none';\n",
              "\n",
              "        async function convertToInteractive(key) {\n",
              "          const element = document.querySelector('#df-09374416-0a42-4be5-8516-763b4695d7ca');\n",
              "          const dataTable =\n",
              "            await google.colab.kernel.invokeFunction('convertToInteractive',\n",
              "                                                     [key], {});\n",
              "          if (!dataTable) return;\n",
              "\n",
              "          const docLinkHtml = 'Like what you see? Visit the ' +\n",
              "            '<a target=\"_blank\" href=https://colab.research.google.com/notebooks/data_table.ipynb>data table notebook</a>'\n",
              "            + ' to learn more about interactive tables.';\n",
              "          element.innerHTML = '';\n",
              "          dataTable['output_type'] = 'display_data';\n",
              "          await google.colab.output.renderOutput(dataTable, element);\n",
              "          const docLink = document.createElement('div');\n",
              "          docLink.innerHTML = docLinkHtml;\n",
              "          element.appendChild(docLink);\n",
              "        }\n",
              "      </script>\n",
              "    </div>\n",
              "  </div>\n",
              "  "
            ]
          },
          "metadata": {},
          "execution_count": 76
        }
      ]
    },
    {
      "cell_type": "code",
      "source": [
        "# Imprimimos la forma de nuestra base de datos para realizar la separación de estos.\n",
        "data.shape\n",
        "data.columns"
      ],
      "metadata": {
        "colab": {
          "base_uri": "https://localhost:8080/"
        },
        "id": "g1KVTqwtrITa",
        "outputId": "0aa8ff5d-e51e-43a5-b933-58b8d913fb15"
      },
      "execution_count": 77,
      "outputs": [
        {
          "output_type": "execute_result",
          "data": {
            "text/plain": [
              "Index(['Density', 'BodyFat', 'Age', 'Weight', 'Height', 'Neck', 'Chest',\n",
              "       'Abdomen', 'Hip', 'Thigh', 'Knee', 'Ankle', 'Biceps', 'Forearm',\n",
              "       'Wrist'],\n",
              "      dtype='object')"
            ]
          },
          "metadata": {},
          "execution_count": 77
        }
      ]
    },
    {
      "cell_type": "code",
      "source": [
        "data=data.drop(['Density'], axis=1)"
      ],
      "metadata": {
        "id": "4h4TnneUxlJ7"
      },
      "execution_count": 78,
      "outputs": []
    },
    {
      "cell_type": "markdown",
      "source": [
        "## Realizamos la partición de nuestros datos\n",
        "En total tenemos 252 observaciones, por tanto 3/4 partes irán para entrenar nuestro modelo y 1/4 parte para el test."
      ],
      "metadata": {
        "id": "bd-fbocr09Zq"
      }
    },
    {
      "cell_type": "code",
      "source": [
        "# Nuestro objetivo será calcular el porcentaje masa muscular por tanto añadiremos esa columna a nuestras targets\n",
        "\n",
        "# 3/4 de 252\n",
        "train_targets=data.BodyFat[:189]\n",
        "# 1/4 de 252\n",
        "test_targets=data.BodyFat[190:]\n",
        "data=data.drop(['BodyFat'], axis=1)\n",
        "\n",
        "# El resto de variables serán los datos del modelo\n",
        "# 3/4 de 252\n",
        "train_data=data[:189]\n",
        "# 1/4 de 252\n",
        "test_data=data[190:]"
      ],
      "metadata": {
        "id": "uQSf9SCDdlkO"
      },
      "execution_count": 79,
      "outputs": []
    },
    {
      "cell_type": "markdown",
      "source": [
        "## Imprimimos la forma de los datos"
      ],
      "metadata": {
        "id": "O17TH2eg4Erz"
      }
    },
    {
      "cell_type": "code",
      "source": [
        "train_data.shape"
      ],
      "metadata": {
        "colab": {
          "base_uri": "https://localhost:8080/"
        },
        "id": "Ihq6r5uOOW6n",
        "outputId": "f084d5a5-1c60-406a-dc3f-58db792ce8f0"
      },
      "execution_count": 80,
      "outputs": [
        {
          "output_type": "execute_result",
          "data": {
            "text/plain": [
              "(189, 13)"
            ]
          },
          "metadata": {},
          "execution_count": 80
        }
      ]
    },
    {
      "cell_type": "code",
      "source": [
        "test_data.shape"
      ],
      "metadata": {
        "colab": {
          "base_uri": "https://localhost:8080/"
        },
        "id": "I-bVV-rSOaD0",
        "outputId": "8001342f-7902-4b9e-dcbb-fd8a6abc265f"
      },
      "execution_count": 81,
      "outputs": [
        {
          "output_type": "execute_result",
          "data": {
            "text/plain": [
              "(62, 13)"
            ]
          },
          "metadata": {},
          "execution_count": 81
        }
      ]
    },
    {
      "cell_type": "code",
      "source": [
        "train_targets.shape"
      ],
      "metadata": {
        "colab": {
          "base_uri": "https://localhost:8080/"
        },
        "id": "PgibHgHhOagB",
        "outputId": "81ec2e6e-5152-496a-e681-323fd9b90082"
      },
      "execution_count": 82,
      "outputs": [
        {
          "output_type": "execute_result",
          "data": {
            "text/plain": [
              "(189,)"
            ]
          },
          "metadata": {},
          "execution_count": 82
        }
      ]
    },
    {
      "cell_type": "code",
      "source": [
        "test_targets.shape"
      ],
      "metadata": {
        "colab": {
          "base_uri": "https://localhost:8080/"
        },
        "id": "TwcoEhr0OaxP",
        "outputId": "878d04f8-ebb8-46c9-bd77-1e0f5c57d492"
      },
      "execution_count": 83,
      "outputs": [
        {
          "output_type": "execute_result",
          "data": {
            "text/plain": [
              "(62,)"
            ]
          },
          "metadata": {},
          "execution_count": 83
        }
      ]
    },
    {
      "cell_type": "markdown",
      "source": [
        "## Preparamos los datos normalizándolos"
      ],
      "metadata": {
        "id": "rjq3Myrt4ouH"
      }
    },
    {
      "cell_type": "code",
      "source": [
        "# Normalizamos basándonos en las características\n",
        "##############################################\n",
        "# Calculamos la media del primer eje de los datos de entrenamiento\n",
        "mean = train_data.mean(axis=0)\n",
        "print(\"##### Media de las 14 características de los datos de entrenamiento ##### \")\n",
        "print(mean)\n",
        "# A los datos de entrenamiento le restamos la media\n",
        "train_data -= mean\n",
        "\n",
        "# Calculamos la desviación estandar del primer eje de los datos de entrenamiento\n",
        "std = train_data.std(axis=0)\n",
        "print(\"##### Desviación estandar de las 14 características de los datos de entrenamiento ##### \")\n",
        "print(std)\n",
        "# A los datos de entrenamiento los dividimos por la desviación estándar\n",
        "train_data /= std\n",
        "\n",
        "\n",
        "# USAMOS LA MEDIA Y LA DESVIACIÓN ESTANDAR DE LOS DATOS DE \n",
        "# ENTRENAMIENTO PARA NORMALIZAR EL SET DE DATOS DE LOS DATOS DE TEST \n",
        "test_data -= mean\n",
        "test_data /= std\n"
      ],
      "metadata": {
        "colab": {
          "base_uri": "https://localhost:8080/"
        },
        "id": "Vm0wC3sVOnKA",
        "outputId": "58af5e9c-7d19-4ffa-d3e1-fc898f2433e4"
      },
      "execution_count": 84,
      "outputs": [
        {
          "output_type": "stream",
          "name": "stdout",
          "text": [
            "##### Media de las 14 características de los datos de entrenamiento ##### \n",
            "Age         41.888889\n",
            "Weight     178.469841\n",
            "Height      70.240741\n",
            "Neck        37.895767\n",
            "Chest      100.125926\n",
            "Abdomen     91.725397\n",
            "Hip         99.893122\n",
            "Thigh       59.613757\n",
            "Knee        38.515344\n",
            "Ankle       23.143915\n",
            "Biceps      32.289947\n",
            "Forearm     28.694709\n",
            "Wrist       18.173016\n",
            "dtype: float64\n",
            "##### Desviación estandar de las 14 características de los datos de entrenamiento ##### \n",
            "Age        12.009453\n",
            "Weight     29.818886\n",
            "Height      3.966228\n",
            "Neck        2.492880\n",
            "Chest       8.167412\n",
            "Abdomen    10.598002\n",
            "Hip         7.353296\n",
            "Thigh       5.527727\n",
            "Knee        2.333641\n",
            "Ankle       1.793139\n",
            "Biceps      3.056377\n",
            "Forearm     2.015254\n",
            "Wrist       0.932773\n",
            "dtype: float64\n"
          ]
        }
      ]
    },
    {
      "cell_type": "code",
      "source": [
        "train_data.shape[1]"
      ],
      "metadata": {
        "id": "UJ_wHV1C42Uq",
        "outputId": "0c485477-e37b-4ac1-a518-9972008a5e87",
        "colab": {
          "base_uri": "https://localhost:8080/"
        }
      },
      "execution_count": 85,
      "outputs": [
        {
          "output_type": "execute_result",
          "data": {
            "text/plain": [
              "13"
            ]
          },
          "metadata": {},
          "execution_count": 85
        }
      ]
    },
    {
      "cell_type": "markdown",
      "source": [
        "## Construimos el modelo "
      ],
      "metadata": {
        "id": "juRKc9CK5B8n"
      }
    },
    {
      "cell_type": "code",
      "source": [
        "def build_model():\n",
        "    model = models.Sequential()\n",
        "    model.add(layers.Dense(90, activation='relu',\n",
        "                           input_shape=(train_data.shape[1],)))\n",
        "    model.add(layers.Dense(90, activation='relu'))\n",
        "    model.add(layers.Dense(1))\n",
        "    # MSE: Mean Squared Error\n",
        "    # MAE: Mean Absolute Error\n",
        "    model.compile(optimizer='rmsprop', loss='mse', \n",
        "                  metrics=[tf.keras.metrics.MeanAbsoluteError()]) # metrics = ['mae']\n",
        "    return model"
      ],
      "metadata": {
        "id": "1Ko1B4Q3ZC_d"
      },
      "execution_count": 86,
      "outputs": []
    },
    {
      "cell_type": "markdown",
      "source": [
        "## Realizamos las particiones de los datos de entrenamiento"
      ],
      "metadata": {
        "id": "jy25uZZn5PSn"
      }
    },
    {
      "cell_type": "code",
      "source": [
        "# 3/4 de 189 = 141\n",
        "# 1/4 de 189 = 48\n",
        "partial_train_data = train_data[:141]\n",
        "partial_eval_train_data = train_data[142:]\n",
        "partial_train_targets = train_targets[:141]\n",
        "partial_eval_train_targets = train_targets[142:]"
      ],
      "metadata": {
        "id": "019PQQ2MZmNd"
      },
      "execution_count": 87,
      "outputs": []
    },
    {
      "cell_type": "code",
      "source": [
        "# Llamamos a nuestra función de construir modelo\n",
        "mymodel = build_model()"
      ],
      "metadata": {
        "id": "znQpv5fCZOOf"
      },
      "execution_count": 88,
      "outputs": []
    },
    {
      "cell_type": "markdown",
      "source": [
        "## Entrenamos nuestro modelo\n",
        "\n",
        "Lo haremos con 100 épocas y un batch_size = 1"
      ],
      "metadata": {
        "id": "N4zr-wS96D8H"
      }
    },
    {
      "cell_type": "code",
      "source": [
        "history = mymodel.fit(partial_train_data, partial_train_targets,\n",
        "            validation_data=(partial_eval_train_data, partial_eval_train_targets),\n",
        "                        epochs=100, batch_size=1)"
      ],
      "metadata": {
        "colab": {
          "base_uri": "https://localhost:8080/"
        },
        "id": "-UAUOTQJZQte",
        "outputId": "e9246ad0-83ee-4ed0-a5bc-b5be799ae60d"
      },
      "execution_count": 89,
      "outputs": [
        {
          "output_type": "stream",
          "name": "stdout",
          "text": [
            "Epoch 1/100\n",
            "141/141 [==============================] - 1s 3ms/step - loss: 240.0514 - mean_absolute_error: 13.3944 - val_loss: 77.9442 - val_mean_absolute_error: 6.9063\n",
            "Epoch 2/100\n",
            "141/141 [==============================] - 0s 2ms/step - loss: 97.4123 - mean_absolute_error: 7.9246 - val_loss: 77.2245 - val_mean_absolute_error: 6.8031\n",
            "Epoch 3/100\n",
            "141/141 [==============================] - 0s 3ms/step - loss: 66.1943 - mean_absolute_error: 6.4277 - val_loss: 46.8180 - val_mean_absolute_error: 5.3240\n",
            "Epoch 4/100\n",
            "141/141 [==============================] - 0s 2ms/step - loss: 50.3485 - mean_absolute_error: 5.3640 - val_loss: 38.2336 - val_mean_absolute_error: 4.8230\n",
            "Epoch 5/100\n",
            "141/141 [==============================] - 0s 2ms/step - loss: 37.4237 - mean_absolute_error: 4.8342 - val_loss: 30.1423 - val_mean_absolute_error: 4.3642\n",
            "Epoch 6/100\n",
            "141/141 [==============================] - 0s 2ms/step - loss: 29.2943 - mean_absolute_error: 4.4687 - val_loss: 31.6684 - val_mean_absolute_error: 4.6576\n",
            "Epoch 7/100\n",
            "141/141 [==============================] - 0s 2ms/step - loss: 29.5779 - mean_absolute_error: 4.2278 - val_loss: 25.7543 - val_mean_absolute_error: 3.9115\n",
            "Epoch 8/100\n",
            "141/141 [==============================] - 0s 2ms/step - loss: 24.1509 - mean_absolute_error: 4.1000 - val_loss: 23.1169 - val_mean_absolute_error: 3.7721\n",
            "Epoch 9/100\n",
            "141/141 [==============================] - 0s 2ms/step - loss: 22.2856 - mean_absolute_error: 3.9277 - val_loss: 34.1859 - val_mean_absolute_error: 4.4568\n",
            "Epoch 10/100\n",
            "141/141 [==============================] - 0s 2ms/step - loss: 21.6570 - mean_absolute_error: 3.9020 - val_loss: 23.7503 - val_mean_absolute_error: 3.8797\n",
            "Epoch 11/100\n",
            "141/141 [==============================] - 0s 2ms/step - loss: 18.7895 - mean_absolute_error: 3.5640 - val_loss: 20.4021 - val_mean_absolute_error: 3.6634\n",
            "Epoch 12/100\n",
            "141/141 [==============================] - 0s 2ms/step - loss: 20.7887 - mean_absolute_error: 3.7872 - val_loss: 25.2151 - val_mean_absolute_error: 3.9811\n",
            "Epoch 13/100\n",
            "141/141 [==============================] - 0s 2ms/step - loss: 18.1831 - mean_absolute_error: 3.5678 - val_loss: 23.1424 - val_mean_absolute_error: 3.9961\n",
            "Epoch 14/100\n",
            "141/141 [==============================] - 1s 4ms/step - loss: 17.9976 - mean_absolute_error: 3.4765 - val_loss: 19.0826 - val_mean_absolute_error: 3.6300\n",
            "Epoch 15/100\n",
            "141/141 [==============================] - 1s 5ms/step - loss: 17.6388 - mean_absolute_error: 3.4389 - val_loss: 20.0878 - val_mean_absolute_error: 3.7413\n",
            "Epoch 16/100\n",
            "141/141 [==============================] - 0s 2ms/step - loss: 16.5140 - mean_absolute_error: 3.2572 - val_loss: 24.7507 - val_mean_absolute_error: 4.1565\n",
            "Epoch 17/100\n",
            "141/141 [==============================] - 0s 2ms/step - loss: 15.5773 - mean_absolute_error: 3.1274 - val_loss: 16.6530 - val_mean_absolute_error: 3.4508\n",
            "Epoch 18/100\n",
            "141/141 [==============================] - 0s 2ms/step - loss: 15.0274 - mean_absolute_error: 3.1890 - val_loss: 20.6230 - val_mean_absolute_error: 3.6249\n",
            "Epoch 19/100\n",
            "141/141 [==============================] - 0s 2ms/step - loss: 14.9843 - mean_absolute_error: 3.1666 - val_loss: 18.2993 - val_mean_absolute_error: 3.5497\n",
            "Epoch 20/100\n",
            "141/141 [==============================] - 0s 2ms/step - loss: 14.9136 - mean_absolute_error: 3.0747 - val_loss: 26.8299 - val_mean_absolute_error: 4.1187\n",
            "Epoch 21/100\n",
            "141/141 [==============================] - 0s 2ms/step - loss: 15.2529 - mean_absolute_error: 3.1113 - val_loss: 17.5681 - val_mean_absolute_error: 3.5118\n",
            "Epoch 22/100\n",
            "141/141 [==============================] - 0s 2ms/step - loss: 14.4551 - mean_absolute_error: 3.1497 - val_loss: 20.7836 - val_mean_absolute_error: 3.7431\n",
            "Epoch 23/100\n",
            "141/141 [==============================] - 0s 2ms/step - loss: 12.6821 - mean_absolute_error: 2.9154 - val_loss: 20.1447 - val_mean_absolute_error: 3.7613\n",
            "Epoch 24/100\n",
            "141/141 [==============================] - 0s 2ms/step - loss: 13.1123 - mean_absolute_error: 2.8860 - val_loss: 23.8112 - val_mean_absolute_error: 4.0153\n",
            "Epoch 25/100\n",
            "141/141 [==============================] - 0s 2ms/step - loss: 13.6005 - mean_absolute_error: 2.8486 - val_loss: 26.4971 - val_mean_absolute_error: 4.1096\n",
            "Epoch 26/100\n",
            "141/141 [==============================] - 0s 2ms/step - loss: 12.0126 - mean_absolute_error: 2.7054 - val_loss: 25.1195 - val_mean_absolute_error: 4.0439\n",
            "Epoch 27/100\n",
            "141/141 [==============================] - 0s 2ms/step - loss: 12.3310 - mean_absolute_error: 2.7902 - val_loss: 18.4103 - val_mean_absolute_error: 3.5755\n",
            "Epoch 28/100\n",
            "141/141 [==============================] - 0s 2ms/step - loss: 12.9657 - mean_absolute_error: 2.8321 - val_loss: 20.5614 - val_mean_absolute_error: 3.7593\n",
            "Epoch 29/100\n",
            "141/141 [==============================] - 0s 2ms/step - loss: 11.9515 - mean_absolute_error: 2.6375 - val_loss: 19.6293 - val_mean_absolute_error: 3.6385\n",
            "Epoch 30/100\n",
            "141/141 [==============================] - 0s 2ms/step - loss: 11.5525 - mean_absolute_error: 2.5913 - val_loss: 19.2166 - val_mean_absolute_error: 3.5472\n",
            "Epoch 31/100\n",
            "141/141 [==============================] - 0s 2ms/step - loss: 11.0022 - mean_absolute_error: 2.6403 - val_loss: 23.1985 - val_mean_absolute_error: 3.9276\n",
            "Epoch 32/100\n",
            "141/141 [==============================] - 0s 2ms/step - loss: 10.9068 - mean_absolute_error: 2.5875 - val_loss: 21.0263 - val_mean_absolute_error: 3.6779\n",
            "Epoch 33/100\n",
            "141/141 [==============================] - 0s 2ms/step - loss: 11.2582 - mean_absolute_error: 2.6084 - val_loss: 18.3211 - val_mean_absolute_error: 3.5906\n",
            "Epoch 34/100\n",
            "141/141 [==============================] - 0s 2ms/step - loss: 10.0868 - mean_absolute_error: 2.4960 - val_loss: 22.0004 - val_mean_absolute_error: 3.9087\n",
            "Epoch 35/100\n",
            "141/141 [==============================] - 0s 2ms/step - loss: 10.4646 - mean_absolute_error: 2.4896 - val_loss: 19.5191 - val_mean_absolute_error: 3.6942\n",
            "Epoch 36/100\n",
            "141/141 [==============================] - 0s 2ms/step - loss: 9.7317 - mean_absolute_error: 2.3885 - val_loss: 30.7338 - val_mean_absolute_error: 4.3520\n",
            "Epoch 37/100\n",
            "141/141 [==============================] - 0s 2ms/step - loss: 9.8210 - mean_absolute_error: 2.3845 - val_loss: 21.0568 - val_mean_absolute_error: 3.8142\n",
            "Epoch 38/100\n",
            "141/141 [==============================] - 0s 2ms/step - loss: 9.4761 - mean_absolute_error: 2.4142 - val_loss: 23.0673 - val_mean_absolute_error: 3.9425\n",
            "Epoch 39/100\n",
            "141/141 [==============================] - 0s 2ms/step - loss: 9.7820 - mean_absolute_error: 2.3803 - val_loss: 19.0191 - val_mean_absolute_error: 3.6205\n",
            "Epoch 40/100\n",
            "141/141 [==============================] - 0s 2ms/step - loss: 8.7541 - mean_absolute_error: 2.3307 - val_loss: 20.3296 - val_mean_absolute_error: 3.7149\n",
            "Epoch 41/100\n",
            "141/141 [==============================] - 0s 2ms/step - loss: 8.5637 - mean_absolute_error: 2.2522 - val_loss: 19.5102 - val_mean_absolute_error: 3.6731\n",
            "Epoch 42/100\n",
            "141/141 [==============================] - 0s 2ms/step - loss: 8.4663 - mean_absolute_error: 2.1923 - val_loss: 29.1986 - val_mean_absolute_error: 4.2987\n",
            "Epoch 43/100\n",
            "141/141 [==============================] - 0s 2ms/step - loss: 9.0603 - mean_absolute_error: 2.2933 - val_loss: 21.7889 - val_mean_absolute_error: 3.8410\n",
            "Epoch 44/100\n",
            "141/141 [==============================] - 0s 2ms/step - loss: 7.5821 - mean_absolute_error: 2.0627 - val_loss: 27.8952 - val_mean_absolute_error: 4.1958\n",
            "Epoch 45/100\n",
            "141/141 [==============================] - 0s 2ms/step - loss: 7.6770 - mean_absolute_error: 2.0947 - val_loss: 24.2481 - val_mean_absolute_error: 4.0373\n",
            "Epoch 46/100\n",
            "141/141 [==============================] - 0s 3ms/step - loss: 7.7457 - mean_absolute_error: 2.1119 - val_loss: 28.3971 - val_mean_absolute_error: 4.3136\n",
            "Epoch 47/100\n",
            "141/141 [==============================] - 0s 2ms/step - loss: 7.9726 - mean_absolute_error: 1.9683 - val_loss: 26.3894 - val_mean_absolute_error: 4.3171\n",
            "Epoch 48/100\n",
            "141/141 [==============================] - 0s 2ms/step - loss: 7.7532 - mean_absolute_error: 2.1099 - val_loss: 22.2613 - val_mean_absolute_error: 3.9300\n",
            "Epoch 49/100\n",
            "141/141 [==============================] - 0s 2ms/step - loss: 6.8820 - mean_absolute_error: 1.9613 - val_loss: 30.5201 - val_mean_absolute_error: 4.5624\n",
            "Epoch 50/100\n",
            "141/141 [==============================] - 0s 2ms/step - loss: 6.7719 - mean_absolute_error: 1.9974 - val_loss: 26.7128 - val_mean_absolute_error: 4.1480\n",
            "Epoch 51/100\n",
            "141/141 [==============================] - 0s 2ms/step - loss: 6.8867 - mean_absolute_error: 1.9441 - val_loss: 25.9142 - val_mean_absolute_error: 4.1547\n",
            "Epoch 52/100\n",
            "141/141 [==============================] - 0s 2ms/step - loss: 6.7095 - mean_absolute_error: 1.9726 - val_loss: 24.8741 - val_mean_absolute_error: 3.9652\n",
            "Epoch 53/100\n",
            "141/141 [==============================] - 0s 2ms/step - loss: 7.4289 - mean_absolute_error: 1.9571 - val_loss: 24.6212 - val_mean_absolute_error: 4.0938\n",
            "Epoch 54/100\n",
            "141/141 [==============================] - 0s 2ms/step - loss: 6.2653 - mean_absolute_error: 1.8961 - val_loss: 27.8316 - val_mean_absolute_error: 4.1792\n",
            "Epoch 55/100\n",
            "141/141 [==============================] - 0s 2ms/step - loss: 6.2883 - mean_absolute_error: 1.8181 - val_loss: 30.7559 - val_mean_absolute_error: 4.5102\n",
            "Epoch 56/100\n",
            "141/141 [==============================] - 0s 2ms/step - loss: 6.1243 - mean_absolute_error: 1.8567 - val_loss: 26.9070 - val_mean_absolute_error: 4.1678\n",
            "Epoch 57/100\n",
            "141/141 [==============================] - 0s 2ms/step - loss: 6.4872 - mean_absolute_error: 1.8575 - val_loss: 30.2046 - val_mean_absolute_error: 4.4536\n",
            "Epoch 58/100\n",
            "141/141 [==============================] - 0s 2ms/step - loss: 5.6131 - mean_absolute_error: 1.7637 - val_loss: 26.4798 - val_mean_absolute_error: 4.2978\n",
            "Epoch 59/100\n",
            "141/141 [==============================] - 0s 2ms/step - loss: 6.2170 - mean_absolute_error: 1.8207 - val_loss: 26.9149 - val_mean_absolute_error: 4.2685\n",
            "Epoch 60/100\n",
            "141/141 [==============================] - 0s 2ms/step - loss: 5.8230 - mean_absolute_error: 1.7960 - val_loss: 25.8737 - val_mean_absolute_error: 4.2216\n",
            "Epoch 61/100\n",
            "141/141 [==============================] - 0s 2ms/step - loss: 5.7927 - mean_absolute_error: 1.7588 - val_loss: 27.3114 - val_mean_absolute_error: 4.2672\n",
            "Epoch 62/100\n",
            "141/141 [==============================] - 0s 2ms/step - loss: 5.3291 - mean_absolute_error: 1.6932 - val_loss: 27.4707 - val_mean_absolute_error: 4.3109\n",
            "Epoch 63/100\n",
            "141/141 [==============================] - 0s 2ms/step - loss: 5.4715 - mean_absolute_error: 1.7356 - val_loss: 25.9696 - val_mean_absolute_error: 4.1070\n",
            "Epoch 64/100\n",
            "141/141 [==============================] - 0s 2ms/step - loss: 4.7601 - mean_absolute_error: 1.6486 - val_loss: 34.4599 - val_mean_absolute_error: 4.8840\n",
            "Epoch 65/100\n",
            "141/141 [==============================] - 0s 2ms/step - loss: 5.0839 - mean_absolute_error: 1.6305 - val_loss: 28.2941 - val_mean_absolute_error: 4.4060\n",
            "Epoch 66/100\n",
            "141/141 [==============================] - 0s 2ms/step - loss: 5.7006 - mean_absolute_error: 1.6918 - val_loss: 28.2501 - val_mean_absolute_error: 4.2852\n",
            "Epoch 67/100\n",
            "141/141 [==============================] - 0s 2ms/step - loss: 4.4178 - mean_absolute_error: 1.5387 - val_loss: 27.5192 - val_mean_absolute_error: 4.3449\n",
            "Epoch 68/100\n",
            "141/141 [==============================] - 0s 2ms/step - loss: 4.5296 - mean_absolute_error: 1.5311 - val_loss: 25.4610 - val_mean_absolute_error: 4.1999\n",
            "Epoch 69/100\n",
            "141/141 [==============================] - 0s 2ms/step - loss: 4.0013 - mean_absolute_error: 1.4930 - val_loss: 27.1785 - val_mean_absolute_error: 4.4210\n",
            "Epoch 70/100\n",
            "141/141 [==============================] - 0s 2ms/step - loss: 4.1029 - mean_absolute_error: 1.5163 - val_loss: 32.0396 - val_mean_absolute_error: 4.7044\n",
            "Epoch 71/100\n",
            "141/141 [==============================] - 0s 2ms/step - loss: 4.5150 - mean_absolute_error: 1.5782 - val_loss: 26.9061 - val_mean_absolute_error: 4.2764\n",
            "Epoch 72/100\n",
            "141/141 [==============================] - 0s 2ms/step - loss: 4.0629 - mean_absolute_error: 1.4887 - val_loss: 40.8559 - val_mean_absolute_error: 5.1259\n",
            "Epoch 73/100\n",
            "141/141 [==============================] - 0s 2ms/step - loss: 4.4159 - mean_absolute_error: 1.5667 - val_loss: 29.8066 - val_mean_absolute_error: 4.6259\n",
            "Epoch 74/100\n",
            "141/141 [==============================] - 0s 3ms/step - loss: 4.2695 - mean_absolute_error: 1.5237 - val_loss: 30.1639 - val_mean_absolute_error: 4.5264\n",
            "Epoch 75/100\n",
            "141/141 [==============================] - 0s 2ms/step - loss: 3.9485 - mean_absolute_error: 1.4938 - val_loss: 31.4487 - val_mean_absolute_error: 4.4689\n",
            "Epoch 76/100\n",
            "141/141 [==============================] - 0s 2ms/step - loss: 4.1683 - mean_absolute_error: 1.5041 - val_loss: 30.1047 - val_mean_absolute_error: 4.5207\n",
            "Epoch 77/100\n",
            "141/141 [==============================] - 0s 2ms/step - loss: 3.9608 - mean_absolute_error: 1.4261 - val_loss: 28.1583 - val_mean_absolute_error: 4.3347\n",
            "Epoch 78/100\n",
            "141/141 [==============================] - 0s 2ms/step - loss: 3.6007 - mean_absolute_error: 1.4560 - val_loss: 27.8174 - val_mean_absolute_error: 4.2541\n",
            "Epoch 79/100\n",
            "141/141 [==============================] - 0s 2ms/step - loss: 3.9142 - mean_absolute_error: 1.5049 - val_loss: 30.9525 - val_mean_absolute_error: 4.7118\n",
            "Epoch 80/100\n",
            "141/141 [==============================] - 0s 2ms/step - loss: 3.4897 - mean_absolute_error: 1.4107 - val_loss: 31.7598 - val_mean_absolute_error: 4.6663\n",
            "Epoch 81/100\n",
            "141/141 [==============================] - 0s 2ms/step - loss: 3.3976 - mean_absolute_error: 1.4038 - val_loss: 29.4019 - val_mean_absolute_error: 4.5588\n",
            "Epoch 82/100\n",
            "141/141 [==============================] - 0s 2ms/step - loss: 4.5622 - mean_absolute_error: 1.4489 - val_loss: 30.3021 - val_mean_absolute_error: 4.6107\n",
            "Epoch 83/100\n",
            "141/141 [==============================] - 0s 2ms/step - loss: 3.1048 - mean_absolute_error: 1.3272 - val_loss: 33.0435 - val_mean_absolute_error: 4.6550\n",
            "Epoch 84/100\n",
            "141/141 [==============================] - 0s 2ms/step - loss: 2.7796 - mean_absolute_error: 1.2952 - val_loss: 34.4913 - val_mean_absolute_error: 4.9939\n",
            "Epoch 85/100\n",
            "141/141 [==============================] - 0s 2ms/step - loss: 2.7854 - mean_absolute_error: 1.2828 - val_loss: 29.5144 - val_mean_absolute_error: 4.4128\n",
            "Epoch 86/100\n",
            "141/141 [==============================] - 0s 2ms/step - loss: 3.8250 - mean_absolute_error: 1.2948 - val_loss: 31.5167 - val_mean_absolute_error: 4.7107\n",
            "Epoch 87/100\n",
            "141/141 [==============================] - 0s 2ms/step - loss: 3.2422 - mean_absolute_error: 1.3360 - val_loss: 29.5857 - val_mean_absolute_error: 4.5404\n",
            "Epoch 88/100\n",
            "141/141 [==============================] - 0s 2ms/step - loss: 2.6626 - mean_absolute_error: 1.3010 - val_loss: 32.8217 - val_mean_absolute_error: 4.6328\n",
            "Epoch 89/100\n",
            "141/141 [==============================] - 0s 3ms/step - loss: 3.0459 - mean_absolute_error: 1.2950 - val_loss: 30.7462 - val_mean_absolute_error: 4.6083\n",
            "Epoch 90/100\n",
            "141/141 [==============================] - 0s 2ms/step - loss: 2.7715 - mean_absolute_error: 1.2392 - val_loss: 32.8346 - val_mean_absolute_error: 4.7325\n",
            "Epoch 91/100\n",
            "141/141 [==============================] - 0s 2ms/step - loss: 2.7651 - mean_absolute_error: 1.2125 - val_loss: 32.6614 - val_mean_absolute_error: 4.7269\n",
            "Epoch 92/100\n",
            "141/141 [==============================] - 0s 2ms/step - loss: 2.8299 - mean_absolute_error: 1.2821 - val_loss: 35.7535 - val_mean_absolute_error: 4.8982\n",
            "Epoch 93/100\n",
            "141/141 [==============================] - 0s 2ms/step - loss: 2.7641 - mean_absolute_error: 1.1836 - val_loss: 29.6370 - val_mean_absolute_error: 4.5514\n",
            "Epoch 94/100\n",
            "141/141 [==============================] - 0s 2ms/step - loss: 2.7416 - mean_absolute_error: 1.2482 - val_loss: 30.7116 - val_mean_absolute_error: 4.5476\n",
            "Epoch 95/100\n",
            "141/141 [==============================] - 0s 2ms/step - loss: 2.4386 - mean_absolute_error: 1.1812 - val_loss: 36.0031 - val_mean_absolute_error: 4.9586\n",
            "Epoch 96/100\n",
            "141/141 [==============================] - 0s 2ms/step - loss: 2.8801 - mean_absolute_error: 1.3260 - val_loss: 31.3398 - val_mean_absolute_error: 4.5957\n",
            "Epoch 97/100\n",
            "141/141 [==============================] - 0s 2ms/step - loss: 2.2127 - mean_absolute_error: 1.1403 - val_loss: 33.5150 - val_mean_absolute_error: 4.8166\n",
            "Epoch 98/100\n",
            "141/141 [==============================] - 0s 2ms/step - loss: 2.8299 - mean_absolute_error: 1.2183 - val_loss: 31.0027 - val_mean_absolute_error: 4.5795\n",
            "Epoch 99/100\n",
            "141/141 [==============================] - 0s 2ms/step - loss: 2.3683 - mean_absolute_error: 1.1714 - val_loss: 30.4093 - val_mean_absolute_error: 4.4986\n",
            "Epoch 100/100\n",
            "141/141 [==============================] - 0s 2ms/step - loss: 1.9951 - mean_absolute_error: 1.0941 - val_loss: 32.4383 - val_mean_absolute_error: 4.7260\n"
          ]
        }
      ]
    },
    {
      "cell_type": "code",
      "source": [
        "mae_history = history.history['val_mean_absolute_error']\n",
        "accuracy= np.mean(mae_history)\n",
        "accuracy"
      ],
      "metadata": {
        "id": "i_mRL-sMd8_C",
        "colab": {
          "base_uri": "https://localhost:8080/"
        },
        "outputId": "3c451581-2cea-4e47-d041-72b332205c01"
      },
      "execution_count": 90,
      "outputs": [
        {
          "output_type": "execute_result",
          "data": {
            "text/plain": [
              "4.291854026317597"
            ]
          },
          "metadata": {},
          "execution_count": 90
        }
      ]
    },
    {
      "cell_type": "markdown",
      "source": [
        "Aún estamos desviados 1.37% de la masa corporal. "
      ],
      "metadata": {
        "id": "23UbDwJY66N5"
      }
    },
    {
      "cell_type": "code",
      "source": [
        "mse_history = history.history['val_loss']"
      ],
      "metadata": {
        "id": "TghrxcY-ek0B"
      },
      "execution_count": 91,
      "outputs": []
    },
    {
      "cell_type": "markdown",
      "source": [
        "Confrontamos en una gráfica de épocas en el eje de abcisas contra pérdida (MSE) en el eje de ordenadas\n",
        "\n",
        "Podemos ver que a partir de la época 20 se genera sobreentrenamiento debido a que nuestro modelo deja de mejorar ya que como podemos ver la gráfica se estabiliza y dejamos de mejorar a partir de ese momento."
      ],
      "metadata": {
        "id": "DllLRVSn7Ere"
      }
    },
    {
      "cell_type": "code",
      "source": [
        "plt.plot(range(1, len(mse_history) + 1), mse_history)\n",
        "plt.xlabel('Epochs')\n",
        "plt.ylabel('Validación MSE')\n",
        "plt.show()"
      ],
      "metadata": {
        "id": "gcfWuM20hopF",
        "colab": {
          "base_uri": "https://localhost:8080/",
          "height": 280
        },
        "outputId": "6fcdb2fc-4533-4080-fdae-9867a5f9d62d"
      },
      "execution_count": 92,
      "outputs": [
        {
          "output_type": "display_data",
          "data": {
            "text/plain": [
              "<Figure size 432x288 with 1 Axes>"
            ],
            "image/png": "[encoded data removed]"
          },
          "metadata": {
            "needs_background": "light"
          }
        }
      ]
    },
    {
      "cell_type": "markdown",
      "source": [
        "Esta gráfica nos sirve para visualizar como se ajustan los datos de validación con los de entreno, \n",
        "como están bastante juntos podemos asegurar que está funcionando correctamente"
      ],
      "metadata": {
        "id": "fg865tXpElRh"
      }
    },
    {
      "cell_type": "code",
      "source": [
        "loss = history.history['loss']\n",
        "val_loss = history.history['val_loss']\n",
        "\n",
        "epochs = range(1, len(loss) + 1)\n",
        "\n",
        "plt.plot(epochs, loss, 'bo', label='Pérdida del entreno')\n",
        "plt.plot(epochs, val_loss, 'b', label='Pérdida de la validación')\n",
        "plt.title('Perdidas del entreno y la validación')\n",
        "plt.xlabel('Épocas')\n",
        "plt.ylabel('Pérdida')\n",
        "plt.legend()\n",
        "\n",
        "plt.show()"
      ],
      "metadata": {
        "id": "DNuqDK1Zhq1X",
        "colab": {
          "base_uri": "https://localhost:8080/",
          "height": 297
        },
        "outputId": "d546ac4c-4dbb-4c86-dfc3-be66f14584c8"
      },
      "execution_count": 93,
      "outputs": [
        {
          "output_type": "display_data",
          "data": {
            "text/plain": [
              "<Figure size 432x288 with 1 Axes>"
            ],
            "image/png": "[encoded data removed]"
          },
          "metadata": {
            "needs_background": "light"
          }
        }
      ]
    },
    {
      "cell_type": "markdown",
      "source": [
        "Confrontamos en una gráfica de épocas en el eje de abcisas contra la métrica de \n",
        "error absoluto medio (MAE)\n",
        "\n",
        "Esta gráfica nos ayuda a verificar que se genera sobreentramiento a partir de la época 20."
      ],
      "metadata": {
        "id": "PBwTC5gm71Pb"
      }
    },
    {
      "cell_type": "code",
      "source": [
        "plt.plot(range(1, len(mae_history) + 1), mae_history)\n",
        "plt.xlabel('Epochs')\n",
        "plt.ylabel('Validación MAE')\n",
        "plt.show()"
      ],
      "metadata": {
        "id": "mClz2sAGhsra",
        "colab": {
          "base_uri": "https://localhost:8080/",
          "height": 279
        },
        "outputId": "8440b333-bfa5-43d9-a9da-eb95746c8757"
      },
      "execution_count": 94,
      "outputs": [
        {
          "output_type": "display_data",
          "data": {
            "text/plain": [
              "<Figure size 432x288 with 1 Axes>"
            ],
            "image/png": "[encoded data removed]"
          },
          "metadata": {
            "needs_background": "light"
          }
        }
      ]
    },
    {
      "cell_type": "markdown",
      "source": [
        "Esta gráfica funciona algo peor que la anterior pero sigue funcionando bastante bien"
      ],
      "metadata": {
        "id": "uoJysI14D3qL"
      }
    },
    {
      "cell_type": "code",
      "source": [
        "loss = history.history['mean_absolute_error']\n",
        "val_loss = history.history['val_mean_absolute_error']\n",
        "\n",
        "epochs = range(1, len(loss) + 1)\n",
        "\n",
        "plt.plot(epochs, loss, 'bo', label='Pérdida del entreno')\n",
        "plt.plot(epochs, val_loss, 'b', label='Pérdida de la validación')\n",
        "plt.title('Perdidas del entreno y la validación')\n",
        "plt.xlabel('Épocas')\n",
        "plt.ylabel('Pérdida')\n",
        "plt.legend()\n",
        "\n",
        "plt.show()"
      ],
      "metadata": {
        "id": "njh5NgIDhutt",
        "colab": {
          "base_uri": "https://localhost:8080/",
          "height": 297
        },
        "outputId": "58c127d5-4e3c-42af-dfc3-5820a3026338"
      },
      "execution_count": 95,
      "outputs": [
        {
          "output_type": "display_data",
          "data": {
            "text/plain": [
              "<Figure size 432x288 with 1 Axes>"
            ],
            "image/png": "[encoded data removed]"
          },
          "metadata": {
            "needs_background": "light"
          }
        }
      ]
    },
    {
      "cell_type": "markdown",
      "source": [
        "Entrenamos de nuevo el modelo el número de épocas adecuado para evitar overfitting"
      ],
      "metadata": {
        "id": "vR0_hj9N8LWf"
      }
    },
    {
      "cell_type": "code",
      "source": [
        "mymodel2 = build_model()\n",
        "history2 = mymodel2.fit(partial_train_data, partial_train_targets,\n",
        "            validation_data=(partial_eval_train_data, partial_eval_train_targets),\n",
        "                        epochs=20, batch_size=1)"
      ],
      "metadata": {
        "id": "jfLmuPaUhwhV",
        "colab": {
          "base_uri": "https://localhost:8080/"
        },
        "outputId": "a3643739-eb58-49f2-9285-5b7ec06980f3"
      },
      "execution_count": 96,
      "outputs": [
        {
          "output_type": "stream",
          "name": "stdout",
          "text": [
            "Epoch 1/20\n",
            "141/141 [==============================] - 1s 3ms/step - loss: 211.5789 - mean_absolute_error: 12.6315 - val_loss: 111.1852 - val_mean_absolute_error: 8.1502\n",
            "Epoch 2/20\n",
            "141/141 [==============================] - 0s 2ms/step - loss: 106.7379 - mean_absolute_error: 7.6656 - val_loss: 73.5910 - val_mean_absolute_error: 6.6423\n",
            "Epoch 3/20\n",
            "141/141 [==============================] - 0s 3ms/step - loss: 69.5675 - mean_absolute_error: 6.4849 - val_loss: 50.1668 - val_mean_absolute_error: 5.4927\n",
            "Epoch 4/20\n",
            "141/141 [==============================] - 0s 2ms/step - loss: 55.6014 - mean_absolute_error: 5.6494 - val_loss: 38.8463 - val_mean_absolute_error: 4.7822\n",
            "Epoch 5/20\n",
            "141/141 [==============================] - 0s 2ms/step - loss: 41.8465 - mean_absolute_error: 5.1466 - val_loss: 31.7871 - val_mean_absolute_error: 4.4272\n",
            "Epoch 6/20\n",
            "141/141 [==============================] - 0s 2ms/step - loss: 35.6493 - mean_absolute_error: 4.7203 - val_loss: 27.3278 - val_mean_absolute_error: 4.0037\n",
            "Epoch 7/20\n",
            "141/141 [==============================] - 0s 2ms/step - loss: 29.8288 - mean_absolute_error: 4.3470 - val_loss: 30.6816 - val_mean_absolute_error: 4.1815\n",
            "Epoch 8/20\n",
            "141/141 [==============================] - 0s 2ms/step - loss: 28.6752 - mean_absolute_error: 4.3322 - val_loss: 24.7664 - val_mean_absolute_error: 3.8669\n",
            "Epoch 9/20\n",
            "141/141 [==============================] - 0s 3ms/step - loss: 24.9941 - mean_absolute_error: 4.1381 - val_loss: 23.7925 - val_mean_absolute_error: 3.8156\n",
            "Epoch 10/20\n",
            "141/141 [==============================] - 0s 3ms/step - loss: 22.4271 - mean_absolute_error: 3.9580 - val_loss: 22.1650 - val_mean_absolute_error: 3.6659\n",
            "Epoch 11/20\n",
            "141/141 [==============================] - 0s 2ms/step - loss: 20.7979 - mean_absolute_error: 3.7241 - val_loss: 21.0781 - val_mean_absolute_error: 3.6348\n",
            "Epoch 12/20\n",
            "141/141 [==============================] - 0s 2ms/step - loss: 20.9284 - mean_absolute_error: 3.8223 - val_loss: 23.2641 - val_mean_absolute_error: 3.9493\n",
            "Epoch 13/20\n",
            "141/141 [==============================] - 0s 2ms/step - loss: 18.8006 - mean_absolute_error: 3.5830 - val_loss: 21.2359 - val_mean_absolute_error: 3.7126\n",
            "Epoch 14/20\n",
            "141/141 [==============================] - 0s 2ms/step - loss: 17.7617 - mean_absolute_error: 3.5189 - val_loss: 21.8845 - val_mean_absolute_error: 3.6397\n",
            "Epoch 15/20\n",
            "141/141 [==============================] - 0s 2ms/step - loss: 17.0220 - mean_absolute_error: 3.3659 - val_loss: 21.0241 - val_mean_absolute_error: 3.6080\n",
            "Epoch 16/20\n",
            "141/141 [==============================] - 0s 2ms/step - loss: 16.7506 - mean_absolute_error: 3.2718 - val_loss: 21.5837 - val_mean_absolute_error: 3.7777\n",
            "Epoch 17/20\n",
            "141/141 [==============================] - 0s 2ms/step - loss: 16.9632 - mean_absolute_error: 3.3286 - val_loss: 21.2500 - val_mean_absolute_error: 3.7170\n",
            "Epoch 18/20\n",
            "141/141 [==============================] - 0s 2ms/step - loss: 16.4851 - mean_absolute_error: 3.2916 - val_loss: 20.2529 - val_mean_absolute_error: 3.7066\n",
            "Epoch 19/20\n",
            "141/141 [==============================] - 0s 2ms/step - loss: 15.5015 - mean_absolute_error: 3.1811 - val_loss: 21.1074 - val_mean_absolute_error: 3.7966\n",
            "Epoch 20/20\n",
            "141/141 [==============================] - 0s 2ms/step - loss: 16.0282 - mean_absolute_error: 3.2265 - val_loss: 22.4419 - val_mean_absolute_error: 3.9137\n"
          ]
        }
      ]
    },
    {
      "cell_type": "code",
      "source": [
        "mae_history2 = history2.history['val_mean_absolute_error']\n",
        "mse_history2 = history2.history['val_loss']\n",
        "\n",
        "\n",
        "plt.plot(range(1, len(mse_history2) + 1), mse_history2)\n",
        "plt.xlabel('Epochs')\n",
        "plt.ylabel('Validación MSE')\n",
        "plt.show()"
      ],
      "metadata": {
        "id": "gU22Ja5mh0T9",
        "colab": {
          "base_uri": "https://localhost:8080/",
          "height": 279
        },
        "outputId": "4a73ad42-efde-4705-c1db-1c63022cec65"
      },
      "execution_count": 97,
      "outputs": [
        {
          "output_type": "display_data",
          "data": {
            "text/plain": [
              "<Figure size 432x288 with 1 Axes>"
            ],
            "image/png": "[encoded data removed]"
          },
          "metadata": {
            "needs_background": "light"
          }
        }
      ]
    },
    {
      "cell_type": "code",
      "source": [
        "loss = history2.history['loss']\n",
        "val_loss = history2.history['val_loss']\n",
        "\n",
        "epochs = range(1, len(loss) + 1)\n",
        "\n",
        "plt.plot(epochs, loss, 'bo', label='Pérdida del entreno')\n",
        "plt.plot(epochs, val_loss, 'b', label='Pérdida de la validación')\n",
        "plt.title('Perdidas del entreno y la validación')\n",
        "plt.xlabel('Épocas')\n",
        "plt.ylabel('Pérdida')\n",
        "plt.legend()\n",
        "\n",
        "plt.show()"
      ],
      "metadata": {
        "colab": {
          "base_uri": "https://localhost:8080/",
          "height": 297
        },
        "id": "fndDkin2zg-2",
        "outputId": "9e34350c-51a7-4322-d1cf-a8d75b004d89"
      },
      "execution_count": 98,
      "outputs": [
        {
          "output_type": "display_data",
          "data": {
            "text/plain": [
              "<Figure size 432x288 with 1 Axes>"
            ],
            "image/png": "[encoded data removed]"
          },
          "metadata": {
            "needs_background": "light"
          }
        }
      ]
    },
    {
      "cell_type": "code",
      "source": [
        "plt.plot(range(1, len(mae_history2) + 1), mae_history2)\n",
        "plt.xlabel('Epochs')\n",
        "plt.ylabel('Validación MAE')\n",
        "plt.show()"
      ],
      "metadata": {
        "colab": {
          "base_uri": "https://localhost:8080/",
          "height": 279
        },
        "id": "T7EKvl0ozS_z",
        "outputId": "b8524fbc-92f7-49fc-bdc2-5074c0245d71"
      },
      "execution_count": 99,
      "outputs": [
        {
          "output_type": "display_data",
          "data": {
            "text/plain": [
              "<Figure size 432x288 with 1 Axes>"
            ],
            "image/png": "[encoded data removed]"
          },
          "metadata": {
            "needs_background": "light"
          }
        }
      ]
    },
    {
      "cell_type": "markdown",
      "source": [
        "Podemos ver como funciona bastante bien durante todas las épocas. Esto significa que hemos ajustado bien las épocas a nuestro modelo."
      ],
      "metadata": {
        "id": "hK50c2NJEuvD"
      }
    },
    {
      "cell_type": "code",
      "source": [
        "loss = history2.history['mean_absolute_error']\n",
        "val_loss = history2.history['val_mean_absolute_error']\n",
        "\n",
        "epochs = range(1, len(loss) + 1)\n",
        "\n",
        "plt.plot(epochs, loss, 'bo', label='Pérdida del entreno')\n",
        "plt.plot(epochs, val_loss, 'b', label='Pérdida de la validación')\n",
        "plt.title('Perdidas del entreno y la validación')\n",
        "plt.xlabel('Épocas')\n",
        "plt.ylabel('Pérdida')\n",
        "plt.legend()\n",
        "\n",
        "plt.show()"
      ],
      "metadata": {
        "colab": {
          "base_uri": "https://localhost:8080/",
          "height": 297
        },
        "id": "r3YsiMvFzrEM",
        "outputId": "79b82556-e83d-4c22-d6fb-0ad33a8c5a45"
      },
      "execution_count": 100,
      "outputs": [
        {
          "output_type": "display_data",
          "data": {
            "text/plain": [
              "<Figure size 432x288 with 1 Axes>"
            ],
            "image/png": "[encoded data removed]"
          },
          "metadata": {
            "needs_background": "light"
          }
        }
      ]
    },
    {
      "cell_type": "markdown",
      "source": [
        "## Validamos nuestro enfoque usando la **validación K-fold o K-iteraciones**"
      ],
      "metadata": {
        "id": "T2QcEVdm83Uh"
      }
    },
    {
      "cell_type": "code",
      "source": [
        "import numpy as np\n",
        "\n",
        "# k= 4 particiones\n",
        "k = 4\n",
        "num_val_samples = len(train_data) // k # 404//4=101\n",
        "print(\"num_val_samples\", num_val_samples)\n",
        "num_epochs = 100\n",
        "all_scores = []\n",
        "for i in range(k):\n",
        "    print('processing fold #', i)\n",
        "    # Preparamos la validación de los datos: datos de la partición #k\n",
        "    print(\"Uso para validar el siguiente rango de datos de entrenamiento -> [\",(i * num_val_samples),\":\",((i + 1) * num_val_samples),\"]\")\n",
        "    val_data = train_data[i * num_val_samples: (i + 1) * num_val_samples]\n",
        "    val_targets = train_targets[i * num_val_samples: (i + 1) * num_val_samples]\n",
        "\n",
        "    # Preparamos los datos de entrenamiento: Datos de las demás particiones\n",
        "    print(\"Uso para entrenar el siguiente rango de datos de entrenamiento -> [0:\",(i * num_val_samples),\"]U[\",(i + 1) * num_val_samples,\":\",len(train_data),\"]\")\n",
        "    partial_train_data = np.concatenate(\n",
        "        [train_data[:i * num_val_samples],\n",
        "         train_data[(i + 1) * num_val_samples:]],\n",
        "        axis=0)\n",
        "    partial_train_targets = np.concatenate(\n",
        "        [train_targets[:i * num_val_samples],\n",
        "         train_targets[(i + 1) * num_val_samples:]],\n",
        "        axis=0)\n",
        "\n",
        "    # Construcción del modelo Keras (ya compilado)\n",
        "    model = build_model()\n",
        "    # Entrenando el modelo (en modo silencioso, verbose=0)\n",
        "    model.fit(partial_train_data, partial_train_targets,\n",
        "              epochs=num_epochs, batch_size=1, verbose=0)\n",
        "    # Evalua el modelo sobre los datos de validación\n",
        "    val_mse, val_mae = model.evaluate(val_data, val_targets, verbose=0)\n",
        "    all_scores.append(val_mae)"
      ],
      "metadata": {
        "colab": {
          "base_uri": "https://localhost:8080/"
        },
        "id": "DOW7NSVl1enn",
        "outputId": "3c25de9b-b6c1-44b2-b7bb-5ab581dc9a55"
      },
      "execution_count": 101,
      "outputs": [
        {
          "output_type": "stream",
          "name": "stdout",
          "text": [
            "num_val_samples 47\n",
            "processing fold # 0\n",
            "Uso para validar el siguiente rango de datos de entrenamiento -> [ 0 : 47 ]\n",
            "Uso para entrenar el siguiente rango de datos de entrenamiento -> [0: 0 ]U[ 47 : 189 ]\n",
            "processing fold # 1\n",
            "Uso para validar el siguiente rango de datos de entrenamiento -> [ 47 : 94 ]\n",
            "Uso para entrenar el siguiente rango de datos de entrenamiento -> [0: 47 ]U[ 94 : 189 ]\n",
            "processing fold # 2\n",
            "Uso para validar el siguiente rango de datos de entrenamiento -> [ 94 : 141 ]\n",
            "Uso para entrenar el siguiente rango de datos de entrenamiento -> [0: 94 ]U[ 141 : 189 ]\n",
            "processing fold # 3\n",
            "Uso para validar el siguiente rango de datos de entrenamiento -> [ 141 : 188 ]\n",
            "Uso para entrenar el siguiente rango de datos de entrenamiento -> [0: 141 ]U[ 188 : 189 ]\n"
          ]
        }
      ]
    },
    {
      "cell_type": "code",
      "source": [
        "all_scores"
      ],
      "metadata": {
        "colab": {
          "base_uri": "https://localhost:8080/"
        },
        "id": "QrWdQ8qE1jn7",
        "outputId": "96271f2b-5e0d-4192-ca0f-73c2f2c61cb0"
      },
      "execution_count": 102,
      "outputs": [
        {
          "output_type": "execute_result",
          "data": {
            "text/plain": [
              "[4.854494571685791, 4.416454315185547, 3.9626357555389404, 4.065295696258545]"
            ]
          },
          "metadata": {},
          "execution_count": 102
        }
      ]
    },
    {
      "cell_type": "code",
      "source": [
        "np.mean(all_scores)"
      ],
      "metadata": {
        "colab": {
          "base_uri": "https://localhost:8080/"
        },
        "id": "QAnoweCw1mx0",
        "outputId": "57d88ce3-cca7-4df3-8828-610b6dc6cefb"
      },
      "execution_count": 103,
      "outputs": [
        {
          "output_type": "execute_result",
          "data": {
            "text/plain": [
              "4.324720084667206"
            ]
          },
          "metadata": {},
          "execution_count": 103
        }
      ]
    },
    {
      "cell_type": "code",
      "source": [
        "from keras import backend as K\n",
        "\n",
        "# Some memory clean-up\n",
        "K.clear_session()"
      ],
      "metadata": {
        "id": "QtbTBYQv_M6O"
      },
      "execution_count": 104,
      "outputs": []
    },
    {
      "cell_type": "code",
      "source": [
        "num_epochs = 100\n",
        "all_mae_histories = []\n",
        "for i in range(k):\n",
        "    print('processing fold #', i)\n",
        "    # Preparamos la validación de los datos: datos de la partición # k\n",
        "    print(\"Uso para validar el siguiente rango de datos de entrenamiento -> [\",(i * num_val_samples),\":\",((i + 1) * num_val_samples),\"]\")\n",
        "    val_data = train_data[i * num_val_samples: (i + 1) * num_val_samples]\n",
        "    val_targets = train_targets[i * num_val_samples: (i + 1) * num_val_samples]\n",
        "\n",
        "    # Preparamos los datos de entrenamiento: Datos de todas la demás particiones\n",
        "    print(\"Uso para entrenar el siguiente rango de datos de entrenamiento -> [0:\",(i * num_val_samples),\"]U[\",(i + 1) * num_val_samples,\":\",len(train_data),\"]\")\n",
        "    partial_train_data = np.concatenate(\n",
        "        [train_data[:i * num_val_samples],\n",
        "         train_data[(i + 1) * num_val_samples:]],\n",
        "        axis=0)\n",
        "    partial_train_targets = np.concatenate(\n",
        "        [train_targets[:i * num_val_samples],\n",
        "         train_targets[(i + 1) * num_val_samples:]],\n",
        "        axis=0)\n",
        "\n",
        "    # Construcción del modelo Keras (ya compilado)\n",
        "    model = build_model()\n",
        "    # Entrenando el modelo (en modo silencioso, verbose=0)\n",
        "    history = model.fit(partial_train_data, partial_train_targets,\n",
        "                        validation_data=(val_data, val_targets),\n",
        "                        epochs=num_epochs, batch_size=1, verbose=0)\n",
        "    mae_history = history.history['val_mean_absolute_error']\n",
        "    all_mae_histories.append(mae_history)"
      ],
      "metadata": {
        "id": "jnC02RQq_PM9",
        "outputId": "706d3038-4f38-4b27-8677-b70f037a332d",
        "colab": {
          "base_uri": "https://localhost:8080/"
        }
      },
      "execution_count": 105,
      "outputs": [
        {
          "output_type": "stream",
          "name": "stdout",
          "text": [
            "processing fold # 0\n",
            "Uso para validar el siguiente rango de datos de entrenamiento -> [ 0 : 47 ]\n",
            "Uso para entrenar el siguiente rango de datos de entrenamiento -> [0: 0 ]U[ 47 : 189 ]\n",
            "processing fold # 1\n",
            "Uso para validar el siguiente rango de datos de entrenamiento -> [ 47 : 94 ]\n",
            "Uso para entrenar el siguiente rango de datos de entrenamiento -> [0: 47 ]U[ 94 : 189 ]\n",
            "processing fold # 2\n",
            "Uso para validar el siguiente rango de datos de entrenamiento -> [ 94 : 141 ]\n",
            "Uso para entrenar el siguiente rango de datos de entrenamiento -> [0: 94 ]U[ 141 : 189 ]\n",
            "processing fold # 3\n",
            "Uso para validar el siguiente rango de datos de entrenamiento -> [ 141 : 188 ]\n",
            "Uso para entrenar el siguiente rango de datos de entrenamiento -> [0: 141 ]U[ 188 : 189 ]\n"
          ]
        }
      ]
    },
    {
      "cell_type": "code",
      "source": [
        "average_mae_history = [\n",
        "    np.mean([x[i] for x in all_mae_histories]) for i in range(num_epochs)]"
      ],
      "metadata": {
        "id": "enAXuhkG1yQW"
      },
      "execution_count": 106,
      "outputs": []
    },
    {
      "cell_type": "code",
      "source": [
        "import matplotlib.pyplot as plt\n",
        "\n",
        "plt.plot(range(1, len(average_mae_history) + 1), average_mae_history)\n",
        "plt.xlabel('Epochs')\n",
        "plt.ylabel('Validación MAE')\n",
        "plt.show()"
      ],
      "metadata": {
        "colab": {
          "base_uri": "https://localhost:8080/",
          "height": 279
        },
        "id": "e-dHg8A913Cx",
        "outputId": "e3fb29e6-2093-4542-fb4e-233227ec2db8"
      },
      "execution_count": 107,
      "outputs": [
        {
          "output_type": "display_data",
          "data": {
            "text/plain": [
              "<Figure size 432x288 with 1 Axes>"
            ],
            "image/png": "[encoded data removed]"
          },
          "metadata": {
            "needs_background": "light"
          }
        }
      ]
    },
    {
      "cell_type": "markdown",
      "source": [
        "Al igual que con el método que hemos hecho antes de hacer los K-Folds vemos que se empieza a sobreentrenar alrededor de la época 20."
      ],
      "metadata": {
        "id": "x63s7aZOFwN7"
      }
    },
    {
      "cell_type": "code",
      "source": [
        "def smooth_curve(points, factor=0.9):\n",
        "  smoothed_points = []\n",
        "  for point in points:\n",
        "    if smoothed_points:\n",
        "      previous = smoothed_points[-1]\n",
        "      smoothed_points.append(previous * factor + point * (1 - factor))\n",
        "    else:\n",
        "      smoothed_points.append(point)\n",
        "  return smoothed_points\n",
        "\n",
        "smooth_mae_history = smooth_curve(average_mae_history[10:])\n",
        "\n",
        "plt.plot(range(1, len(smooth_mae_history) + 1), smooth_mae_history)\n",
        "plt.xlabel('Repeticiones')\n",
        "plt.ylabel('MAE de validación')\n",
        "plt.show()"
      ],
      "metadata": {
        "colab": {
          "base_uri": "https://localhost:8080/",
          "height": 282
        },
        "id": "B5whK5Pl15tk",
        "outputId": "d55cdc6f-2187-4b4d-8656-f6e81f6a0651"
      },
      "execution_count": 108,
      "outputs": [
        {
          "output_type": "display_data",
          "data": {
            "text/plain": [
              "<Figure size 432x288 with 1 Axes>"
            ],
            "image/png": "[encoded data removed]"
          },
          "metadata": {
            "needs_background": "light"
          }
        }
      ]
    },
    {
      "cell_type": "code",
      "source": [
        "# Obtenemos un modelo compilado nuevo\n",
        "model = build_model()\n",
        "# Lo entrenamos en todos los datos.\n",
        "model.fit(train_data, train_targets,\n",
        "          epochs=80, batch_size=16, verbose=0)\n",
        "test_mse_score, test_mae_score = model.evaluate(test_data, test_targets)"
      ],
      "metadata": {
        "colab": {
          "base_uri": "https://localhost:8080/"
        },
        "id": "QFV8KTez19H0",
        "outputId": "b46e7cf0-ef3d-4286-b2ff-a5924bbd7619"
      },
      "execution_count": 109,
      "outputs": [
        {
          "output_type": "stream",
          "name": "stdout",
          "text": [
            "2/2 [==============================] - 0s 5ms/step - loss: 29.6744 - mean_absolute_error: 4.4877\n"
          ]
        }
      ]
    },
    {
      "cell_type": "code",
      "source": [
        "test_mae_score"
      ],
      "metadata": {
        "colab": {
          "base_uri": "https://localhost:8080/"
        },
        "id": "KjOJs-zd194k",
        "outputId": "20025bbb-cc23-4d42-f0c4-bbcee2b2df24"
      },
      "execution_count": 110,
      "outputs": [
        {
          "output_type": "execute_result",
          "data": {
            "text/plain": [
              "4.48767614364624"
            ]
          },
          "metadata": {},
          "execution_count": 110
        }
      ]
    },
    {
      "cell_type": "markdown",
      "source": [
        "Aún estamos desviados 1.09% de la masa corporal.\n",
        "\n",
        "Esto indica que si lo hacemos con K-Folds hemos conseguido disminuir la desviación de nuestro porcentaje de masa temporal de 1,37% a un 1,09%, lo cúal es un cambio bastante significativo."
      ],
      "metadata": {
        "id": "GaanaGqzAaHi"
      }
    },
    {
      "cell_type": "markdown",
      "source": [
        "- Age (years) \n",
        "- Weight (lbs) \n",
        "- Height (inches) \n",
        "- Neck circumference (cm)\n",
        "- Chest circumference (cm)\n",
        "- Abdomen 2 circumference (cm)\n",
        "- Hip circumference (cm)\n",
        "- Thigh circumference (cm)\n",
        "- Knee circumference (cm)\n",
        "- Ankle circumference (cm)\n",
        "- Biceps (extended) circumference (cm)\n",
        "- Forearm circumference (cm)\n",
        "- Wrist circumference (cm)\n",
        "\n"
      ],
      "metadata": {
        "id": "ZUZ_voRUyGSA"
      }
    },
    {
      "cell_type": "code",
      "source": [
        "cerecito = [[21 , 160.937 , 70.4724 , 39 , 98 , 83 , 86 , 57 , 36 , 25 , 32 , 27 , 17 ]]\n",
        "cerecito = pd.DataFrame(cerecito,columns = ['Age', 'Weight', 'Height', 'Neck', 'Chest', 'Abdomen', 'Hip', 'Thigh',\n",
        "       'Knee', 'Ankle', 'Biceps', 'Forearm', 'Wrist'])\n"
      ],
      "metadata": {
        "id": "-yPqVRzvyfn2"
      },
      "execution_count": 111,
      "outputs": []
    },
    {
      "cell_type": "code",
      "source": [
        "cerecito -= mean\n",
        "cerecito /= std\n",
        "cerecito"
      ],
      "metadata": {
        "id": "xfidF6aG3ACG",
        "outputId": "fc826fd8-fae5-410d-a785-b41e61acfa48",
        "colab": {
          "base_uri": "https://localhost:8080/",
          "height": 81
        }
      },
      "execution_count": 112,
      "outputs": [
        {
          "output_type": "execute_result",
          "data": {
            "text/plain": [
              "        Age    Weight    Height      Neck     Chest   Abdomen       Hip  \\\n",
              "0 -1.739371 -0.587978  0.058408  0.442955 -0.260294 -0.823306 -1.889373   \n",
              "\n",
              "      Thigh      Knee     Ankle    Biceps   Forearm     Wrist  \n",
              "0 -0.472845 -1.077862  1.035103 -0.094866 -0.840941 -1.257557  "
            ],
            "text/html": [
              "\n",
              "  <div id=\"df-07c1d6bc-17eb-4665-aae0-04b9efcce4c7\">\n",
              "    <div class=\"colab-df-container\">\n",
              "      <div>\n",
              "<style scoped>\n",
              "    .dataframe tbody tr th:only-of-type {\n",
              "        vertical-align: middle;\n",
              "    }\n",
              "\n",
              "    .dataframe tbody tr th {\n",
              "        vertical-align: top;\n",
              "    }\n",
              "\n",
              "    .dataframe thead th {\n",
              "        text-align: right;\n",
              "    }\n",
              "</style>\n",
              "<table border=\"1\" class=\"dataframe\">\n",
              "  <thead>\n",
              "    <tr style=\"text-align: right;\">\n",
              "      <th></th>\n",
              "      <th>Age</th>\n",
              "      <th>Weight</th>\n",
              "      <th>Height</th>\n",
              "      <th>Neck</th>\n",
              "      <th>Chest</th>\n",
              "      <th>Abdomen</th>\n",
              "      <th>Hip</th>\n",
              "      <th>Thigh</th>\n",
              "      <th>Knee</th>\n",
              "      <th>Ankle</th>\n",
              "      <th>Biceps</th>\n",
              "      <th>Forearm</th>\n",
              "      <th>Wrist</th>\n",
              "    </tr>\n",
              "  </thead>\n",
              "  <tbody>\n",
              "    <tr>\n",
              "      <th>0</th>\n",
              "      <td>-1.739371</td>\n",
              "      <td>-0.587978</td>\n",
              "      <td>0.058408</td>\n",
              "      <td>0.442955</td>\n",
              "      <td>-0.260294</td>\n",
              "      <td>-0.823306</td>\n",
              "      <td>-1.889373</td>\n",
              "      <td>-0.472845</td>\n",
              "      <td>-1.077862</td>\n",
              "      <td>1.035103</td>\n",
              "      <td>-0.094866</td>\n",
              "      <td>-0.840941</td>\n",
              "      <td>-1.257557</td>\n",
              "    </tr>\n",
              "  </tbody>\n",
              "</table>\n",
              "</div>\n",
              "      <button class=\"colab-df-convert\" onclick=\"convertToInteractive('df-07c1d6bc-17eb-4665-aae0-04b9efcce4c7')\"\n",
              "              title=\"Convert this dataframe to an interactive table.\"\n",
              "              style=\"display:none;\">\n",
              "        \n",
              "  <svg xmlns=\"http://www.w3.org/2000/svg\" height=\"24px\"viewBox=\"0 0 24 24\"\n",
              "       width=\"24px\">\n",
              "    <path d=\"M0 0h24v24H0V0z\" fill=\"none\"/>\n",
              "    <path d=\"M18.56 5.44l.94 2.06.94-2.06 2.06-.94-2.06-.94-.94-2.06-.94 2.06-2.06.94zm-11 1L8.5 8.5l.94-2.06 2.06-.94-2.06-.94L8.5 2.5l-.94 2.06-2.06.94zm10 10l.94 2.06.94-2.06 2.06-.94-2.06-.94-.94-2.06-.94 2.06-2.06.94z\"/><path d=\"M17.41 7.96l-1.37-1.37c-.4-.4-.92-.59-1.43-.59-.52 0-1.04.2-1.43.59L10.3 9.45l-7.72 7.72c-.78.78-.78 2.05 0 2.83L4 21.41c.39.39.9.59 1.41.59.51 0 1.02-.2 1.41-.59l7.78-7.78 2.81-2.81c.8-.78.8-2.07 0-2.86zM5.41 20L4 18.59l7.72-7.72 1.47 1.35L5.41 20z\"/>\n",
              "  </svg>\n",
              "      </button>\n",
              "      \n",
              "  <style>\n",
              "    .colab-df-container {\n",
              "      display:flex;\n",
              "      flex-wrap:wrap;\n",
              "      gap: 12px;\n",
              "    }\n",
              "\n",
              "    .colab-df-convert {\n",
              "      background-color: #E8F0FE;\n",
              "      border: none;\n",
              "      border-radius: 50%;\n",
              "      cursor: pointer;\n",
              "      display: none;\n",
              "      fill: #1967D2;\n",
              "      height: 32px;\n",
              "      padding: 0 0 0 0;\n",
              "      width: 32px;\n",
              "    }\n",
              "\n",
              "    .colab-df-convert:hover {\n",
              "      background-color: #E2EBFA;\n",
              "      box-shadow: 0px 1px 2px rgba(60, 64, 67, 0.3), 0px 1px 3px 1px rgba(60, 64, 67, 0.15);\n",
              "      fill: #174EA6;\n",
              "    }\n",
              "\n",
              "    [theme=dark] .colab-df-convert {\n",
              "      background-color: #3B4455;\n",
              "      fill: #D2E3FC;\n",
              "    }\n",
              "\n",
              "    [theme=dark] .colab-df-convert:hover {\n",
              "      background-color: #434B5C;\n",
              "      box-shadow: 0px 1px 3px 1px rgba(0, 0, 0, 0.15);\n",
              "      filter: drop-shadow(0px 1px 2px rgba(0, 0, 0, 0.3));\n",
              "      fill: #FFFFFF;\n",
              "    }\n",
              "  </style>\n",
              "\n",
              "      <script>\n",
              "        const buttonEl =\n",
              "          document.querySelector('#df-07c1d6bc-17eb-4665-aae0-04b9efcce4c7 button.colab-df-convert');\n",
              "        buttonEl.style.display =\n",
              "          google.colab.kernel.accessAllowed ? 'block' : 'none';\n",
              "\n",
              "        async function convertToInteractive(key) {\n",
              "          const element = document.querySelector('#df-07c1d6bc-17eb-4665-aae0-04b9efcce4c7');\n",
              "          const dataTable =\n",
              "            await google.colab.kernel.invokeFunction('convertToInteractive',\n",
              "                                                     [key], {});\n",
              "          if (!dataTable) return;\n",
              "\n",
              "          const docLinkHtml = 'Like what you see? Visit the ' +\n",
              "            '<a target=\"_blank\" href=https://colab.research.google.com/notebooks/data_table.ipynb>data table notebook</a>'\n",
              "            + ' to learn more about interactive tables.';\n",
              "          element.innerHTML = '';\n",
              "          dataTable['output_type'] = 'display_data';\n",
              "          await google.colab.output.renderOutput(dataTable, element);\n",
              "          const docLink = document.createElement('div');\n",
              "          docLink.innerHTML = docLinkHtml;\n",
              "          element.appendChild(docLink);\n",
              "        }\n",
              "      </script>\n",
              "    </div>\n",
              "  </div>\n",
              "  "
            ]
          },
          "metadata": {},
          "execution_count": 112
        }
      ]
    },
    {
      "cell_type": "code",
      "source": [
        "cerecito.shape[1:]"
      ],
      "metadata": {
        "id": "dWxuHWCF3sJs",
        "outputId": "56a60f16-7f47-4997-e69d-dd0f70755c01",
        "colab": {
          "base_uri": "https://localhost:8080/"
        }
      },
      "execution_count": 113,
      "outputs": [
        {
          "output_type": "execute_result",
          "data": {
            "text/plain": [
              "(13,)"
            ]
          },
          "metadata": {},
          "execution_count": 113
        }
      ]
    },
    {
      "cell_type": "code",
      "source": [
        "grasa = mymodel.predict(cerecito)\n",
        "grasa"
      ],
      "metadata": {
        "id": "ZOwX1tuDysOy",
        "outputId": "01490d51-571b-41cd-a858-418b320c8da8",
        "colab": {
          "base_uri": "https://localhost:8080/"
        }
      },
      "execution_count": 114,
      "outputs": [
        {
          "output_type": "stream",
          "name": "stdout",
          "text": [
            "1/1 [==============================] - 0s 57ms/step\n"
          ]
        },
        {
          "output_type": "execute_result",
          "data": {
            "text/plain": [
              "array([[14.117295]], dtype=float32)"
            ]
          },
          "metadata": {},
          "execution_count": 114
        }
      ]
    },
    {
      "cell_type": "code",
      "source": [
        "grasa = model.predict(cerecito)\n",
        "grasa"
      ],
      "metadata": {
        "id": "gSJzPtFE3JdL",
        "outputId": "4eec38aa-cf19-4862-ffa2-a0eb64467dba",
        "colab": {
          "base_uri": "https://localhost:8080/"
        }
      },
      "execution_count": 115,
      "outputs": [
        {
          "output_type": "stream",
          "name": "stdout",
          "text": [
            "1/1 [==============================] - 0s 50ms/step\n"
          ]
        },
        {
          "output_type": "execute_result",
          "data": {
            "text/plain": [
              "array([[16.361773]], dtype=float32)"
            ]
          },
          "metadata": {},
          "execution_count": 115
        }
      ]
    }
  ]
}